{
 "cells": [
  {
   "cell_type": "markdown",
   "id": "9ccbea97",
   "metadata": {},
   "source": [
    "https://www.perplexity.ai/search/8a22aac5-dc37-4bbb-bb81-9edfdd6f0e53"
   ]
  },
  {
   "cell_type": "code",
   "execution_count": 15,
   "id": "ca1bcf95",
   "metadata": {},
   "outputs": [
    {
     "name": "stdout",
     "output_type": "stream",
     "text": [
      "  1.陳家維\n",
      "  2.蘇婷婷\n",
      "  3.李美洋\n"
     ]
    }
   ],
   "source": [
    "import random\n",
    "\n",
    "file = open(\"names.txt\",encoding='utf-8')\n",
    "contents:list[str] = file.readlines()\n",
    "file.close()\n",
    "names:list[str] = [name.strip() for name in contents]\n",
    "pick = int(input(\"請輸入所需要的姓名數量:\"));\n",
    "\n",
    "for i in range(0, pick):\n",
    "    index = random.randint(0, len(names));\n",
    "    print(f\"{i+1:3d}.{names[index]}\");\n",
    "\n",
    "file.close();"
   ]
  },
  {
   "cell_type": "code",
   "execution_count": 16,
   "id": "3370cf71",
   "metadata": {},
   "outputs": [
    {
     "name": "stdout",
     "output_type": "stream",
     "text": [
      "1.洪奎夫\n",
      "2.林珍旺\n",
      "3.潘俊賢\n",
      "4.林益妏\n",
      "5.楊火帆\n"
     ]
    }
   ],
   "source": [
    "import random\n",
    "\n",
    "file = open(\"names.txt\",encoding='utf-8')\n",
    "contents:list[str] = file.readlines()\n",
    "file.close()\n",
    "names:list[str] = [name.strip() for name in contents]\n",
    "pick = int(input(\"請輸入所需要的姓名數量:\"));\n",
    "\n",
    "for idx, name in enumerate(random.sample(names, pick)):\n",
    "    print(f'{idx+1}.{name}')\n"
   ]
  },
  {
   "cell_type": "markdown",
   "id": "47f03863",
   "metadata": {},
   "source": [
    "### 建立記憶體的表格資料"
   ]
  },
  {
   "cell_type": "code",
   "execution_count": 10,
   "id": "66684941",
   "metadata": {},
   "outputs": [
    {
     "data": {
      "text/plain": [
       "[{'姓名': '聶心怡', '國文': 93, '英文': 65, '數學': 84},\n",
       " {'姓名': '王德城', '國文': 73, '英文': 53, '數學': 77},\n",
       " {'姓名': '林思賢', '國文': 77, '英文': 60, '數學': 66}]"
      ]
     },
     "execution_count": 10,
     "metadata": {},
     "output_type": "execute_result"
    }
   ],
   "source": [
    "import random\n",
    "\n",
    "file = open(\"names.txt\",encoding='utf-8')\n",
    "contents:list[str] = file.readlines()\n",
    "file.close()\n",
    "names:list[str] = [name.strip() for name in contents]\n",
    "pick = int(input(\"請輸入所需要的姓名數量:\"));\n",
    "\n",
    "selected_names = random.sample(names, pick)\n",
    "students_data:list[dict] = [\n",
    "    {\n",
    "        '姓名':name,\n",
    "        '國文':random.randint(50,100),\n",
    "        '英文':random.randint(50,100),\n",
    "        '數學':random.randint(50, 100) \n",
    "    }\n",
    "    for name in selected_names]\n",
    "students_data"
   ]
  },
  {
   "cell_type": "code",
   "execution_count": 9,
   "id": "c6b88c8a",
   "metadata": {},
   "outputs": [
    {
     "data": {
      "text/plain": [
       "[{'姓名': '謝佳穎', '國文': 80, '英文': 80, '數學': 73},\n",
       " {'姓名': '馮芳如', '國文': 69, '英文': 56, '數學': 97},\n",
       " {'姓名': '游倫城', '國文': 73, '英文': 51, '數學': 75},\n",
       " {'姓名': '李蓉瑞', '國文': 82, '英文': 54, '數學': 67},\n",
       " {'姓名': '胡芳瑜', '國文': 97, '英文': 76, '數學': 63}]"
      ]
     },
     "execution_count": 9,
     "metadata": {},
     "output_type": "execute_result"
    }
   ],
   "source": [
    "import random\n",
    "\n",
    "with open(\"names.txt\",encoding='utf-8') as file:\n",
    "    contents:list[str] = file.readlines()\n",
    "\n",
    "names:list[str] = [name.strip() for name in contents]\n",
    "pick = int(input(\"請輸入所需要的姓名數量:\"));\n",
    "\n",
    "selected_names = random.sample(names, pick)\n",
    "students_data:list[dict] = [\n",
    "    {\n",
    "        '姓名':name,\n",
    "        '國文':random.randint(50,100),\n",
    "        '英文':random.randint(50,100),\n",
    "        '數學':random.randint(50, 100) \n",
    "    }\n",
    "    for name in selected_names]\n",
    "students_data"
   ]
  },
  {
   "cell_type": "code",
   "execution_count": 12,
   "id": "db66251a",
   "metadata": {},
   "outputs": [
    {
     "name": "stdout",
     "output_type": "stream",
     "text": [
      "寫入成功\n"
     ]
    }
   ],
   "source": [
    "# 指定欄位名稱(欄位順序)\n",
    "import csv\n",
    "filednames = students_data[0].keys()\n",
    "\n",
    "with open(\"students.csv\",\"w\",newline=\"\" ,encoding='utf-8') as csvfile:\n",
    "    writer = csv.DictWriter(csvfile,fieldnames=filednames)\n",
    "    writer.writeheader()\n",
    "    writer.writerows(students_data)\n",
    "print(\"寫入成功\")"
   ]
  },
  {
   "cell_type": "markdown",
   "id": "bd911c2a",
   "metadata": {},
   "source": [
    "### 利用csv.DictWriter(),建立csv檔"
   ]
  },
  {
   "cell_type": "code",
   "execution_count": 1,
   "id": "3847eb53",
   "metadata": {},
   "outputs": [
    {
     "ename": "NameError",
     "evalue": "name 'students_data' is not defined",
     "output_type": "error",
     "traceback": [
      "\u001b[31m---------------------------------------------------------------------------\u001b[39m",
      "\u001b[31mNameError\u001b[39m                                 Traceback (most recent call last)",
      "\u001b[36mCell\u001b[39m\u001b[36m \u001b[39m\u001b[32mIn[1]\u001b[39m\u001b[32m, line 4\u001b[39m\n\u001b[32m      1\u001b[39m \u001b[38;5;66;03m# 指定欄位名稱（欄位順序）\u001b[39;00m\n\u001b[32m      2\u001b[39m \u001b[38;5;28;01mimport\u001b[39;00m \u001b[34;01mcsv\u001b[39;00m\n\u001b[32m----> \u001b[39m\u001b[32m4\u001b[39m filednames = \u001b[43mstudents_data\u001b[49m[\u001b[32m0\u001b[39m].keys()\n\u001b[32m      6\u001b[39m \u001b[38;5;28;01mwith\u001b[39;00m \u001b[38;5;28mopen\u001b[39m(\u001b[33m'\u001b[39m\u001b[33mstudents.csv\u001b[39m\u001b[33m'\u001b[39m,\u001b[33m'\u001b[39m\u001b[33mw\u001b[39m\u001b[33m'\u001b[39m,newline=\u001b[33m'\u001b[39m\u001b[33m'\u001b[39m,encoding=\u001b[33m'\u001b[39m\u001b[33mutf-8\u001b[39m\u001b[33m'\u001b[39m) \u001b[38;5;28;01mas\u001b[39;00m csvfile:\n\u001b[32m      7\u001b[39m     writer = csv.DictWriter(csvfile,fieldnames=filednames)\n",
      "\u001b[31mNameError\u001b[39m: name 'students_data' is not defined"
     ]
    }
   ],
   "source": [
    "# 指定欄位名稱（欄位順序）\n",
    "import csv\n",
    "\n",
    "filednames = students_data[0].keys()\n",
    "\n",
    "with open('students.csv','w',newline='',encoding='utf-8') as csvfile:\n",
    "    writer = csv.DictWriter(csvfile,fieldnames=filednames)\n",
    "    # 寫入欄位標題\n",
    "    writer.writeheader()\n",
    "    \n",
    "    # 寫入多筆資料\n",
    "    writer.writerows(students_data)\n",
    "print(\"寫入成功\")"
   ]
  }
 ],
 "metadata": {
  "kernelspec": {
   "display_name": "base",
   "language": "python",
   "name": "python3"
  },
  "language_info": {
   "codemirror_mode": {
    "name": "ipython",
    "version": 3
   },
   "file_extension": ".py",
   "mimetype": "text/x-python",
   "name": "python",
   "nbconvert_exporter": "python",
   "pygments_lexer": "ipython3",
   "version": "3.12.9"
  }
 },
 "nbformat": 4,
 "nbformat_minor": 5
}
