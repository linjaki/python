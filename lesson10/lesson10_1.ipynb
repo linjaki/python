{
 "cells": [
  {
   "cell_type": "markdown",
   "id": "9ccbea97",
   "metadata": {},
   "source": [
    "https://www.perplexity.ai/search/8a22aac5-dc37-4bbb-bb81-9edfdd6f0e53"
   ]
  },
  {
   "cell_type": "code",
   "execution_count": 15,
   "id": "ca1bcf95",
   "metadata": {},
   "outputs": [
    {
     "name": "stdout",
     "output_type": "stream",
     "text": [
      "  1.陳家維\n",
      "  2.蘇婷婷\n",
      "  3.李美洋\n"
     ]
    }
   ],
   "source": [
    "import random\n",
    "\n",
    "file = open(\"names.txt\",encoding='utf-8')\n",
    "contents:list[str] = file.readlines()\n",
    "file.close()\n",
    "names:list[str] = [name.strip() for name in contents]\n",
    "pick = int(input(\"請輸入所需要的姓名數量:\"));\n",
    "\n",
    "for i in range(0, pick):\n",
    "    index = random.randint(0, len(names));\n",
    "    print(f\"{i+1:3d}.{names[index]}\");\n",
    "\n",
    "file.close();"
   ]
  },
  {
   "cell_type": "code",
   "execution_count": 16,
   "id": "3370cf71",
   "metadata": {},
   "outputs": [
    {
     "name": "stdout",
     "output_type": "stream",
     "text": [
      "1.洪奎夫\n",
      "2.林珍旺\n",
      "3.潘俊賢\n",
      "4.林益妏\n",
      "5.楊火帆\n"
     ]
    }
   ],
   "source": [
    "import random\n",
    "\n",
    "file = open(\"names.txt\",encoding='utf-8')\n",
    "contents:list[str] = file.readlines()\n",
    "file.close()\n",
    "names:list[str] = [name.strip() for name in contents]\n",
    "pick = int(input(\"請輸入所需要的姓名數量:\"));\n",
    "\n",
    "for idx, name in enumerate(random.sample(names, pick)):\n",
    "    print(f'{idx+1}.{name}')\n"
   ]
  },
  {
   "cell_type": "markdown",
   "id": "47f03863",
   "metadata": {},
   "source": [
    "### 建立記憶體的表格資料"
   ]
  },
  {
   "cell_type": "code",
   "execution_count": 10,
   "id": "66684941",
   "metadata": {},
   "outputs": [
    {
     "data": {
      "text/plain": [
       "[{'姓名': '聶心怡', '國文': 93, '英文': 65, '數學': 84},\n",
       " {'姓名': '王德城', '國文': 73, '英文': 53, '數學': 77},\n",
       " {'姓名': '林思賢', '國文': 77, '英文': 60, '數學': 66}]"
      ]
     },
     "execution_count": 10,
     "metadata": {},
     "output_type": "execute_result"
    }
   ],
   "source": [
    "import random\n",
    "\n",
    "file = open(\"names.txt\",encoding='utf-8')\n",
    "contents:list[str] = file.readlines()\n",
    "file.close()\n",
    "names:list[str] = [name.strip() for name in contents]\n",
    "pick = int(input(\"請輸入所需要的姓名數量:\"));\n",
    "\n",
    "selected_names = random.sample(names, pick)\n",
    "students_data:list[dict] = [\n",
    "    {\n",
    "        '姓名':name,\n",
    "        '國文':random.randint(50,100),\n",
    "        '英文':random.randint(50,100),\n",
    "        '數學':random.randint(50, 100) \n",
    "    }\n",
    "    for name in selected_names]\n",
    "students_data"
   ]
  },
  {
   "cell_type": "code",
   "execution_count": 9,
   "id": "c6b88c8a",
   "metadata": {},
   "outputs": [
    {
     "data": {
      "text/plain": [
       "[{'姓名': '謝佳穎', '國文': 80, '英文': 80, '數學': 73},\n",
       " {'姓名': '馮芳如', '國文': 69, '英文': 56, '數學': 97},\n",
       " {'姓名': '游倫城', '國文': 73, '英文': 51, '數學': 75},\n",
       " {'姓名': '李蓉瑞', '國文': 82, '英文': 54, '數學': 67},\n",
       " {'姓名': '胡芳瑜', '國文': 97, '英文': 76, '數學': 63}]"
      ]
     },
     "execution_count": 9,
     "metadata": {},
     "output_type": "execute_result"
    }
   ],
   "source": [
    "import random\n",
    "\n",
    "with open(\"names.txt\",encoding='utf-8') as file:\n",
    "    contents:list[str] = file.readlines()\n",
    "\n",
    "names:list[str] = [name.strip() for name in contents]\n",
    "pick = int(input(\"請輸入所需要的姓名數量:\"));\n",
    "\n",
    "selected_names = random.sample(names, pick)\n",
    "students_data:list[dict] = [\n",
    "    {\n",
    "        '姓名':name,\n",
    "        '國文':random.randint(50,100),\n",
    "        '英文':random.randint(50,100),\n",
    "        '數學':random.randint(50, 100) \n",
    "    }\n",
    "    for name in selected_names]\n",
    "students_data"
   ]
  },
  {
   "cell_type": "code",
   "execution_count": 12,
   "id": "db66251a",
   "metadata": {},
   "outputs": [
    {
     "name": "stdout",
     "output_type": "stream",
     "text": [
      "寫入成功\n"
     ]
    }
   ],
   "source": [
    "# 指定欄位名稱(欄位順序)\n",
    "import csv\n",
    "filednames = students_data[0].keys()\n",
    "\n",
    "with open(\"students.csv\",\"w\",newline=\"\" ,encoding='utf-8') as csvfile:\n",
    "    writer = csv.DictWriter(csvfile,fieldnames=filednames)\n",
    "    writer.writeheader()\n",
    "    writer.writerows(students_data)\n",
    "print(\"寫入成功\")"
   ]
  },
  {
   "cell_type": "code",
   "execution_count": 2,
   "id": "fb90d6e8",
   "metadata": {},
   "outputs": [
    {
     "data": {
      "text/plain": [
       "[{'姓名': '王孝純', '國文': 91, '英文': 87, '數學': 89},\n",
       " {'姓名': '游一鈺', '國文': 62, '英文': 89, '數學': 71},\n",
       " {'姓名': '蔡世馨', '國文': 68, '英文': 82, '數學': 94},\n",
       " {'姓名': '張家秀', '國文': 68, '英文': 57, '數學': 77},\n",
       " {'姓名': '周芷蓁', '國文': 74, '英文': 85, '數學': 78},\n",
       " {'姓名': '張明惟', '國文': 56, '英文': 88, '數學': 86},\n",
       " {'姓名': '簡國瑋', '國文': 54, '英文': 53, '數學': 87},\n",
       " {'姓名': '楊偉翔', '國文': 81, '英文': 72, '數學': 83},\n",
       " {'姓名': '黃柏宇', '國文': 89, '英文': 50, '數學': 64},\n",
       " {'姓名': '劉雯芬', '國文': 81, '英文': 66, '數學': 92},\n",
       " {'姓名': '吳俐芷', '國文': 86, '英文': 58, '數學': 83},\n",
       " {'姓名': '余丞苓', '國文': 84, '英文': 51, '數學': 87},\n",
       " {'姓名': '林佳光', '國文': 86, '英文': 70, '數學': 75},\n",
       " {'姓名': '黃名明', '國文': 57, '英文': 98, '數學': 88},\n",
       " {'姓名': '聶心怡', '國文': 59, '英文': 62, '數學': 98},\n",
       " {'姓名': '劉林中', '國文': 87, '英文': 79, '數學': 60},\n",
       " {'姓名': '陳冠霞', '國文': 80, '英文': 81, '數學': 97},\n",
       " {'姓名': '簡佳樺', '國文': 95, '英文': 88, '數學': 86},\n",
       " {'姓名': '楊火帆', '國文': 69, '英文': 61, '數學': 50},\n",
       " {'姓名': '彭偉妃', '國文': 85, '英文': 52, '數學': 93},\n",
       " {'姓名': '陳倩潔', '國文': 91, '英文': 67, '數學': 58},\n",
       " {'姓名': '林佳人', '國文': 77, '英文': 59, '數學': 65},\n",
       " {'姓名': '張天亨', '國文': 63, '英文': 66, '數學': 67},\n",
       " {'姓名': '李佳彥', '國文': 74, '英文': 85, '數學': 54},\n",
       " {'姓名': '陳家年', '國文': 62, '英文': 69, '數學': 73},\n",
       " {'姓名': '楊少亮', '國文': 63, '英文': 79, '數學': 65},\n",
       " {'姓名': '呂傑宣', '國文': 50, '英文': 91, '數學': 74},\n",
       " {'姓名': '洪阿惠', '國文': 73, '英文': 51, '數學': 94},\n",
       " {'姓名': '吳振瑋', '國文': 65, '英文': 69, '數學': 57},\n",
       " {'姓名': '陳向愛', '國文': 74, '英文': 83, '數學': 50},\n",
       " {'姓名': '彭虹屏', '國文': 95, '英文': 66, '數學': 65},\n",
       " {'姓名': '唐雪豪', '國文': 81, '英文': 65, '數學': 83},\n",
       " {'姓名': '蕭怡伶', '國文': 56, '英文': 91, '數學': 87},\n",
       " {'姓名': '謝哲維', '國文': 58, '英文': 80, '數學': 63},\n",
       " {'姓名': '蕭淑華', '國文': 97, '英文': 65, '數學': 91},\n",
       " {'姓名': '程玫靖', '國文': 79, '英文': 91, '數學': 55},\n",
       " {'姓名': '林昱芳', '國文': 83, '英文': 66, '數學': 77},\n",
       " {'姓名': '王惠皓', '國文': 93, '英文': 90, '數學': 72},\n",
       " {'姓名': '李蓉瑞', '國文': 53, '英文': 94, '數學': 51},\n",
       " {'姓名': '張彥博', '國文': 91, '英文': 66, '數學': 53},\n",
       " {'姓名': '張婕妤', '國文': 55, '英文': 62, '數學': 65},\n",
       " {'姓名': '陳逸凡', '國文': 88, '英文': 90, '數學': 72},\n",
       " {'姓名': '黃翔杰', '國文': 85, '英文': 58, '數學': 62},\n",
       " {'姓名': '盧必妍', '國文': 68, '英文': 71, '數學': 66},\n",
       " {'姓名': '鄭佳玲', '國文': 58, '英文': 54, '數學': 93},\n",
       " {'姓名': '謝佳穎', '國文': 94, '英文': 77, '數學': 51},\n",
       " {'姓名': '周怡啟', '國文': 92, '英文': 95, '數學': 75},\n",
       " {'姓名': '戚亨', '國文': 85, '英文': 63, '數學': 60},\n",
       " {'姓名': '高士凱', '國文': 76, '英文': 96, '數學': 100},\n",
       " {'姓名': '游詩亞', '國文': 50, '英文': 58, '數學': 98}]"
      ]
     },
     "execution_count": 2,
     "metadata": {},
     "output_type": "execute_result"
    }
   ],
   "source": [
    "import random\n",
    "\n",
    "with open(\"names.txt\",encoding='utf-8') as file:\n",
    "    contents:list[str] = file.readlines()\n",
    "\n",
    "names:list[str] = [name.strip() for name in contents]\n",
    "pick = int(input(\"請輸入所需要的姓名數量:\"));\n",
    "\n",
    "selected_names = random.sample(names, pick)\n",
    "students_data:list[dict] = [\n",
    "    {\n",
    "        '姓名':name,\n",
    "        '國文':random.randint(50,100),\n",
    "        '英文':random.randint(50,100),\n",
    "        '數學':random.randint(50, 100) \n",
    "    }\n",
    "    for name in selected_names]\n",
    "students_data"
   ]
  },
  {
   "cell_type": "markdown",
   "id": "bd911c2a",
   "metadata": {},
   "source": [
    "### 利用csv.DictWriter(),建立csv檔"
   ]
  },
  {
   "cell_type": "code",
   "execution_count": 3,
   "id": "3847eb53",
   "metadata": {},
   "outputs": [
    {
     "name": "stdout",
     "output_type": "stream",
     "text": [
      "寫入成功\n"
     ]
    }
   ],
   "source": [
    "# 指定欄位名稱（欄位順序）\n",
    "import csv\n",
    "\n",
    "filednames = students_data[0].keys()\n",
    "\n",
    "with open('students.csv','w',newline='',encoding='utf-8') as csvfile:\n",
    "    writer = csv.DictWriter(csvfile,fieldnames=filednames)\n",
    "    # 寫入欄位標題\n",
    "    writer.writeheader()\n",
    "    \n",
    "    # 寫入多筆資料\n",
    "    writer.writerows(students_data)\n",
    "print(\"寫入成功\")"
   ]
  }
 ],
 "metadata": {
  "kernelspec": {
   "display_name": "base",
   "language": "python",
   "name": "python3"
  },
  "language_info": {
   "codemirror_mode": {
    "name": "ipython",
    "version": 3
   },
   "file_extension": ".py",
   "mimetype": "text/x-python",
   "name": "python",
   "nbconvert_exporter": "python",
   "pygments_lexer": "ipython3",
   "version": "3.12.9"
  }
 },
 "nbformat": 4,
 "nbformat_minor": 5
}
