{
 "cells": [
  {
   "cell_type": "code",
   "execution_count": 11,
   "id": "c6435596",
   "metadata": {},
   "outputs": [],
   "source": [
    "### 讀取csv檔"
   ]
  },
  {
   "cell_type": "code",
   "execution_count": 13,
   "id": "dd971230",
   "metadata": {},
   "outputs": [
    {
     "data": {
      "text/plain": [
       "[{'姓名': '聶心怡', '國文': '93', '英文': '65', '數學': '84'},\n",
       " {'姓名': '王德城', '國文': '73', '英文': '53', '數學': '77'},\n",
       " {'姓名': '林思賢', '國文': '77', '英文': '60', '數學': '66'}]"
      ]
     },
     "execution_count": 13,
     "metadata": {},
     "output_type": "execute_result"
    }
   ],
   "source": [
    "import csv\n",
    "\n",
    "with open('students.csv',encoding='utf-8',newline='') as csvfile:\n",
    "    reader = csv.DictReader(csvfile)\n",
    "    content:list[dict] = [row for row in reader]\n",
    "\n",
    "content"
   ]
  },
  {
   "cell_type": "code",
   "execution_count": 4,
   "id": "a22f117e",
   "metadata": {},
   "outputs": [
    {
     "data": {
      "text/plain": [
       "[{'姓名': '聶心怡', '國文': '93', '英文': '65', '數學': '84'},\n",
       " {'姓名': '王德城', '國文': '73', '英文': '53', '數學': '77'},\n",
       " {'姓名': '林思賢', '國文': '77', '英文': '60', '數學': '66'}]"
      ]
     },
     "execution_count": 4,
     "metadata": {},
     "output_type": "execute_result"
    }
   ],
   "source": [
    "import csv\n",
    "\n",
    "with open('students.csv', encoding='utf-8',newline='')as csvfile:\n",
    "     reader = csv.DictReader(csvfile)\n",
    "     content:list[dict]=[row for row in reader]\n",
    "    \n",
    "content"
   ]
  },
  {
   "cell_type": "code",
   "execution_count": 10,
   "id": "113b0bb0",
   "metadata": {},
   "outputs": [
    {
     "data": {
      "text/plain": [
       "[{'姓名': '聶心怡', '國文': '93', '英文': '65', '數學': '84'},\n",
       " {'姓名': '王德城', '國文': '73', '英文': '53', '數學': '77'},\n",
       " {'姓名': '林思賢', '國文': '77', '英文': '60', '數學': '66'}]"
      ]
     },
     "execution_count": 10,
     "metadata": {},
     "output_type": "execute_result"
    }
   ],
   "source": [
    "import csv\n",
    "\n",
    "with open('students.csv',encoding='utf-8',newline='') as csvfile:\n",
    "    reader = csv.DictReader(csvfile)\n",
    "    content:list[dict] = [row for row in reader]\n",
    "\n",
    "content"
   ]
  },
  {
   "cell_type": "code",
   "execution_count": 9,
   "id": "c8205d33",
   "metadata": {},
   "outputs": [
    {
     "name": "stdout",
     "output_type": "stream",
     "text": [
      "不及格學生名單：\n",
      "{'姓名': '王德城', '國文': '73', '英文': '53', '數學': '77'}\n"
     ]
    }
   ],
   "source": [
    "import csv\n",
    "\n",
    "PASS_SCORE = 60  # 及格分數標準\n",
    "\n",
    "try:\n",
    "    with open('students.csv', encoding='utf-8', newline='') as csvfile:\n",
    "        reader = csv.DictReader(csvfile)\n",
    "        content = [row for row in reader]\n",
    "\n",
    "    # 篩選不及格學生（任一科目成績低於及格分數）\n",
    "    failed_students = []\n",
    "    for row in content:\n",
    "        # 將成績欄位轉成整數\n",
    "        chinese = int(row['國文'])\n",
    "        english = int(row['英文'])\n",
    "        math = int(row['數學'])\n",
    "\n",
    "        if chinese < PASS_SCORE or english < PASS_SCORE or math < PASS_SCORE:\n",
    "            failed_students.append(row)\n",
    "\n",
    "    # 輸出不及格學生清單\n",
    "    print(\"不及格學生名單：\")\n",
    "    for student in failed_students:\n",
    "        print(student)\n",
    "\n",
    "except FileNotFoundError:\n",
    "    print(\"找不到 students.csv 檔案！\")\n",
    "except Exception as e:\n",
    "    print(\"發生錯誤：\", e)"
   ]
  },
  {
   "cell_type": "code",
   "execution_count": 15,
   "id": "039e14bc",
   "metadata": {},
   "outputs": [
    {
     "data": {
      "text/plain": [
       "[{'姓名': '王德城', '國文': '73', '英文': '53', '數學': '77'}]"
      ]
     },
     "execution_count": 15,
     "metadata": {},
     "output_type": "execute_result"
    }
   ],
   "source": [
    "fail_chinese = [item for item in content if int(item[\"國文\"]) < 60 or int(item['英文']) < 60 or int(item[\"數學\"]) < 60]\n",
    "\n",
    "fail_chinese"
   ]
  }
 ],
 "metadata": {
  "kernelspec": {
   "display_name": "base",
   "language": "python",
   "name": "python3"
  },
  "language_info": {
   "codemirror_mode": {
    "name": "ipython",
    "version": 3
   },
   "file_extension": ".py",
   "mimetype": "text/x-python",
   "name": "python",
   "nbconvert_exporter": "python",
   "pygments_lexer": "ipython3",
   "version": "3.12.9"
  }
 },
 "nbformat": 4,
 "nbformat_minor": 5
}
