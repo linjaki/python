{
 "cells": [
  {
   "cell_type": "markdown",
   "id": "746d4c91",
   "metadata": {},
   "source": [
    "https://www.perplexity.ai/search/9037605f-7d32-4bed-887a-66ffe09265ab"
   ]
  },
  {
   "cell_type": "code",
   "execution_count": 4,
   "id": "fd994b2b",
   "metadata": {},
   "outputs": [],
   "source": [
    "import pandas as pd\n",
    "import numpy as np\n",
    "#建立50位學生5個分數,每個分數的值是50~100之間的隨機整數\n",
    "scores=np.random.randint(50, 101, size=(50, 5))\n",
    "score_pd = pd.DataFrame(scores,\n",
    "            columns=['國文', '英文', '數學', '地理', '歷史'],\n",
    "             index=[f'學生{index}' for index in range(1,51)])\n",
    "type (score_pd.index)\n",
    "score_pd.columns.name = \"科目\"\n",
    "score_pd.index.name = \"學號\"\n",
    "score_pd.to_excel('3年5班.xlsx',index=True)"
   ]
  },
  {
   "cell_type": "code",
   "execution_count": 7,
   "id": "6cb4c4fe",
   "metadata": {},
   "outputs": [
    {
     "name": "stdout",
     "output_type": "stream",
     "text": [
      "3年7班.xlsx\n",
      "3年3班.xlsx\n",
      "3年5班.xlsx\n"
     ]
    }
   ],
   "source": [
    "import os\n",
    "script_path = os.path.realpath(__name__)\n",
    "script_root = os.path.dirname(script_path)\n",
    "excel_folder = os.path.join(script_root,\"excel\")\n",
    "for excel_name in os.listdir(excel_folder):\n",
    "    print(excel_name)"
   ]
  },
  {
   "cell_type": "markdown",
   "id": "6ad81f9f",
   "metadata": {},
   "source": [
    "這樣 excel_folder 就會正確指向與你的 Python 腳本同一層的「excel」資料夾。\n",
    "os.listdir(excel_folder) 會列出該資料夾下所有檔案名稱。"
   ]
  },
  {
   "cell_type": "code",
   "execution_count": 8,
   "id": "233ee66d",
   "metadata": {},
   "outputs": [
    {
     "name": "stdout",
     "output_type": "stream",
     "text": [
      "/workspaces/python/lesson16/excel/3年7班.xlsx\n",
      "/workspaces/python/lesson16/excel/3年3班.xlsx\n",
      "/workspaces/python/lesson16/excel/3年5班.xlsx\n"
     ]
    }
   ],
   "source": [
    "import os\n",
    "script_path = os.path.realpath(__name__)\n",
    "script_root = os.path.dirname(script_path)\n",
    "excel_folder = os.path.join(script_root,\"excel\")\n",
    "for excel_name in os.listdir(excel_folder):\n",
    "    excel_path = os.path.join(excel_folder,excel_name)\n",
    "    print(excel_path)"
   ]
  },
  {
   "cell_type": "code",
   "execution_count": 11,
   "id": "c92b5730",
   "metadata": {},
   "outputs": [
    {
     "name": "stdout",
     "output_type": "stream",
     "text": [
      "/workspaces/python/lesson16/excel/3年7班.xlsx\n",
      "/workspaces/python/lesson16/excel/3年3班.xlsx\n",
      "/workspaces/python/lesson16/excel/3年5班.xlsx\n"
     ]
    }
   ],
   "source": [
    "import os\n",
    "import pandas as pd\n",
    "\n",
    "def rank(filepath:str):\n",
    "    df = df.read_excel(filepath, index_col ='學號')\n",
    "    display(df)\n",
    "\n",
    "script_path = os.path.realpath(__name__)\n",
    "script_root = os.path.dirname(script_path)\n",
    "excel_folder = os.path.join(script_root,\"excel\")\n",
    "for excel_name in os.listdir(excel_folder):\n",
    "    excel_path = os.path.join(excel_folder,excel_name)\n",
    "    print(excel_path)"
   ]
  },
  {
   "cell_type": "code",
   "execution_count": 22,
   "id": "27399f33",
   "metadata": {},
   "outputs": [
    {
     "name": "stdout",
     "output_type": "stream",
     "text": [
      "/workspaces/python/lesson16/excel/3年7班.xlsx\n",
      "3年7班.xlsx存檔完成\n",
      "/workspaces/python/lesson16/excel/3年3班.xlsx\n",
      "3年3班.xlsx存檔完成\n",
      "/workspaces/python/lesson16/excel/3年5班.xlsx\n",
      "3年5班.xlsx存檔完成\n"
     ]
    }
   ],
   "source": [
    "import os\n",
    "import pandas as pd\n",
    "\n",
    "def rank(filepath:str):\n",
    "    print(filepath)\n",
    "    df = pd.read_excel(filepath, index_col ='學號')\n",
    "    sum_series = np.sum(score_pd, axis=1)\n",
    "    mean_series = score_pd.mean(axis=1)\n",
    "    df['總分'] = sum_series\n",
    "    df['平均'] = mean_series\n",
    "    sorted_pd = df.sort_values(by='總分',ascending=False)\n",
    "    rand_series = sorted_pd['總分'].rank(ascending=False,method='min')\n",
    "    sorted_pd['名次'] = rand_series\n",
    "\n",
    "    script_path = os.path.realpath(__name__)\n",
    "    script_root = os.path.dirname(script_path)\n",
    "    finished_folder = os.path.join(script_root,\"excel_finished\")\n",
    "    filename = os.path.basename(filepath)\n",
    "    save_path = os.path.join(finished_folder, filename)\n",
    "    sorted_pd.to_excel(save_path,sheet_name=filename)\n",
    "    print(f'{filename}存檔完成')\n",
    "script_path = os.path.realpath(__name__)\n",
    "script_root = os.path.dirname(script_path)\n",
    "excel_folder = os.path.join(script_root,\"excel\")\n",
    "for excel_name in os.listdir(excel_folder):\n",
    "    excel_path = os.path.join(excel_folder,excel_name)\n",
    "    rank(excel_path)"
   ]
  },
  {
   "cell_type": "code",
   "execution_count": 24,
   "id": "53a613fb",
   "metadata": {},
   "outputs": [
    {
     "name": "stdout",
     "output_type": "stream",
     "text": [
      "3年7班.xlsx存檔完成\n",
      "3年3班.xlsx存檔完成\n",
      "3年5班.xlsx存檔完成\n"
     ]
    }
   ],
   "source": [
    "import os\n",
    "\n",
    "def process_ranking(file_path: str):\n",
    "    # 讀取Excel檔案，學號作為索引\n",
    "    score_df = pd.read_excel(file_path, index_col='學號')\n",
    "    # 計算每位學生的總分\n",
    "    sum_series = np.sum(score_df, axis=1)\n",
    "    # 計算每位學生的平均分數\n",
    "    mean_series = score_df.mean(axis=1)\n",
    "    # 將總分與平均分數加入成績表\n",
    "    score_df['總分'] = sum_series\n",
    "    score_df['平均'] = mean_series\n",
    "    # 依照總分由高到低排序\n",
    "    sorted_score_df = score_df.sort_values(by='總分', ascending=False)\n",
    "    # 計算名次（總分高者名次前面）\n",
    "    rank_series = sorted_score_df['總分'].rank(ascending=False, method='min')\n",
    "    sorted_score_df['名次'] = rank_series\n",
    "\n",
    "    # 建立儲存完成檔案的資料夾\n",
    "    finished_folder = os.path.join(script_root, \"excel_finished\")\n",
    "    os.makedirs(finished_folder, exist_ok=True)\n",
    "    file_name = os.path.basename(file_path)\n",
    "    save_path = os.path.join(finished_folder, file_name)\n",
    "    # 儲存排序後的成績表到新的Excel檔案\n",
    "    sorted_score_df.to_excel(save_path, sheet_name=file_name)\n",
    "    print(f'{file_name}存檔完成')\n",
    "\n",
    "# 針對excel_folder資料夾內的每個Excel檔案進行排名處理\n",
    "for file_name in os.listdir(excel_folder):\n",
    "    file_path = os.path.join(excel_folder, file_name)\n",
    "    process_ranking(file_path)"
   ]
  }
 ],
 "metadata": {
  "kernelspec": {
   "display_name": "base",
   "language": "python",
   "name": "python3"
  },
  "language_info": {
   "codemirror_mode": {
    "name": "ipython",
    "version": 3
   },
   "file_extension": ".py",
   "mimetype": "text/x-python",
   "name": "python",
   "nbconvert_exporter": "python",
   "pygments_lexer": "ipython3",
   "version": "3.12.9"
  }
 },
 "nbformat": 4,
 "nbformat_minor": 5
}
