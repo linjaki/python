{
 "cells": [
  {
   "cell_type": "markdown",
   "id": "746d4c91",
   "metadata": {},
   "source": [
    "https://www.perplexity.ai/search/9037605f-7d32-4bed-887a-66ffe09265ab"
   ]
  },
  {
   "cell_type": "code",
   "execution_count": 4,
   "id": "fd994b2b",
   "metadata": {},
   "outputs": [],
   "source": [
    "import pandas as pd\n",
    "import numpy as np\n",
    "#建立50位學生5個分數,每個分數的值是50~100之間的隨機整數\n",
    "scores=np.random.randint(50, 101, size=(50, 5))\n",
    "score_pd = pd.DataFrame(scores,\n",
    "            columns=['國文', '英文', '數學', '地理', '歷史'],\n",
    "             index=[f'學生{index}' for index in range(1,51)])\n",
    "type (score_pd.index)\n",
    "score_pd.columns.name = \"科目\"\n",
    "score_pd.index.name = \"學號\"\n",
    "score_pd.to_excel('3年5班.xlsx',index=True)"
   ]
  },
  {
   "cell_type": "code",
   "execution_count": 7,
   "id": "6cb4c4fe",
   "metadata": {},
   "outputs": [
    {
     "name": "stdout",
     "output_type": "stream",
     "text": [
      "3年7班.xlsx\n",
      "3年3班.xlsx\n",
      "3年5班.xlsx\n"
     ]
    }
   ],
   "source": [
    "import os\n",
    "script_path = os.path.realpath(__name__)\n",
    "script_root = os.path.dirname(script_path)\n",
    "excel_folder = os.path.join(script_root,\"excel\")\n",
    "for excel_name in os.listdir(excel_folder):\n",
    "    print(excel_name)"
   ]
  },
  {
   "cell_type": "markdown",
   "id": "6ad81f9f",
   "metadata": {},
   "source": [
    "這樣 excel_folder 就會正確指向與你的 Python 腳本同一層的「excel」資料夾。\n",
    "os.listdir(excel_folder) 會列出該資料夾下所有檔案名稱。"
   ]
  },
  {
   "cell_type": "code",
   "execution_count": 8,
   "id": "233ee66d",
   "metadata": {},
   "outputs": [
    {
     "name": "stdout",
     "output_type": "stream",
     "text": [
      "/workspaces/python/lesson16/excel/3年7班.xlsx\n",
      "/workspaces/python/lesson16/excel/3年3班.xlsx\n",
      "/workspaces/python/lesson16/excel/3年5班.xlsx\n"
     ]
    }
   ],
   "source": [
    "import os\n",
    "script_path = os.path.realpath(__name__)\n",
    "script_root = os.path.dirname(script_path)\n",
    "excel_folder = os.path.join(script_root,\"excel\")\n",
    "for excel_name in os.listdir(excel_folder):\n",
    "    excel_path = os.path.join(excel_folder,excel_name)\n",
    "    print(excel_path)"
   ]
  },
  {
   "cell_type": "code",
   "execution_count": 11,
   "id": "c92b5730",
   "metadata": {},
   "outputs": [
    {
     "name": "stdout",
     "output_type": "stream",
     "text": [
      "/workspaces/python/lesson16/excel/3年7班.xlsx\n",
      "/workspaces/python/lesson16/excel/3年3班.xlsx\n",
      "/workspaces/python/lesson16/excel/3年5班.xlsx\n"
     ]
    }
   ],
   "source": [
    "import os\n",
    "import pandas as pd\n",
    "\n",
    "def rank(filepath:str):\n",
    "    df = df.read_excel(filepath, index_col ='學號')\n",
    "    display(df)\n",
    "\n",
    "script_path = os.path.realpath(__name__)\n",
    "script_root = os.path.dirname(script_path)\n",
    "excel_folder = os.path.join(script_root,\"excel\")\n",
    "for excel_name in os.listdir(excel_folder):\n",
    "    excel_path = os.path.join(excel_folder,excel_name)\n",
    "    print(excel_path)"
   ]
  }
 ],
 "metadata": {
  "kernelspec": {
   "display_name": "base",
   "language": "python",
   "name": "python3"
  },
  "language_info": {
   "codemirror_mode": {
    "name": "ipython",
    "version": 3
   },
   "file_extension": ".py",
   "mimetype": "text/x-python",
   "name": "python",
   "nbconvert_exporter": "python",
   "pygments_lexer": "ipython3",
   "version": "3.12.9"
  }
 },
 "nbformat": 4,
 "nbformat_minor": 5
}
