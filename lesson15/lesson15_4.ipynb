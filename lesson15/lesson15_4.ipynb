{
 "cells": [
  {
   "cell_type": "markdown",
   "id": "5fbd011c",
   "metadata": {},
   "source": [
    "https://www.perplexity.ai/search/f9b40ada-565a-4ef9-aba5-3afd8763b3ca"
   ]
  },
  {
   "cell_type": "markdown",
   "id": "62b2b72f",
   "metadata": {},
   "source": [
    "利用 NumPy 和 pandas 建立一個連續整數的 Series。\n",
    "-np.arange(50,70)\n",
    "產生一個從 50 到 69 的一維 NumPy 陣列（包含 50，不包含 70），也就是 [50, 51, 52, ..., 69] 共 20 個整數。\n",
    "-pd.Series(...)\n",
    "將這個 NumPy 陣列轉換成 pandas 的 Series 物件。Series 是一種帶有索引的一維資料結構，類似於帶標籤的陣列。\n",
    "-s1\n",
    "這個變數會儲存上述產生的 Series。其內容如下："
   ]
  },
  {
   "cell_type": "code",
   "execution_count": 1,
   "id": "28a6ed45",
   "metadata": {},
   "outputs": [
    {
     "data": {
      "text/plain": [
       "0     50\n",
       "1     51\n",
       "2     52\n",
       "3     53\n",
       "4     54\n",
       "5     55\n",
       "6     56\n",
       "7     57\n",
       "8     58\n",
       "9     59\n",
       "10    60\n",
       "11    61\n",
       "12    62\n",
       "13    63\n",
       "14    64\n",
       "15    65\n",
       "16    66\n",
       "17    67\n",
       "18    68\n",
       "19    69\n",
       "dtype: int64"
      ]
     },
     "execution_count": 1,
     "metadata": {},
     "output_type": "execute_result"
    }
   ],
   "source": [
    "import numpy as np\n",
    "import pandas as pd\n",
    "\n",
    "s1 = pd.Series(np.arange(50,70))\n",
    "s1\n",
    "\n"
   ]
  },
  {
   "cell_type": "code",
   "execution_count": null,
   "id": "8a1a782c",
   "metadata": {},
   "outputs": [
    {
     "data": {
      "text/plain": [
       "10    60\n",
       "11    61\n",
       "12    62\n",
       "13    63\n",
       "14    64\n",
       "15    65\n",
       "16    66\n",
       "17    67\n",
       "18    68\n",
       "19    69\n",
       "dtype: int64"
      ]
     },
     "execution_count": 2,
     "metadata": {},
     "output_type": "execute_result"
    }
   ],
   "source": [
    "#透過值的選取\n",
    "#值的搜尋\n",
    "#mask的技巧,要使用比較運算子得到boolean的資料\n",
    "mask = s1 >= 60\n",
    "s1[mask]"
   ]
  },
  {
   "cell_type": "markdown",
   "id": "f58e0ac5",
   "metadata": {},
   "source": [
    "用於「條件篩選」pandas Series 中的資料。\n",
    "這行會對 s1（一個包含 50~69 的 pandas Series）進行逐元素比較，判斷每個元素是否大於等於 60。\n",
    "結果會產生一個布林型態的 Series，內容如下：\n",
    "利用剛才產生的布林遮罩，選出 s1 中所有大於等於 60 的元素。\n",
    "結果會是一個新的 Series，只包含符合條件的資料。例如：\n",
    "非常適合用於資料分析、資料清理與篩選。"
   ]
  },
  {
   "cell_type": "code",
   "execution_count": null,
   "id": "6b3fba29",
   "metadata": {},
   "outputs": [],
   "source": []
  }
 ],
 "metadata": {
  "kernelspec": {
   "display_name": "base",
   "language": "python",
   "name": "python3"
  },
  "language_info": {
   "codemirror_mode": {
    "name": "ipython",
    "version": 3
   },
   "file_extension": ".py",
   "mimetype": "text/x-python",
   "name": "python",
   "nbconvert_exporter": "python",
   "pygments_lexer": "ipython3",
   "version": "3.12.9"
  }
 },
 "nbformat": 4,
 "nbformat_minor": 5
}
