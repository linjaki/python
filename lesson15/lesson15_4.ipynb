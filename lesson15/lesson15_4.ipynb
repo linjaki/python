{
 "cells": [
  {
   "cell_type": "markdown",
   "id": "5fbd011c",
   "metadata": {},
   "source": [
    "https://www.perplexity.ai/search/f9b40ada-565a-4ef9-aba5-3afd8763b3ca\n",
    "### Series和DataFrame透過mask的選取"
   ]
  },
  {
   "cell_type": "markdown",
   "id": "62b2b72f",
   "metadata": {},
   "source": [
    "利用 NumPy 和 pandas 建立一個連續整數的 Series。\n",
    "-np.arange(50,70)\n",
    "產生一個從 50 到 69 的一維 NumPy 陣列（包含 50，不包含 70），也就是 [50, 51, 52, ..., 69] 共 20 個整數。\n",
    "-pd.Series(...)\n",
    "將這個 NumPy 陣列轉換成 pandas 的 Series 物件。Series 是一種帶有索引的一維資料結構，類似於帶標籤的陣列。\n",
    "-s1\n",
    "這個變數會儲存上述產生的 Series。其內容如下："
   ]
  },
  {
   "cell_type": "code",
   "execution_count": 1,
   "id": "28a6ed45",
   "metadata": {},
   "outputs": [
    {
     "data": {
      "text/plain": [
       "0     50\n",
       "1     51\n",
       "2     52\n",
       "3     53\n",
       "4     54\n",
       "5     55\n",
       "6     56\n",
       "7     57\n",
       "8     58\n",
       "9     59\n",
       "10    60\n",
       "11    61\n",
       "12    62\n",
       "13    63\n",
       "14    64\n",
       "15    65\n",
       "16    66\n",
       "17    67\n",
       "18    68\n",
       "19    69\n",
       "dtype: int64"
      ]
     },
     "execution_count": 1,
     "metadata": {},
     "output_type": "execute_result"
    }
   ],
   "source": [
    "import numpy as np\n",
    "import pandas as pd\n",
    "\n",
    "s1 = pd.Series(np.arange(50,70))\n",
    "s1\n",
    "\n"
   ]
  },
  {
   "cell_type": "code",
   "execution_count": null,
   "id": "8a1a782c",
   "metadata": {},
   "outputs": [
    {
     "data": {
      "text/plain": [
       "10    60\n",
       "11    61\n",
       "12    62\n",
       "13    63\n",
       "14    64\n",
       "15    65\n",
       "16    66\n",
       "17    67\n",
       "18    68\n",
       "19    69\n",
       "dtype: int64"
      ]
     },
     "execution_count": 2,
     "metadata": {},
     "output_type": "execute_result"
    }
   ],
   "source": [
    "#透過值的選取\n",
    "#值的搜尋\n",
    "#mask的技巧,要使用比較運算子得到boolean的資料\n",
    "mask = s1 >= 60\n",
    "s1[mask]"
   ]
  },
  {
   "cell_type": "markdown",
   "id": "f58e0ac5",
   "metadata": {},
   "source": [
    "用於「條件篩選」pandas Series 中的資料。\n",
    "這行會對 s1（一個包含 50~69 的 pandas Series）進行逐元素比較，判斷每個元素是否大於等於 60。\n",
    "結果會產生一個布林型態的 Series，內容如下：\n",
    "利用剛才產生的布林遮罩，選出 s1 中所有大於等於 60 的元素。\n",
    "結果會是一個新的 Series，只包含符合條件的資料。例如：\n",
    "非常適合用於資料分析、資料清理與篩選。"
   ]
  },
  {
   "cell_type": "code",
   "execution_count": 17,
   "id": "6b3fba29",
   "metadata": {},
   "outputs": [],
   "source": [
    "##DataFrame\n",
    "data = np.random.randint(50, 101,size=(5,5))\n",
    "df = pd.DataFrame(data,\n",
    "            index=[\"學生1\",\"學生2\",\"學生3\",\"學生4\",\"學生5\"],\n",
    "            columns=[\"國文\",\"英文\",\"數學\",\"地理\",\"歷史\"])"
   ]
  },
  {
   "cell_type": "code",
   "execution_count": 16,
   "id": "4ee8c2c4",
   "metadata": {},
   "outputs": [
    {
     "data": {
      "text/html": [
       "<div>\n",
       "<style scoped>\n",
       "    .dataframe tbody tr th:only-of-type {\n",
       "        vertical-align: middle;\n",
       "    }\n",
       "\n",
       "    .dataframe tbody tr th {\n",
       "        vertical-align: top;\n",
       "    }\n",
       "\n",
       "    .dataframe thead th {\n",
       "        text-align: right;\n",
       "    }\n",
       "</style>\n",
       "<table border=\"1\" class=\"dataframe\">\n",
       "  <thead>\n",
       "    <tr style=\"text-align: right;\">\n",
       "      <th></th>\n",
       "      <th>國文</th>\n",
       "      <th>英文</th>\n",
       "      <th>數學</th>\n",
       "      <th>地理</th>\n",
       "      <th>歷史</th>\n",
       "    </tr>\n",
       "  </thead>\n",
       "  <tbody>\n",
       "    <tr>\n",
       "      <th>學生1</th>\n",
       "      <td>71</td>\n",
       "      <td>58</td>\n",
       "      <td>88</td>\n",
       "      <td>80</td>\n",
       "      <td>67</td>\n",
       "    </tr>\n",
       "    <tr>\n",
       "      <th>學生2</th>\n",
       "      <td>51</td>\n",
       "      <td>80</td>\n",
       "      <td>76</td>\n",
       "      <td>73</td>\n",
       "      <td>66</td>\n",
       "    </tr>\n",
       "  </tbody>\n",
       "</table>\n",
       "</div>"
      ],
      "text/plain": [
       "     國文  英文  數學  地理  歷史\n",
       "學生1  71  58  88  80  67\n",
       "學生2  51  80  76  73  66"
      ]
     },
     "execution_count": 16,
     "metadata": {},
     "output_type": "execute_result"
    }
   ],
   "source": [
    "# 選取歷史>=60\n",
    "df[df['歷史'] >= 60]"
   ]
  },
  {
   "cell_type": "code",
   "execution_count": 15,
   "id": "f4a1e36d",
   "metadata": {},
   "outputs": [
    {
     "data": {
      "text/html": [
       "<div>\n",
       "<style scoped>\n",
       "    .dataframe tbody tr th:only-of-type {\n",
       "        vertical-align: middle;\n",
       "    }\n",
       "\n",
       "    .dataframe tbody tr th {\n",
       "        vertical-align: top;\n",
       "    }\n",
       "\n",
       "    .dataframe thead th {\n",
       "        text-align: right;\n",
       "    }\n",
       "</style>\n",
       "<table border=\"1\" class=\"dataframe\">\n",
       "  <thead>\n",
       "    <tr style=\"text-align: right;\">\n",
       "      <th></th>\n",
       "      <th>國文</th>\n",
       "      <th>英文</th>\n",
       "      <th>數學</th>\n",
       "      <th>地理</th>\n",
       "      <th>歷史</th>\n",
       "    </tr>\n",
       "  </thead>\n",
       "  <tbody>\n",
       "    <tr>\n",
       "      <th>學生1</th>\n",
       "      <td>71</td>\n",
       "      <td>58</td>\n",
       "      <td>88</td>\n",
       "      <td>80</td>\n",
       "      <td>67</td>\n",
       "    </tr>\n",
       "    <tr>\n",
       "      <th>學生2</th>\n",
       "      <td>51</td>\n",
       "      <td>80</td>\n",
       "      <td>76</td>\n",
       "      <td>73</td>\n",
       "      <td>66</td>\n",
       "    </tr>\n",
       "  </tbody>\n",
       "</table>\n",
       "</div>"
      ],
      "text/plain": [
       "     國文  英文  數學  地理  歷史\n",
       "學生1  71  58  88  80  67\n",
       "學生2  51  80  76  73  66"
      ]
     },
     "execution_count": 15,
     "metadata": {},
     "output_type": "execute_result"
    }
   ],
   "source": [
    "#選取歷史>=60，同時數學>=60\n",
    "#位元邏輯運算子\n",
    "df[(df['歷史'] >= 60) & (df['數學'] >= 60)]"
   ]
  },
  {
   "cell_type": "markdown",
   "id": "ae8bcab9",
   "metadata": {},
   "source": [
    "df['歷史'] >= 60：產生一個布林遮罩，標記每位學生的「歷史」分數是否大於等於 60。\n",
    "df['數學'] >= 60：產生另一個布林遮罩，標記「數學」分數是否大於等於 60。\n",
    "&：將兩個條件做「且」運算，只有同時滿足兩個條件的學生才會被選中。\n",
    "df[...]：用這個複合條件遮罩，選出符合條件的所有列（學生）。\n",
    "結果：\n",
    "這樣會得到一個新的 DataFrame，只包含「歷史」和「數學」兩科分數都及格（>=60）的學生及其所有科目分數，非常適合用於資料篩選與分析。"
   ]
  }
 ],
 "metadata": {
  "kernelspec": {
   "display_name": "base",
   "language": "python",
   "name": "python3"
  },
  "language_info": {
   "codemirror_mode": {
    "name": "ipython",
    "version": 3
   },
   "file_extension": ".py",
   "mimetype": "text/x-python",
   "name": "python",
   "nbconvert_exporter": "python",
   "pygments_lexer": "ipython3",
   "version": "3.12.9"
  }
 },
 "nbformat": 4,
 "nbformat_minor": 5
}
