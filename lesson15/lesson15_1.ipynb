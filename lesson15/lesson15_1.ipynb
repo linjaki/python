{
 "cells": [
  {
   "cell_type": "markdown",
   "id": "17e2d86f",
   "metadata": {},
   "source": [
    "https://www.perplexity.ai/search/1f6d8098-e981-44bf-b915-b14b9e9052da\n",
    "\n",
    "### numpy的索引和切割"
   ]
  },
  {
   "cell_type": "code",
   "execution_count": 1,
   "id": "a65370c0",
   "metadata": {},
   "outputs": [
    {
     "data": {
      "text/plain": [
       "array([1, 3, 5, 7, 9])"
      ]
     },
     "execution_count": 1,
     "metadata": {},
     "output_type": "execute_result"
    }
   ],
   "source": [
    "import numpy as np\n",
    "np.array([1,3,5,7,9])"
   ]
  },
  {
   "cell_type": "code",
   "execution_count": 12,
   "id": "e107205f",
   "metadata": {},
   "outputs": [
    {
     "data": {
      "text/plain": [
       "array([[0., 0., 0., 0.],\n",
       "       [0., 0., 0., 0.],\n",
       "       [0., 0., 0., 0.]])"
      ]
     },
     "execution_count": 12,
     "metadata": {},
     "output_type": "execute_result"
    }
   ],
   "source": [
    "np.zeros((3, 4))"
   ]
  },
  {
   "cell_type": "code",
   "execution_count": 11,
   "id": "102befb6",
   "metadata": {},
   "outputs": [
    {
     "data": {
      "text/plain": [
       "array([[1., 1., 1., 1.],\n",
       "       [1., 1., 1., 1.],\n",
       "       [1., 1., 1., 1.]])"
      ]
     },
     "execution_count": 11,
     "metadata": {},
     "output_type": "execute_result"
    }
   ],
   "source": [
    "np.ones((3,4))"
   ]
  },
  {
   "cell_type": "code",
   "execution_count": 10,
   "id": "0dac216b",
   "metadata": {},
   "outputs": [
    {
     "data": {
      "text/plain": [
       "array([0. , 0.1, 0.2, 0.3, 0.4, 0.5, 0.6, 0.7, 0.8, 0.9])"
      ]
     },
     "execution_count": 10,
     "metadata": {},
     "output_type": "execute_result"
    }
   ],
   "source": [
    "np.arange(0,1,0.1)"
   ]
  },
  {
   "cell_type": "code",
   "execution_count": 9,
   "id": "6dd87ecf",
   "metadata": {},
   "outputs": [
    {
     "data": {
      "text/plain": [
       "array([0.        , 0.11111111, 0.22222222, 0.33333333, 0.44444444,\n",
       "       0.55555556, 0.66666667, 0.77777778, 0.88888889, 1.        ])"
      ]
     },
     "execution_count": 9,
     "metadata": {},
     "output_type": "execute_result"
    }
   ],
   "source": [
    "np.linspace(0,1,10)"
   ]
  },
  {
   "cell_type": "code",
   "execution_count": 8,
   "id": "500b1e55",
   "metadata": {},
   "outputs": [
    {
     "data": {
      "text/plain": [
       "array([[0.26564108, 0.04953813, 0.8116245 , 0.06874766],\n",
       "       [0.89178963, 0.33287287, 0.51111633, 0.39319567],\n",
       "       [0.11289389, 0.20290429, 0.58405356, 0.18092331]])"
      ]
     },
     "execution_count": 8,
     "metadata": {},
     "output_type": "execute_result"
    }
   ],
   "source": [
    "np.random.rand(3, 4)"
   ]
  },
  {
   "cell_type": "code",
   "execution_count": 7,
   "id": "4ae97bf6",
   "metadata": {},
   "outputs": [],
   "source": [
    "scores = np.random.randint(50,101,size=(50, 5))\n"
   ]
  },
  {
   "cell_type": "code",
   "execution_count": 3,
   "id": "12a60392",
   "metadata": {},
   "outputs": [
    {
     "data": {
      "text/plain": [
       "array([0.        , 0.11111111, 0.22222222, 0.33333333, 0.44444444,\n",
       "       0.55555556, 0.66666667, 0.77777778, 0.88888889, 1.        ])"
      ]
     },
     "execution_count": 3,
     "metadata": {},
     "output_type": "execute_result"
    }
   ],
   "source": [
    "np.linspace(0,1,10)"
   ]
  },
  {
   "cell_type": "code",
   "execution_count": 13,
   "id": "0f60c7d4",
   "metadata": {},
   "outputs": [
    {
     "data": {
      "text/plain": [
       "array([[65, 70, 53, 83, 68],\n",
       "       [66, 74, 83, 54, 58],\n",
       "       [77, 62, 53, 62, 87],\n",
       "       [91, 65, 83, 77, 66],\n",
       "       [99, 54, 98, 52, 63]])"
      ]
     },
     "execution_count": 13,
     "metadata": {},
     "output_type": "execute_result"
    }
   ],
   "source": [
    "import numpy as np\n",
    "scores = np.random.randint(50,101,size=(5, 5))\n",
    "scores"
   ]
  },
  {
   "cell_type": "markdown",
   "id": "7c6d4e18",
   "metadata": {},
   "source": [
    "這段程式碼的功能是產生一個 5x5 的隨機整數陣列，並將結果存入變數 scores\n",
    "- import numpy as np 將 NumPy 套件匯入，並簡寫為 np，方便後續使用 NumPy 的功能。\n",
    "- np.random.randint(50, 101, size=(5, 5))\n",
    "-np.random.randint() 是 NumPy 用來產生隨機整數的函數。\n",
    "第一個參數 50：產生的隨機整數下限（包含 50）。\n",
    "第二個參數 101：產生的隨機整數上限（不包含 101），也就是最大值為 100。\n",
    "-size=(5, 5)：指定輸出的陣列形狀為 5 列 5 行（5x5），共 25 個隨機整數。\n",
    "產生的每個數字都會落在 50 到 100 之間（包含 50 和 100）。"
   ]
  },
  {
   "cell_type": "code",
   "execution_count": 14,
   "id": "a7c8caf3",
   "metadata": {},
   "outputs": [
    {
     "data": {
      "text/plain": [
       "array([[53, 83, 68],\n",
       "       [83, 54, 58],\n",
       "       [53, 62, 87]])"
      ]
     },
     "execution_count": 14,
     "metadata": {},
     "output_type": "execute_result"
    }
   ],
   "source": [
    "scores[:3,2:]"
   ]
  },
  {
   "cell_type": "markdown",
   "id": "334c94e8",
   "metadata": {},
   "source": [
    "scores：5x5 的二維陣列。\n",
    "\n",
    ":3：在列（row）方向，選取第 0、1、2 列（共前三列，不含第 3 列）。\n",
    "\n",
    "2:：在欄（column）方向，選取第 2、3、4 欄（從第 2 欄起到最後一欄）。\n",
    "\n",
    "換句話說，scores[:3, 2:] 會取得原陣列左上角 3 列、右側 3 欄所構成的 3x3 子陣列。"
   ]
  },
  {
   "cell_type": "code",
   "execution_count": 15,
   "id": "7c74cf8f",
   "metadata": {},
   "outputs": [
    {
     "data": {
      "text/plain": [
       "array([[99, 54, 98, 52, 63]])"
      ]
     },
     "execution_count": 15,
     "metadata": {},
     "output_type": "execute_result"
    }
   ],
   "source": [
    "scores[4]\n",
    "scores[4,:]\n",
    "scores[4:,:]"
   ]
  },
  {
   "cell_type": "code",
   "execution_count": 16,
   "id": "6eed0ff2",
   "metadata": {},
   "outputs": [
    {
     "data": {
      "text/plain": [
       "array([[65, 70],\n",
       "       [66, 74],\n",
       "       [77, 62],\n",
       "       [91, 65],\n",
       "       [99, 54]])"
      ]
     },
     "execution_count": 16,
     "metadata": {},
     "output_type": "execute_result"
    }
   ],
   "source": [
    "scores[:,:2]"
   ]
  },
  {
   "cell_type": "markdown",
   "id": "4d554631",
   "metadata": {},
   "source": [
    "### numpy的統計工具"
   ]
  },
  {
   "cell_type": "code",
   "execution_count": 25,
   "id": "c96f4cb6",
   "metadata": {},
   "outputs": [
    {
     "data": {
      "text/plain": [
       "array([[ 68,  85,  66,  79, 100],\n",
       "       [ 75,  87,  84,  55,  50],\n",
       "       [ 88,  88,  78,  88,  92],\n",
       "       [ 95,  77,  66,  97,  61],\n",
       "       [ 73,  77,  67,  65,  90]])"
      ]
     },
     "execution_count": 25,
     "metadata": {},
     "output_type": "execute_result"
    }
   ],
   "source": [
    "scores = np.random.randint(50,101,size=(5,5))\n",
    "scores"
   ]
  },
  {
   "cell_type": "code",
   "execution_count": 24,
   "id": "e339c0a8",
   "metadata": {},
   "outputs": [
    {
     "data": {
      "text/plain": [
       "array([339, 335, 341, 382, 366])"
      ]
     },
     "execution_count": 24,
     "metadata": {},
     "output_type": "execute_result"
    }
   ],
   "source": [
    "scores[:,0] + scores[:,1] + scores[:,2] + scores[:,3] + scores[:,4]"
   ]
  },
  {
   "cell_type": "code",
   "execution_count": null,
   "id": "a1c95ab1",
   "metadata": {},
   "outputs": [
    {
     "data": {
      "text/plain": [
       "array([339, 335, 341, 382, 366])"
      ]
     },
     "execution_count": 17,
     "metadata": {},
     "output_type": "execute_result"
    }
   ],
   "source": [
    "# 加總\n",
    "np.sum(scores,axis=1)"
   ]
  },
  {
   "cell_type": "code",
   "execution_count": null,
   "id": "5d0af2f8",
   "metadata": {},
   "outputs": [
    {
     "data": {
      "text/plain": [
       "array([67.8, 67. , 68.2, 76.4, 73.2])"
      ]
     },
     "execution_count": 18,
     "metadata": {},
     "output_type": "execute_result"
    }
   ],
   "source": [
    "# 平均\n",
    "np.mean(scores,axis=1)"
   ]
  },
  {
   "cell_type": "code",
   "execution_count": 19,
   "id": "f31a037a",
   "metadata": {},
   "outputs": [
    {
     "data": {
      "text/plain": [
       "array([83, 83, 87, 91, 99])"
      ]
     },
     "execution_count": 19,
     "metadata": {},
     "output_type": "execute_result"
    }
   ],
   "source": [
    "# 最大值\n",
    "np.max(scores,axis=1)"
   ]
  },
  {
   "cell_type": "code",
   "execution_count": 22,
   "id": "d5f6be93",
   "metadata": {},
   "outputs": [
    {
     "data": {
      "text/plain": [
       "array([53, 54, 53, 65, 52])"
      ]
     },
     "execution_count": 22,
     "metadata": {},
     "output_type": "execute_result"
    }
   ],
   "source": [
    "# 最小值\n",
    "np.min(scores,axis=1)"
   ]
  },
  {
   "cell_type": "code",
   "execution_count": 20,
   "id": "98b2fd9a",
   "metadata": {},
   "outputs": [
    {
     "data": {
      "text/plain": [
       "array([68., 66., 62., 77., 63.])"
      ]
     },
     "execution_count": 20,
     "metadata": {},
     "output_type": "execute_result"
    }
   ],
   "source": [
    "# 中間數\n",
    "np.median(scores,axis=1)"
   ]
  },
  {
   "cell_type": "code",
   "execution_count": 23,
   "id": "dc752530",
   "metadata": {},
   "outputs": [
    {
     "data": {
      "text/plain": [
       "array([ 9.62081078, 10.54514106, 12.15565712,  9.95188424, 20.9895212 ])"
      ]
     },
     "execution_count": 23,
     "metadata": {},
     "output_type": "execute_result"
    }
   ],
   "source": [
    "# 標準差\n",
    "np.std(scores,axis=1)"
   ]
  }
 ],
 "metadata": {
  "kernelspec": {
   "display_name": "base",
   "language": "python",
   "name": "python3"
  },
  "language_info": {
   "codemirror_mode": {
    "name": "ipython",
    "version": 3
   },
   "file_extension": ".py",
   "mimetype": "text/x-python",
   "name": "python",
   "nbconvert_exporter": "python",
   "pygments_lexer": "ipython3",
   "version": "3.12.9"
  }
 },
 "nbformat": 4,
 "nbformat_minor": 5
}
