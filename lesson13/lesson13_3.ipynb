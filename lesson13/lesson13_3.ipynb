{
 "cells": [
  {
   "cell_type": "code",
   "execution_count": 1,
   "id": "1b3b8a68",
   "metadata": {},
   "outputs": [],
   "source": [
    "student1 = {'國文':78, '英文':80, '數學':92, '歷史':75, '探索':85}\n",
    "student2 = {'國文':90, '英文':75, '數學':98, '歷史':65, '探索':75}"
   ]
  }
 ],
 "metadata": {
  "kernelspec": {
   "display_name": "base",
   "language": "python",
   "name": "python3"
  },
  "language_info": {
   "codemirror_mode": {
    "name": "ipython",
    "version": 3
   },
   "file_extension": ".py",
   "mimetype": "text/x-python",
   "name": "python",
   "nbconvert_exporter": "python",
   "pygments_lexer": "ipython3",
   "version": "3.12.9"
  }
 },
 "nbformat": 4,
 "nbformat_minor": 5
}
