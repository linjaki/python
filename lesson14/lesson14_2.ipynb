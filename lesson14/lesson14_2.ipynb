{
 "cells": [
  {
   "cell_type": "markdown",
   "id": "d0fb646b",
   "metadata": {},
   "source": [
    "## ndarry的索引(index),切割(slice)\n",
    "https://numpy.org/"
   ]
  },
  {
   "cell_type": "code",
   "execution_count": null,
   "id": "f43ddbdc",
   "metadata": {},
   "outputs": [
    {
     "data": {
      "text/plain": [
       "array([7, 8, 9])"
      ]
     },
     "execution_count": 4,
     "metadata": {},
     "output_type": "execute_result"
    }
   ],
   "source": [
    "import numpy as np\n",
    "\n",
    "arr = np.arange(10)\n",
    "arr[0]  \n",
    "arr[-1]\n",
    "arr[:3]\n",
    "arr[-3:]"
   ]
  },
  {
   "cell_type": "markdown",
   "id": "2a502280",
   "metadata": {},
   "source": [
    "python\n",
    "import numpy as np\n",
    "\n",
    "arr = np.arange(10) 產生一個包含 0 到 9 的一維陣列：\n",
    "arr[0]  \n",
    "arr[-1] array([0, 1, 2, 3, 4, 5, 取出陣列的第一個元素，結果為 0`\n",
    "arr[:3] 取出陣列的前 3 個元素（索引 0, 1, 2），結果為 array([0,[2])\n",
    "arr[-3:] 取出陣列的最後 3 個元素，結果為 array()"
   ]
  },
  {
   "cell_type": "code",
   "execution_count": 8,
   "id": "9c10021f",
   "metadata": {},
   "outputs": [
    {
     "data": {
      "text/plain": [
       "65"
      ]
     },
     "execution_count": 8,
     "metadata": {},
     "output_type": "execute_result"
    }
   ],
   "source": [
    "import random\n",
    "random.randint(50,100)"
   ]
  },
  {
   "cell_type": "code",
   "execution_count": 9,
   "id": "e45b3329",
   "metadata": {},
   "outputs": [
    {
     "data": {
      "text/plain": [
       "(50, 5)"
      ]
     },
     "execution_count": 9,
     "metadata": {},
     "output_type": "execute_result"
    }
   ],
   "source": [
    "np.random.randint(50, 101, size=5)\n",
    "scores = np.random.randint(50, 101, size=(50,5))\n",
    "scores.size\n",
    "scores.shape                         \n",
    "\n",
    "np.random.randint(50, 101, size=5)\n",
    "scores = np.random.randint(50,101, size=(50, 5))\n",
    "scores.size\n",
    "scores.shape"
   ]
  },
  {
   "cell_type": "code",
   "execution_count": 21,
   "id": "55a65cf4",
   "metadata": {},
   "outputs": [
    {
     "data": {
      "text/plain": [
       "array([83, 70, 61, 84, 73, 74, 53, 61, 64, 95, 79, 88, 59, 97, 76, 58, 53,\n",
       "       83, 52, 64, 61, 95, 80, 67, 75, 82, 58, 93, 93, 70, 92, 62, 71, 64,\n",
       "       68, 83, 53, 86, 90, 51, 78, 56, 77, 52, 60, 88, 52, 85, 97, 86])"
      ]
     },
     "execution_count": 21,
     "metadata": {},
     "output_type": "execute_result"
    }
   ],
   "source": [
    "scores[:,0] "
   ]
  },
  {
   "cell_type": "markdown",
   "id": "52ee77d6",
   "metadata": {},
   "source": [
    "scores[:,0]  -是 NumPy 陣列的切片語法，用於取得二維陣列\n",
    "0 表示第 1 欄（索引 0）"
   ]
  },
  {
   "cell_type": "code",
   "execution_count": 11,
   "id": "c69eece5",
   "metadata": {},
   "outputs": [
    {
     "data": {
      "text/plain": [
       "array([[83],\n",
       "       [70],\n",
       "       [61],\n",
       "       [84],\n",
       "       [73],\n",
       "       [74],\n",
       "       [53],\n",
       "       [61],\n",
       "       [64],\n",
       "       [95],\n",
       "       [79],\n",
       "       [88],\n",
       "       [59],\n",
       "       [97],\n",
       "       [76],\n",
       "       [58],\n",
       "       [53],\n",
       "       [83],\n",
       "       [52],\n",
       "       [64],\n",
       "       [61],\n",
       "       [95],\n",
       "       [80],\n",
       "       [67],\n",
       "       [75],\n",
       "       [82],\n",
       "       [58],\n",
       "       [93],\n",
       "       [93],\n",
       "       [70],\n",
       "       [92],\n",
       "       [62],\n",
       "       [71],\n",
       "       [64],\n",
       "       [68],\n",
       "       [83],\n",
       "       [53],\n",
       "       [86],\n",
       "       [90],\n",
       "       [51],\n",
       "       [78],\n",
       "       [56],\n",
       "       [77],\n",
       "       [52],\n",
       "       [60],\n",
       "       [88],\n",
       "       [52],\n",
       "       [85],\n",
       "       [97],\n",
       "       [86]])"
      ]
     },
     "execution_count": 11,
     "metadata": {},
     "output_type": "execute_result"
    }
   ],
   "source": [
    "scores[:,0]\n",
    "scores[:,0:1]"
   ]
  },
  {
   "cell_type": "markdown",
   "id": "40dd4b3f",
   "metadata": {},
   "source": [
    "scores[:,0] 回傳一維陣列（shape 為 (n,)），其中 n 是列數。\n",
    "scores[:,0:1] 回傳二維陣列（shape 為 (n, 1)），保持原本的列數和欄數結構。\n",
    "取出所有列的第 0 欄到第 1 欄（不含 1）的子陣列，也就是只取第 0 欄，但保持二維結構"
   ]
  },
  {
   "cell_type": "code",
   "execution_count": 13,
   "id": "0fe9e5b3",
   "metadata": {},
   "outputs": [
    {
     "data": {
      "text/plain": [
       "array([[83, 71, 54, 73, 54]])"
      ]
     },
     "execution_count": 13,
     "metadata": {},
     "output_type": "execute_result"
    }
   ],
   "source": [
    "scores[0,:]\n",
    "scores[0:1,:]"
   ]
  },
  {
   "cell_type": "markdown",
   "id": "8e9fdbe8",
   "metadata": {},
   "source": [
    "scores[0,:] 回傳一維陣列（shape 為 (m,)，m 為欄數）\n",
    "scores[0:1,:] 取出第 0 列到第 1 列（不含 1），也就是只取第 0 列，但保持二維結構。\n",
    "輸出形狀：回傳二維陣列（shape 為 (1, m)）"
   ]
  },
  {
   "cell_type": "markdown",
   "id": "23c70412",
   "metadata": {},
   "source": [
    "scores 是一個變數名稱，通常用來表示一個 NumPy 陣列（ndarray），\n",
    "裡面可能存放著多筆數值資料，常見於存放學生分數、測試結果或其他數值資料的情況"
   ]
  },
  {
   "cell_type": "code",
   "execution_count": 14,
   "id": "0c279480",
   "metadata": {},
   "outputs": [
    {
     "data": {
      "text/plain": [
       "array([[ 83,  71,  54,  73,  54],\n",
       "       [ 70,  68,  94,  95,  84],\n",
       "       [ 61,  74,  82,  95,  63],\n",
       "       [ 84,  65,  87,  88,  89],\n",
       "       [ 73,  78,  65, 100,  52],\n",
       "       [ 74,  58, 100,  53, 100],\n",
       "       [ 53,  87,  84,  69,  64],\n",
       "       [ 61,  93,  55,  57,  81],\n",
       "       [ 64,  87,  55,  69,  61],\n",
       "       [ 95,  70,  75,  52,  73],\n",
       "       [ 79,  69,  84,  81,  54],\n",
       "       [ 88,  84,  53,  84,  92],\n",
       "       [ 59,  96,  55,  54,  99],\n",
       "       [ 97,  53,  98, 100,  76],\n",
       "       [ 76,  54,  99,  60,  98],\n",
       "       [ 58,  69,  79,  60,  88],\n",
       "       [ 53,  75,  88,  81,  92],\n",
       "       [ 83,  66,  66,  87,  79],\n",
       "       [ 52,  80,  61,  67,  79],\n",
       "       [ 64,  52,  76,  62,  52],\n",
       "       [ 61,  87,  66,  84,  66],\n",
       "       [ 95,  75,  86,  53,  83],\n",
       "       [ 80,  64,  60,  67,  78],\n",
       "       [ 67, 100,  96,  61,  78],\n",
       "       [ 75,  87,  79,  61,  74],\n",
       "       [ 82,  68,  84,  57,  95],\n",
       "       [ 58,  55,  93,  71,  96],\n",
       "       [ 93,  53,  71,  55,  87],\n",
       "       [ 93,  64,  54,  83,  57],\n",
       "       [ 70,  72,  51,  64,  73],\n",
       "       [ 92,  64,  69,  70,  65],\n",
       "       [ 62,  63,  85,  71,  71],\n",
       "       [ 71,  97,  83,  99,  70],\n",
       "       [ 64,  74,  60,  96,  64],\n",
       "       [ 68,  65,  76,  67,  80],\n",
       "       [ 83,  82,  68,  82,  58],\n",
       "       [ 53,  71,  82,  79,  59],\n",
       "       [ 86,  95,  99,  91,  97],\n",
       "       [ 90,  73,  68,  90,  99],\n",
       "       [ 51,  94,  98, 100, 100],\n",
       "       [ 78, 100,  54,  93,  60],\n",
       "       [ 56,  90,  88,  98,  80],\n",
       "       [ 77,  73,  80,  76,  82],\n",
       "       [ 52,  71,  79,  61,  80],\n",
       "       [ 60,  91,  57,  54,  81],\n",
       "       [ 88,  62,  95,  70,  96],\n",
       "       [ 52,  68,  74,  88,  69],\n",
       "       [ 85,  80,  84,  86,  90],\n",
       "       [ 97,  81,  68,  64,  75],\n",
       "       [ 86,  78,  57,  76,  68]])"
      ]
     },
     "execution_count": 14,
     "metadata": {},
     "output_type": "execute_result"
    }
   ],
   "source": [
    "scores"
   ]
  },
  {
   "cell_type": "code",
   "execution_count": 15,
   "id": "b67668fb",
   "metadata": {},
   "outputs": [
    {
     "data": {
      "text/plain": [
       "np.int64(18787)"
      ]
     },
     "execution_count": 15,
     "metadata": {},
     "output_type": "execute_result"
    }
   ],
   "source": [
    "np.sum(scores)"
   ]
  },
  {
   "cell_type": "markdown",
   "id": "37d6da25",
   "metadata": {},
   "source": [
    "np.sum(scores) 是 NumPy 的加總函數，用來計算陣列 scores 所有元素的總和"
   ]
  },
  {
   "cell_type": "code",
   "execution_count": 19,
   "id": "86fb97d1",
   "metadata": {},
   "outputs": [
    {
     "data": {
      "text/plain": [
       "array([67. , 82.2, 75. , 82.6, 73.6, 77. , 71.4, 69.4, 67.2, 73. , 73.4,\n",
       "       80.2, 72.6, 84.8, 77.4, 70.8, 77.8, 76.2, 67.8, 61.2, 72.8, 78.4,\n",
       "       69.8, 80.4, 75.2, 77.2, 74.6, 71.8, 70.2, 66. , 72. , 70.4, 84. ,\n",
       "       71.6, 71.2, 74.6, 68.8, 93.6, 84. , 88.6, 77. , 82.4, 77.6, 68.6,\n",
       "       68.6, 82.2, 70.2, 85. , 77. , 73. ])"
      ]
     },
     "execution_count": 19,
     "metadata": {},
     "output_type": "execute_result"
    }
   ],
   "source": [
    "np.sum(scores,axis=1)\n",
    "np.mean(scores, axis=1)\n"
   ]
  },
  {
   "cell_type": "markdown",
   "id": "0073ddb0",
   "metadata": {},
   "source": [
    "np.sum(scores, axis=1) 功能：計算 scores 陣列每一列的總和。\n",
    "說明：axis=1 代表沿著欄（column）方向運算，也就是對每一列的所有元素加總。\n",
    "np.mean(scores, axis=1) 功能：計算 scores 陣列每一列的平均值。\n",
    "說明：axis=1 代表沿著欄方向運算，也就是對每一列的所有元素取平均。"
   ]
  },
  {
   "cell_type": "code",
   "execution_count": 27,
   "id": "f6e29fd2",
   "metadata": {},
   "outputs": [
    {
     "data": {
      "text/plain": [
       "array([ True,  True, False, False,  True])"
      ]
     },
     "execution_count": 27,
     "metadata": {},
     "output_type": "execute_result"
    }
   ],
   "source": [
    "# 使用比較運算子\n",
    "arr = np.random.randn(5)\n",
    "arr > 0"
   ]
  },
  {
   "cell_type": "markdown",
   "id": "241ce8bb",
   "metadata": {},
   "source": [
    "np.random.randn(5) 會產生一個長度為 5 的一維陣列，元素是標準常態分布（平均值 0，標準差 1）的隨機數。\n",
    "arr > 0 這會對陣列中的每個元素進行「是否大於 0」的判斷，回傳一個同樣長度的布林陣列（True/False）"
   ]
  },
  {
   "cell_type": "code",
   "execution_count": 28,
   "id": "d0b66a3c",
   "metadata": {},
   "outputs": [
    {
     "data": {
      "text/plain": [
       "array([1, 1, 0, 0, 1])"
      ]
     },
     "execution_count": 28,
     "metadata": {},
     "output_type": "execute_result"
    }
   ],
   "source": [
    "np.where(arr >0,1,0)"
   ]
  },
  {
   "cell_type": "markdown",
   "id": "976f0abf",
   "metadata": {},
   "source": [
    "np.where(arr > 0, 1, 0) 會根據條件，將 arr 中大於 0 的元素標記為 1，其餘標記為 0。\n",
    "回傳一個同樣形狀的陣列，元素值為 1 或 0。這是數據處理、特徵工程中非常常用的技巧"
   ]
  },
  {
   "cell_type": "code",
   "execution_count": 29,
   "id": "133d7a7c",
   "metadata": {},
   "outputs": [
    {
     "data": {
      "text/plain": [
       "array([ 1.        ,  1.        , -0.69970808, -0.14914837,  1.        ])"
      ]
     },
     "execution_count": 29,
     "metadata": {},
     "output_type": "execute_result"
    }
   ],
   "source": [
    "np.where(arr >0,1, arr)"
   ]
  },
  {
   "cell_type": "markdown",
   "id": "d4f864fc",
   "metadata": {},
   "source": [
    "np.where(arr > 0, 1, arr) 會將正數元素變成 1，其他元素（0 或負數）保持原值。\n",
    "結果是一個和 arr 形狀相同的新陣列，這種操作在數據標記、資料轉換時非常實用"
   ]
  }
 ],
 "metadata": {
  "kernelspec": {
   "display_name": "base",
   "language": "python",
   "name": "python3"
  },
  "language_info": {
   "codemirror_mode": {
    "name": "ipython",
    "version": 3
   },
   "file_extension": ".py",
   "mimetype": "text/x-python",
   "name": "python",
   "nbconvert_exporter": "python",
   "pygments_lexer": "ipython3",
   "version": "3.12.9"
  }
 },
 "nbformat": 4,
 "nbformat_minor": 5
}
