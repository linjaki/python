{
 "cells": [
  {
   "cell_type": "code",
   "execution_count": null,
   "id": "15b9ead8",
   "metadata": {},
   "outputs": [
    {
     "ename": "",
     "evalue": "",
     "output_type": "error",
     "traceback": [
      "\u001b[1;31m執行具有 'base (Python 3.13.2)' 的儲存格需要 ipykernel 套件。\n",
      "\u001b[1;31m將 'ipykernel' 安裝到 Python 環境中。\n",
      "\u001b[1;31m命令: 'conda install -n base ipykernel --update-deps --force-reinstall'"
     ]
    }
   ],
   "source": [
    "#標準寫法\n",
    "import matplotlib.pyplot as plt\n",
    "\n",
    "# 1.製作figure\n",
    "fig = plt.figure()\n",
    "\n",
    "# 2.在1.的figure上製作一個axes\n",
    "ax_1 = fig.add_subplot(1, 1, 1)\n",
    "\n",
    "# 3.將圖的數據儲存在axes中\n",
    "X = [0, 1, 2]\n",
    "Y = [3, 4, 5]\n",
    "ax_1.plot(X, Y)\n",
    "\n",
    "# 4.顯示圖\n",
    "plt.show()"
   ]
  }
 ],
 "metadata": {
  "kernelspec": {
   "display_name": "base",
   "language": "python",
   "name": "python3"
  },
  "language_info": {
   "name": "python",
   "version": "3.13.2"
  }
 },
 "nbformat": 4,
 "nbformat_minor": 5
}
