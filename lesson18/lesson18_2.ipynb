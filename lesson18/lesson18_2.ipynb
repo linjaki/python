{
 "cells": [
  {
   "cell_type": "markdown",
   "id": "9bac1b25",
   "metadata": {},
   "source": [
    "# pandas讀取EXCEL "
   ]
  },
  {
   "cell_type": "code",
   "execution_count": 1,
   "id": "ef5aeb4d",
   "metadata": {},
   "outputs": [
    {
     "name": "stdout",
     "output_type": "stream",
     "text": [
      "<class 'pandas.core.frame.DataFrame'>\n",
      "Index: 370 entries, 板橋區 to 南沙群島\n",
      "Data columns (total 4 columns):\n",
      " #   Column  Non-Null Count  Dtype  \n",
      "---  ------  --------------  -----  \n",
      " 0   年底人口數   370 non-null    int64  \n",
      " 1   土地面積    370 non-null    float64\n",
      " 2   人口密度    370 non-null    int64  \n",
      " 3   縣市      370 non-null    object \n",
      "dtypes: float64(1), int64(2), object(1)\n",
      "memory usage: 14.5+ KB\n"
     ]
    }
   ],
   "source": [
    "import pandas as pd\n",
    "\n",
    "df = pd.read_excel(\"各鄉鎮市區人口密度.xlsx\", index_col=0)\n",
    "df.info()"
   ]
  },
  {
   "cell_type": "markdown",
   "id": "944c52b3",
   "metadata": {},
   "source": [
    "### 一個DataFrame,做出一個DataFrame統計資料\n",
    "最多數 max()\n",
    "最少數 min()\n",
    "平均數 mean()\n",
    "中位數 median()\n",
    "標準差 std()\n",
    "DataFrame apply()"
   ]
  },
  {
   "cell_type": "code",
   "execution_count": null,
   "id": "b3334aaf",
   "metadata": {},
   "outputs": [
    {
     "data": {
      "text/html": [
       "<div>\n",
       "<style scoped>\n",
       "    .dataframe tbody tr th:only-of-type {\n",
       "        vertical-align: middle;\n",
       "    }\n",
       "\n",
       "    .dataframe tbody tr th {\n",
       "        vertical-align: top;\n",
       "    }\n",
       "\n",
       "    .dataframe thead th {\n",
       "        text-align: right;\n",
       "    }\n",
       "</style>\n",
       "<table border=\"1\" class=\"dataframe\">\n",
       "  <thead>\n",
       "    <tr style=\"text-align: right;\">\n",
       "      <th></th>\n",
       "      <th>年底人口數</th>\n",
       "      <th>土地面積</th>\n",
       "      <th>人口密度</th>\n",
       "    </tr>\n",
       "    <tr>\n",
       "      <th>區域別</th>\n",
       "      <th></th>\n",
       "      <th></th>\n",
       "      <th></th>\n",
       "    </tr>\n",
       "  </thead>\n",
       "  <tbody>\n",
       "    <tr>\n",
       "      <th>板橋區</th>\n",
       "      <td>551480</td>\n",
       "      <td>23.1373</td>\n",
       "      <td>23835</td>\n",
       "    </tr>\n",
       "    <tr>\n",
       "      <th>三重區</th>\n",
       "      <td>387484</td>\n",
       "      <td>16.3170</td>\n",
       "      <td>23747</td>\n",
       "    </tr>\n",
       "    <tr>\n",
       "      <th>中和區</th>\n",
       "      <td>413590</td>\n",
       "      <td>20.1440</td>\n",
       "      <td>20532</td>\n",
       "    </tr>\n",
       "    <tr>\n",
       "      <th>永和區</th>\n",
       "      <td>222585</td>\n",
       "      <td>5.7138</td>\n",
       "      <td>38956</td>\n",
       "    </tr>\n",
       "    <tr>\n",
       "      <th>新莊區</th>\n",
       "      <td>416524</td>\n",
       "      <td>19.7383</td>\n",
       "      <td>21102</td>\n",
       "    </tr>\n",
       "    <tr>\n",
       "      <th>...</th>\n",
       "      <td>...</td>\n",
       "      <td>...</td>\n",
       "      <td>...</td>\n",
       "    </tr>\n",
       "    <tr>\n",
       "      <th>北竿鄉</th>\n",
       "      <td>2360</td>\n",
       "      <td>9.9000</td>\n",
       "      <td>238</td>\n",
       "    </tr>\n",
       "    <tr>\n",
       "      <th>莒光鄉</th>\n",
       "      <td>1624</td>\n",
       "      <td>4.7000</td>\n",
       "      <td>346</td>\n",
       "    </tr>\n",
       "    <tr>\n",
       "      <th>東引鄉</th>\n",
       "      <td>1352</td>\n",
       "      <td>3.8000</td>\n",
       "      <td>356</td>\n",
       "    </tr>\n",
       "    <tr>\n",
       "      <th>東沙群島</th>\n",
       "      <td>0</td>\n",
       "      <td>2.3800</td>\n",
       "      <td>0</td>\n",
       "    </tr>\n",
       "    <tr>\n",
       "      <th>南沙群島</th>\n",
       "      <td>0</td>\n",
       "      <td>0.5045</td>\n",
       "      <td>0</td>\n",
       "    </tr>\n",
       "  </tbody>\n",
       "</table>\n",
       "<p>370 rows × 3 columns</p>\n",
       "</div>"
      ],
      "text/plain": [
       "       年底人口數     土地面積   人口密度\n",
       "區域別                         \n",
       "板橋區   551480  23.1373  23835\n",
       "三重區   387484  16.3170  23747\n",
       "中和區   413590  20.1440  20532\n",
       "永和區   222585   5.7138  38956\n",
       "新莊區   416524  19.7383  21102\n",
       "...      ...      ...    ...\n",
       "北竿鄉     2360   9.9000    238\n",
       "莒光鄉     1624   4.7000    346\n",
       "東引鄉     1352   3.8000    356\n",
       "東沙群島       0   2.3800      0\n",
       "南沙群島       0   0.5045      0\n",
       "\n",
       "[370 rows x 3 columns]"
      ]
     },
     "execution_count": 2,
     "metadata": {},
     "output_type": "execute_result"
    }
   ],
   "source": [
    "df1 = df[[\"年底人口數\", \"土地面積\", \"人口密度\"]]"
   ]
  },
  {
   "cell_type": "code",
   "execution_count": 3,
   "id": "81f74ffc",
   "metadata": {},
   "outputs": [
    {
     "data": {
      "text/plain": [
       "年底人口數    0\n",
       "土地面積     0\n",
       "人口密度     0\n",
       "dtype: int64"
      ]
     },
     "execution_count": 3,
     "metadata": {},
     "output_type": "execute_result"
    }
   ],
   "source": [
    "df1 = df[[\"年底人口數\", \"土地面積\", \"人口密度\"]]\n",
    "\n",
    "def statistic(s):\n",
    "    return 0\n",
    "\n",
    "df1.apply(statistic,axis=0)"
   ]
  },
  {
   "cell_type": "code",
   "execution_count": 6,
   "id": "bc154aa5",
   "metadata": {},
   "outputs": [
    {
     "data": {
      "text/plain": [
       "年底人口數    63706.018919\n",
       "土地面積        97.829911\n",
       "人口密度      2754.002703\n",
       "dtype: float64"
      ]
     },
     "execution_count": 6,
     "metadata": {},
     "output_type": "execute_result"
    }
   ],
   "source": [
    "df1 = df[[\"年底人口數\", \"土地面積\", \"人口密度\"]]\n",
    "\n",
    "def statistic(s):\n",
    "    return s.mean()\n",
    "\n",
    "df1.apply(statistic,axis=0)"
   ]
  },
  {
   "cell_type": "markdown",
   "id": "2def3fb5",
   "metadata": {},
   "source": [
    "# df1 = df[[\"年底人口數\", \"土地面積\", \"人口密度\"]] \n",
    "這行從原始的 DataFrame df 中，挑選出三個欄位，建立新的 DataFrame df1。\n",
    "\n",
    "# def statistic(s):\n",
    "    # return pd.Series([s.mean(),s.max(),s.min(),s.std(),s.median()],index=[\"平均\",\"最大\",\"最小\",\"標準差\",\"中位數\"])\n",
    "接受一個 Series（即一個欄位），計算其平均值、最大值、最小值、標準差和中位數，並以有意義的中文標籤組成一個新的 Series 回傳。\n",
    "# df1.apply(statistic,axis=0)\n",
    "這行對 df1 的每一欄（axis=0）都執行 statistic 函式，最終回傳一個新的 DataFrame，每一欄對應原本的欄位，每一列對應一種統計指標。"
   ]
  },
  {
   "cell_type": "code",
   "execution_count": 7,
   "id": "4da20687",
   "metadata": {},
   "outputs": [
    {
     "data": {
      "text/html": [
       "<div>\n",
       "<style scoped>\n",
       "    .dataframe tbody tr th:only-of-type {\n",
       "        vertical-align: middle;\n",
       "    }\n",
       "\n",
       "    .dataframe tbody tr th {\n",
       "        vertical-align: top;\n",
       "    }\n",
       "\n",
       "    .dataframe thead th {\n",
       "        text-align: right;\n",
       "    }\n",
       "</style>\n",
       "<table border=\"1\" class=\"dataframe\">\n",
       "  <thead>\n",
       "    <tr style=\"text-align: right;\">\n",
       "      <th></th>\n",
       "      <th>年底人口數</th>\n",
       "      <th>土地面積</th>\n",
       "      <th>人口密度</th>\n",
       "    </tr>\n",
       "  </thead>\n",
       "  <tbody>\n",
       "    <tr>\n",
       "      <th>平均</th>\n",
       "      <td>63706.018919</td>\n",
       "      <td>97.829911</td>\n",
       "      <td>2754.002703</td>\n",
       "    </tr>\n",
       "    <tr>\n",
       "      <th>最大</th>\n",
       "      <td>551480.000000</td>\n",
       "      <td>1641.855500</td>\n",
       "      <td>38956.000000</td>\n",
       "    </tr>\n",
       "    <tr>\n",
       "      <th>最小</th>\n",
       "      <td>0.000000</td>\n",
       "      <td>0.504500</td>\n",
       "      <td>0.000000</td>\n",
       "    </tr>\n",
       "    <tr>\n",
       "      <th>標準差</th>\n",
       "      <td>82886.532344</td>\n",
       "      <td>179.833241</td>\n",
       "      <td>5578.346233</td>\n",
       "    </tr>\n",
       "    <tr>\n",
       "      <th>中位數</th>\n",
       "      <td>30684.000000</td>\n",
       "      <td>53.416900</td>\n",
       "      <td>627.500000</td>\n",
       "    </tr>\n",
       "  </tbody>\n",
       "</table>\n",
       "</div>"
      ],
      "text/plain": [
       "             年底人口數         土地面積          人口密度\n",
       "平均    63706.018919    97.829911   2754.002703\n",
       "最大   551480.000000  1641.855500  38956.000000\n",
       "最小        0.000000     0.504500      0.000000\n",
       "標準差   82886.532344   179.833241   5578.346233\n",
       "中位數   30684.000000    53.416900    627.500000"
      ]
     },
     "execution_count": 7,
     "metadata": {},
     "output_type": "execute_result"
    }
   ],
   "source": [
    "df1 = df[[\"年底人口數\", \"土地面積\", \"人口密度\"]]\n",
    "\n",
    "def statistic(s):\n",
    "    return pd.Series([s.mean(),s.max(),s.min(),s.std(),s.median()],index=[\"平均\",\"最大\",\"最小\",\"標準差\",\"中位數\"])\n",
    "\n",
    "df1.apply(statistic,axis=0)"
   ]
  },
  {
   "cell_type": "code",
   "execution_count": null,
   "id": "feca7e71",
   "metadata": {},
   "outputs": [],
   "source": [
    "df1 = df[[\"年底人口數\",\"土地面積\",\"人口密度\"]]\n",
    "\n",
    "def statistic(s):\n",
    "    max_city = s[s == s.max()].index[0]\n",
    "    min_city = s[s == s.min()].index[0]\n",
    "    return pd.Series([s.mean(),s.max(),max_city,s.min(),min_city,s.std(),s.median()],\n",
    "                     index=['平均','最高','最高縣市','最低','最低縣市','標準差','中間數'])\n",
    "\n",
    "df1.apply(statistic,axis=0)"
   ]
  },
  {
   "cell_type": "code",
   "execution_count": 17,
   "id": "be15dcf6",
   "metadata": {},
   "outputs": [
    {
     "data": {
      "text/html": [
       "<div>\n",
       "<style scoped>\n",
       "    .dataframe tbody tr th:only-of-type {\n",
       "        vertical-align: middle;\n",
       "    }\n",
       "\n",
       "    .dataframe tbody tr th {\n",
       "        vertical-align: top;\n",
       "    }\n",
       "\n",
       "    .dataframe thead th {\n",
       "        text-align: right;\n",
       "    }\n",
       "</style>\n",
       "<table border=\"1\" class=\"dataframe\">\n",
       "  <thead>\n",
       "    <tr style=\"text-align: right;\">\n",
       "      <th></th>\n",
       "      <th>年底人口數</th>\n",
       "      <th>土地面積</th>\n",
       "      <th>人口密度</th>\n",
       "    </tr>\n",
       "  </thead>\n",
       "  <tbody>\n",
       "    <tr>\n",
       "      <th>平均</th>\n",
       "      <td>63706.018919</td>\n",
       "      <td>97.829911</td>\n",
       "      <td>2754.002703</td>\n",
       "    </tr>\n",
       "    <tr>\n",
       "      <th>最高</th>\n",
       "      <td>551480</td>\n",
       "      <td>1641.8555</td>\n",
       "      <td>38956</td>\n",
       "    </tr>\n",
       "    <tr>\n",
       "      <th>最高縣市</th>\n",
       "      <td>板橋區</td>\n",
       "      <td>秀林鄉</td>\n",
       "      <td>永和區</td>\n",
       "    </tr>\n",
       "    <tr>\n",
       "      <th>最低</th>\n",
       "      <td>0</td>\n",
       "      <td>0.5045</td>\n",
       "      <td>0</td>\n",
       "    </tr>\n",
       "    <tr>\n",
       "      <th>最低縣市</th>\n",
       "      <td>東沙群島</td>\n",
       "      <td>南沙群島</td>\n",
       "      <td>東沙群島</td>\n",
       "    </tr>\n",
       "    <tr>\n",
       "      <th>標準差</th>\n",
       "      <td>82886.532344</td>\n",
       "      <td>179.833241</td>\n",
       "      <td>5578.346233</td>\n",
       "    </tr>\n",
       "    <tr>\n",
       "      <th>中位數</th>\n",
       "      <td>30684.0</td>\n",
       "      <td>53.4169</td>\n",
       "      <td>627.5</td>\n",
       "    </tr>\n",
       "  </tbody>\n",
       "</table>\n",
       "</div>"
      ],
      "text/plain": [
       "             年底人口數        土地面積         人口密度\n",
       "平均    63706.018919   97.829911  2754.002703\n",
       "最高          551480   1641.8555        38956\n",
       "最高縣市           板橋區         秀林鄉          永和區\n",
       "最低               0      0.5045            0\n",
       "最低縣市          東沙群島        南沙群島         東沙群島\n",
       "標準差   82886.532344  179.833241  5578.346233\n",
       "中位數        30684.0     53.4169        627.5"
      ]
     },
     "execution_count": 17,
     "metadata": {},
     "output_type": "execute_result"
    }
   ],
   "source": [
    "df1 = df[[\"年底人口數\", \"土地面積\", \"人口密度\"]]\n",
    "\n",
    "def statistic(s):\n",
    "    max_city = s[s == s.max()].index[0]\n",
    "    min_city = s[s == s.min()].index[0]\n",
    "    return pd.Series([s.mean(),s.max(),max_city,s.min(),min_city,s.std(),s.median()],\n",
    "                    index=[\"平均\",\"最高\",\"最高縣市\",\"最低\",\"最低縣市\",\"標準差\",\"中位數\"])\n",
    "\n",
    "df1.apply(statistic,axis=0)"
   ]
  },
  {
   "cell_type": "code",
   "execution_count": 22,
   "id": "167976fa",
   "metadata": {},
   "outputs": [
    {
     "data": {
      "text/plain": [
       "區域別\n",
       "板橋區    551480\n",
       "三重區    387484\n",
       "中和區    413590\n",
       "永和區    222585\n",
       "新莊區    416524\n",
       "        ...  \n",
       "金城鎮     43285\n",
       "金湖鎮     29413\n",
       "金沙鎮     20535\n",
       "金寧鄉     30838\n",
       "烈嶼鄉     12700\n",
       "Name: 年底人口數, Length: 304, dtype: int64"
      ]
     },
     "execution_count": 22,
     "metadata": {},
     "output_type": "execute_result"
    }
   ],
   "source": [
    "df1['年底人口數'][df1['年底人口數'] > 10000]"
   ]
  },
  {
   "cell_type": "code",
   "execution_count": 23,
   "id": "78c1988c",
   "metadata": {},
   "outputs": [
    {
     "data": {
      "text/plain": [
       "區域別\n",
       "板橋區    551480\n",
       "Name: 年底人口數, dtype: int64"
      ]
     },
     "execution_count": 23,
     "metadata": {},
     "output_type": "execute_result"
    }
   ],
   "source": [
    "df1['年底人口數'][df1['年底人口數'] == 551480]"
   ]
  }
 ],
 "metadata": {
  "kernelspec": {
   "display_name": "base",
   "language": "python",
   "name": "python3"
  },
  "language_info": {
   "codemirror_mode": {
    "name": "ipython",
    "version": 3
   },
   "file_extension": ".py",
   "mimetype": "text/x-python",
   "name": "python",
   "nbconvert_exporter": "python",
   "pygments_lexer": "ipython3",
   "version": "3.12.9"
  }
 },
 "nbformat": 4,
 "nbformat_minor": 5
}
