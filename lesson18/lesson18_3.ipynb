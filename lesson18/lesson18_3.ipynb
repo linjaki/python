{
 "cells": [
  {
   "cell_type": "markdown",
   "id": "71994274",
   "metadata": {},
   "source": [
    "### 相關係數(correlation)"
   ]
  },
  {
   "cell_type": "code",
   "execution_count": 5,
   "id": "3be83eba",
   "metadata": {},
   "outputs": [
    {
     "data": {
      "text/plain": [
       "np.float64(0.9941983762371884)"
      ]
     },
     "execution_count": 5,
     "metadata": {},
     "output_type": "execute_result"
    }
   ],
   "source": [
    "### 相關係數(correlation)\n",
    "import numpy as np\n",
    "import pandas as pd\n",
    "\n",
    "data = {'年廣告費投入':[12.5, 15.3, 23.2, 26.4, 33.5, 34.4, 39.4, 45.2, 55.4, 60.9],\n",
    "            '月均銷售額':[21.2, 23.9, 32.9, 34.1, 42.5, 43.2, 49.0, 52.8, 59.4, 63.5]}\n",
    "dataFrame = pd.DataFrame(data, index=[2011,2012,2013,2014,2015,2016,2017,2018,2019,2020])\n",
    "corration = dataFrame['年廣告費投入'].corr(dataFrame['月均銷售額'])\n",
    "corration\n"
   ]
  },
  {
   "cell_type": "code",
   "execution_count": 6,
   "id": "28b7da62",
   "metadata": {},
   "outputs": [
    {
     "data": {
      "image/png": "[encoded data removed]",
      "text/plain": [
       "<Figure size 800x500 with 1 Axes>"
      ]
     },
     "metadata": {},
     "output_type": "display_data"
    }
   ],
   "source": [
    "import matplotlib.pyplot as plt\n",
    "figure = plt.figure(figsize=(8, 5))\n",
    "axes = figure.add_subplot()\n",
    "axes.plot(dataFrame.index, dataFrame['年廣告費投入'], marker='o')\n",
    "axes.plot(dataFrame.index,dataFrame['月均銷售額'],marker='.')\n",
    "plt.show()"
   ]
  },
  {
   "cell_type": "code",
   "execution_count": 8,
   "id": "a6fb1330",
   "metadata": {},
   "outputs": [
    {
     "name": "stderr",
     "output_type": "stream",
     "text": [
      "[*********************100%***********************]  1 of 1 completed\n"
     ]
    },
    {
     "data": {
      "text/html": [
       "<div>\n",
       "<style scoped>\n",
       "    .dataframe tbody tr th:only-of-type {\n",
       "        vertical-align: middle;\n",
       "    }\n",
       "\n",
       "    .dataframe tbody tr th {\n",
       "        vertical-align: top;\n",
       "    }\n",
       "\n",
       "    .dataframe thead tr th {\n",
       "        text-align: left;\n",
       "    }\n",
       "\n",
       "    .dataframe thead tr:last-of-type th {\n",
       "        text-align: right;\n",
       "    }\n",
       "</style>\n",
       "<table border=\"1\" class=\"dataframe\">\n",
       "  <thead>\n",
       "    <tr>\n",
       "      <th>Price</th>\n",
       "      <th>Close</th>\n",
       "      <th>High</th>\n",
       "      <th>Low</th>\n",
       "      <th>Open</th>\n",
       "      <th>Volume</th>\n",
       "    </tr>\n",
       "    <tr>\n",
       "      <th>Ticker</th>\n",
       "      <th>2330.TW</th>\n",
       "      <th>2330.TW</th>\n",
       "      <th>2330.TW</th>\n",
       "      <th>2330.TW</th>\n",
       "      <th>2330.TW</th>\n",
       "    </tr>\n",
       "    <tr>\n",
       "      <th>Date</th>\n",
       "      <th></th>\n",
       "      <th></th>\n",
       "      <th></th>\n",
       "      <th></th>\n",
       "      <th></th>\n",
       "    </tr>\n",
       "  </thead>\n",
       "  <tbody>\n",
       "    <tr>\n",
       "      <th>2024-01-02</th>\n",
       "      <td>593.0</td>\n",
       "      <td>593.0</td>\n",
       "      <td>589.0</td>\n",
       "      <td>590.0</td>\n",
       "      <td>26059058</td>\n",
       "    </tr>\n",
       "    <tr>\n",
       "      <th>2024-01-03</th>\n",
       "      <td>578.0</td>\n",
       "      <td>585.0</td>\n",
       "      <td>576.0</td>\n",
       "      <td>584.0</td>\n",
       "      <td>37106763</td>\n",
       "    </tr>\n",
       "    <tr>\n",
       "      <th>2024-01-04</th>\n",
       "      <td>580.0</td>\n",
       "      <td>581.0</td>\n",
       "      <td>577.0</td>\n",
       "      <td>580.0</td>\n",
       "      <td>15309129</td>\n",
       "    </tr>\n",
       "    <tr>\n",
       "      <th>2024-01-05</th>\n",
       "      <td>576.0</td>\n",
       "      <td>580.0</td>\n",
       "      <td>574.0</td>\n",
       "      <td>578.0</td>\n",
       "      <td>18158971</td>\n",
       "    </tr>\n",
       "    <tr>\n",
       "      <th>2024-01-08</th>\n",
       "      <td>583.0</td>\n",
       "      <td>585.0</td>\n",
       "      <td>579.0</td>\n",
       "      <td>582.0</td>\n",
       "      <td>17761275</td>\n",
       "    </tr>\n",
       "    <tr>\n",
       "      <th>...</th>\n",
       "      <td>...</td>\n",
       "      <td>...</td>\n",
       "      <td>...</td>\n",
       "      <td>...</td>\n",
       "      <td>...</td>\n",
       "    </tr>\n",
       "    <tr>\n",
       "      <th>2024-06-24</th>\n",
       "      <td>940.0</td>\n",
       "      <td>960.0</td>\n",
       "      <td>940.0</td>\n",
       "      <td>958.0</td>\n",
       "      <td>66391994</td>\n",
       "    </tr>\n",
       "    <tr>\n",
       "      <th>2024-06-25</th>\n",
       "      <td>945.0</td>\n",
       "      <td>945.0</td>\n",
       "      <td>923.0</td>\n",
       "      <td>925.0</td>\n",
       "      <td>57368432</td>\n",
       "    </tr>\n",
       "    <tr>\n",
       "      <th>2024-06-26</th>\n",
       "      <td>960.0</td>\n",
       "      <td>960.0</td>\n",
       "      <td>951.0</td>\n",
       "      <td>951.0</td>\n",
       "      <td>44967166</td>\n",
       "    </tr>\n",
       "    <tr>\n",
       "      <th>2024-06-27</th>\n",
       "      <td>960.0</td>\n",
       "      <td>961.0</td>\n",
       "      <td>949.0</td>\n",
       "      <td>951.0</td>\n",
       "      <td>39729446</td>\n",
       "    </tr>\n",
       "    <tr>\n",
       "      <th>2024-06-28</th>\n",
       "      <td>966.0</td>\n",
       "      <td>971.0</td>\n",
       "      <td>955.0</td>\n",
       "      <td>956.0</td>\n",
       "      <td>39138210</td>\n",
       "    </tr>\n",
       "  </tbody>\n",
       "</table>\n",
       "<p>117 rows × 5 columns</p>\n",
       "</div>"
      ],
      "text/plain": [
       "Price        Close    High     Low    Open    Volume\n",
       "Ticker     2330.TW 2330.TW 2330.TW 2330.TW   2330.TW\n",
       "Date                                                \n",
       "2024-01-02   593.0   593.0   589.0   590.0  26059058\n",
       "2024-01-03   578.0   585.0   576.0   584.0  37106763\n",
       "2024-01-04   580.0   581.0   577.0   580.0  15309129\n",
       "2024-01-05   576.0   580.0   574.0   578.0  18158971\n",
       "2024-01-08   583.0   585.0   579.0   582.0  17761275\n",
       "...            ...     ...     ...     ...       ...\n",
       "2024-06-24   940.0   960.0   940.0   958.0  66391994\n",
       "2024-06-25   945.0   945.0   923.0   925.0  57368432\n",
       "2024-06-26   960.0   960.0   951.0   951.0  44967166\n",
       "2024-06-27   960.0   961.0   949.0   951.0  39729446\n",
       "2024-06-28   966.0   971.0   955.0   956.0  39138210\n",
       "\n",
       "[117 rows x 5 columns]"
      ]
     },
     "execution_count": 8,
     "metadata": {},
     "output_type": "execute_result"
    }
   ],
   "source": [
    "import yfinance as yf\n",
    "yf.download('2330.tw',start='2024-01-01',end='2024-06-30',auto_adjust=True)\n"
   ]
  },
  {
   "cell_type": "code",
   "execution_count": 9,
   "id": "e3f7dc6c",
   "metadata": {},
   "outputs": [
    {
     "name": "stderr",
     "output_type": "stream",
     "text": [
      "[*********************100%***********************]  1 of 1 completed\n"
     ]
    }
   ],
   "source": [
    "import yfinance as yf\n",
    "tw2330 = yf.download('2330.tw',start='2024-01-01',end='2024-06-30',auto_adjust=True)\n"
   ]
  },
  {
   "cell_type": "code",
   "execution_count": 12,
   "id": "3b82c38f",
   "metadata": {},
   "outputs": [
    {
     "name": "stderr",
     "output_type": "stream",
     "text": [
      "[*********************100%***********************]  1 of 1 completed\n",
      "[*********************100%***********************]  1 of 1 completed\n",
      "[*********************100%***********************]  1 of 1 completed\n",
      "[*********************100%***********************]  1 of 1 completed\n"
     ]
    }
   ],
   "source": [
    "import yfinance as yf\n",
    "tw2330 = yf.download('2330.tw',start='2024-01-01',end='2024-06-30',auto_adjust=True)\n",
    "tw2303 = yf.download('2303.tw',start='2024-01-01',end='2024-06-30',auto_adjust=True)\n",
    "tw2454 = yf.download('2454.tw',start='2024-01-01',end='2024-06-30',auto_adjust=True)\n",
    "tw2317 = yf.download('2317.tw',start='2024-01-01',end='2024-06-30',auto_adjust=True)\n",
    "\n",
    "\n"
   ]
  },
  {
   "cell_type": "code",
   "execution_count": 14,
   "id": "4b73ba3b",
   "metadata": {},
   "outputs": [],
   "source": [
    "tw2330_s = tw2330['Close']['2330.TW']\n",
    "tw2303_s = tw2303['Close']['2303.TW']\n",
    "tw2454_s = tw2454['Close']['2454.TW']\n",
    "tw2317_s = tw2317['Close']['2317.TW']"
   ]
  },
  {
   "cell_type": "code",
   "execution_count": 15,
   "id": "9ba1007d",
   "metadata": {},
   "outputs": [
    {
     "data": {
      "text/html": [
       "<div>\n",
       "<style scoped>\n",
       "    .dataframe tbody tr th:only-of-type {\n",
       "        vertical-align: middle;\n",
       "    }\n",
       "\n",
       "    .dataframe tbody tr th {\n",
       "        vertical-align: top;\n",
       "    }\n",
       "\n",
       "    .dataframe thead th {\n",
       "        text-align: right;\n",
       "    }\n",
       "</style>\n",
       "<table border=\"1\" class=\"dataframe\">\n",
       "  <thead>\n",
       "    <tr style=\"text-align: right;\">\n",
       "      <th></th>\n",
       "      <th>台積電</th>\n",
       "      <th>聯電</th>\n",
       "      <th>聯發科</th>\n",
       "      <th>鴻海</th>\n",
       "    </tr>\n",
       "    <tr>\n",
       "      <th>Date</th>\n",
       "      <th></th>\n",
       "      <th></th>\n",
       "      <th></th>\n",
       "      <th></th>\n",
       "    </tr>\n",
       "  </thead>\n",
       "  <tbody>\n",
       "    <tr>\n",
       "      <th>2024-01-02</th>\n",
       "      <td>593.0</td>\n",
       "      <td>51.900002</td>\n",
       "      <td>915.833130</td>\n",
       "      <td>102.375000</td>\n",
       "    </tr>\n",
       "    <tr>\n",
       "      <th>2024-01-03</th>\n",
       "      <td>578.0</td>\n",
       "      <td>50.599998</td>\n",
       "      <td>889.693176</td>\n",
       "      <td>101.887505</td>\n",
       "    </tr>\n",
       "    <tr>\n",
       "      <th>2024-01-04</th>\n",
       "      <td>580.0</td>\n",
       "      <td>50.799999</td>\n",
       "      <td>889.309875</td>\n",
       "      <td>101.400002</td>\n",
       "    </tr>\n",
       "    <tr>\n",
       "      <th>2024-01-05</th>\n",
       "      <td>576.0</td>\n",
       "      <td>50.799999</td>\n",
       "      <td>882.601685</td>\n",
       "      <td>101.400002</td>\n",
       "    </tr>\n",
       "    <tr>\n",
       "      <th>2024-01-08</th>\n",
       "      <td>583.0</td>\n",
       "      <td>50.500000</td>\n",
       "      <td>881.643372</td>\n",
       "      <td>98.962502</td>\n",
       "    </tr>\n",
       "    <tr>\n",
       "      <th>...</th>\n",
       "      <td>...</td>\n",
       "      <td>...</td>\n",
       "      <td>...</td>\n",
       "      <td>...</td>\n",
       "    </tr>\n",
       "    <tr>\n",
       "      <th>2024-06-24</th>\n",
       "      <td>940.0</td>\n",
       "      <td>56.799999</td>\n",
       "      <td>1351.214233</td>\n",
       "      <td>200.850006</td>\n",
       "    </tr>\n",
       "    <tr>\n",
       "      <th>2024-06-25</th>\n",
       "      <td>945.0</td>\n",
       "      <td>56.400002</td>\n",
       "      <td>1327.256592</td>\n",
       "      <td>205.725006</td>\n",
       "    </tr>\n",
       "    <tr>\n",
       "      <th>2024-06-26</th>\n",
       "      <td>960.0</td>\n",
       "      <td>56.599998</td>\n",
       "      <td>1346.422852</td>\n",
       "      <td>204.750000</td>\n",
       "    </tr>\n",
       "    <tr>\n",
       "      <th>2024-06-27</th>\n",
       "      <td>960.0</td>\n",
       "      <td>56.400002</td>\n",
       "      <td>1336.839722</td>\n",
       "      <td>207.187500</td>\n",
       "    </tr>\n",
       "    <tr>\n",
       "      <th>2024-06-28</th>\n",
       "      <td>966.0</td>\n",
       "      <td>55.700001</td>\n",
       "      <td>1341.631226</td>\n",
       "      <td>208.650009</td>\n",
       "    </tr>\n",
       "  </tbody>\n",
       "</table>\n",
       "<p>117 rows × 4 columns</p>\n",
       "</div>"
      ],
      "text/plain": [
       "              台積電         聯電          聯發科          鴻海\n",
       "Date                                                 \n",
       "2024-01-02  593.0  51.900002   915.833130  102.375000\n",
       "2024-01-03  578.0  50.599998   889.693176  101.887505\n",
       "2024-01-04  580.0  50.799999   889.309875  101.400002\n",
       "2024-01-05  576.0  50.799999   882.601685  101.400002\n",
       "2024-01-08  583.0  50.500000   881.643372   98.962502\n",
       "...           ...        ...          ...         ...\n",
       "2024-06-24  940.0  56.799999  1351.214233  200.850006\n",
       "2024-06-25  945.0  56.400002  1327.256592  205.725006\n",
       "2024-06-26  960.0  56.599998  1346.422852  204.750000\n",
       "2024-06-27  960.0  56.400002  1336.839722  207.187500\n",
       "2024-06-28  966.0  55.700001  1341.631226  208.650009\n",
       "\n",
       "[117 rows x 4 columns]"
      ]
     },
     "execution_count": 15,
     "metadata": {},
     "output_type": "execute_result"
    }
   ],
   "source": [
    "pd.DataFrame({'台積電':tw2330_s,'聯電':tw2303_s,'聯發科':tw2454_s,'鴻海':tw2317_s})"
   ]
  }
 ],
 "metadata": {
  "kernelspec": {
   "display_name": "base",
   "language": "python",
   "name": "python3"
  },
  "language_info": {
   "codemirror_mode": {
    "name": "ipython",
    "version": 3
   },
   "file_extension": ".py",
   "mimetype": "text/x-python",
   "name": "python",
   "nbconvert_exporter": "python",
   "pygments_lexer": "ipython3",
   "version": "3.12.9"
  }
 },
 "nbformat": 4,
 "nbformat_minor": 5
}
