{
 "cells": [
  {
   "cell_type": "code",
   "execution_count": 1,
   "id": "910cbe9c",
   "metadata": {},
   "outputs": [
    {
     "name": "stdout",
     "output_type": "stream",
     "text": [
      "您的體重是: 60 KG\n",
      "您的身高是: 158 CM\n",
      "您的BMI數值: 24.03 kg/m²\n"
     ]
    }
   ],
   "source": [
    "### 計算BMI\n",
    "weight = eval(input(\"請輸入體重 KG:\"))\n",
    "height = eval(input(\"請輸入身高 CM:\"))\n",
    "BMI = weight / (height/100) ** 2\n",
    "print(f\"您的體重是: {weight} KG\")\n",
    "print(f\"您的身高是: {height} CM\")\n",
    "print (f\"您的BMI數值:{BMI: .2f} kg/m²\")"
   ]
  }
 ],
 "metadata": {
  "kernelspec": {
   "display_name": "base",
   "language": "python",
   "name": "python3"
  },
  "language_info": {
   "codemirror_mode": {
    "name": "ipython",
    "version": 3
   },
   "file_extension": ".py",
   "mimetype": "text/x-python",
   "name": "python",
   "nbconvert_exporter": "python",
   "pygments_lexer": "ipython3",
   "version": "3.12.9"
  }
 },
 "nbformat": 4,
 "nbformat_minor": 5
}
