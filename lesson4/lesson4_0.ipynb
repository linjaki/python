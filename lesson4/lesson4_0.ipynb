{
 "cells": [
  {
   "cell_type": "code",
   "execution_count": 1,
   "id": "910cbe9c",
   "metadata": {},
   "outputs": [
    {
     "name": "stdout",
     "output_type": "stream",
     "text": [
      "您的體重是: 60 KG\n",
      "您的身高是: 158 CM\n",
      "您的BMI數值: 24.03 kg/m²\n"
     ]
    }
   ],
   "source": [
    "### 計算BMI\n",
    "weight = eval(input(\"請輸入體重 KG:\"))\n",
    "height = eval(input(\"請輸入身高 CM:\"))\n",
    "BMI = weight / (height/100) ** 2\n",
    "print(f\"您的體重是: {weight} KG\")\n",
    "print(f\"您的身高是: {height} CM\")\n",
    "print (f\"您的BMI數值:{BMI: .2f} kg/m²\")"
   ]
  },
  {
   "cell_type": "code",
   "execution_count": 1,
   "id": "75b0e883",
   "metadata": {},
   "outputs": [
    {
     "name": "stdout",
     "output_type": "stream",
     "text": [
      "請輸入正確體重及身高數值！\n"
     ]
    }
   ],
   "source": [
    "### 計算BMI\n",
    "try:\n",
    "    weight = int(input(\"請輸入體重 KG(體重限制30~200之間):\"))\n",
    "    if weight < 30 or weight > 200:\n",
    "        raise Exception (\"體重小於30或大於200\")\n",
    "    print(f\"您輸入的體重是: {weight} KG\")\n",
    "\n",
    "    height = int(input(\"請輸入身高 CM(身高限制120~220之間):\"))\n",
    "    if height < 120 or height > 220:\n",
    "        raise Exception (\"身高小於120或大於220\")\n",
    "    print(f\"您輸入的身高是: {height} CM\")\n",
    "\n",
    "    BMI = weight / (height/100) ** 2\n",
    "    print(f\"您的BMI數值:{BMI:.2f} kg/m²\")\n",
    "\n",
    "except Exception:\n",
    "    print(\"請輸入正確體重及身高數值！\")"
   ]
  }
 ],
 "metadata": {
  "kernelspec": {
   "display_name": "base",
   "language": "python",
   "name": "python3"
  },
  "language_info": {
   "codemirror_mode": {
    "name": "ipython",
    "version": 3
   },
   "file_extension": ".py",
   "mimetype": "text/x-python",
   "name": "python",
   "nbconvert_exporter": "python",
   "pygments_lexer": "ipython3",
   "version": "3.12.9"
  }
 },
 "nbformat": 4,
 "nbformat_minor": 5
}
