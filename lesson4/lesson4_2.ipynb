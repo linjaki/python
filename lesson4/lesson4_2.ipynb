{
 "cells": [
  {
   "cell_type": "code",
   "execution_count": null,
   "id": "9270067a",
   "metadata": {},
   "outputs": [
    {
     "name": "stdout",
     "output_type": "stream",
     "text": [
      "數值在120~220\n"
     ]
    }
   ],
   "source": [
    "value:int = int(input(\"請輸入一個數值\"))\n",
    "if value >= 120:  #使用巢狀判斷\n",
    "    if value <=220:\n",
    "        print('數值在120~220')"
   ]
  },
  {
   "cell_type": "code",
   "execution_count": null,
   "id": "442525d3",
   "metadata": {},
   "outputs": [
    {
     "name": "stdout",
     "output_type": "stream",
     "text": [
      "數值在120~220\n"
     ]
    }
   ],
   "source": [
    "value:int = int(input(\"請輸入一個數值\"))\n",
    "if value >= 120 and value <= 220:  #使用邏輯運算子\n",
    "    print('數值在120~220')"
   ]
  },
  {
   "cell_type": "code",
   "execution_count": 6,
   "id": "1839ae9b",
   "metadata": {},
   "outputs": [
    {
     "name": "stdout",
     "output_type": "stream",
     "text": [
      "小於120~大於220\n"
     ]
    }
   ],
   "source": [
    "value:int = int(input(\"請輸入一個數值\"))\n",
    "if value < 120 or value > 220:  #使用邏輯運算子\n",
    "    print('小於120~大於220')"
   ]
  },
  {
   "cell_type": "code",
   "execution_count": 8,
   "id": "56fe2c0d",
   "metadata": {},
   "outputs": [
    {
     "name": "stdout",
     "output_type": "stream",
     "text": [
      "不及格\n"
     ]
    }
   ],
   "source": [
    "scores = int(input(\"score:\"))\n",
    "if scores >= 80:\n",
    "    print(\"優\")\n",
    "else:    \n",
    "    if scores >=60:\n",
    "        print(\"甲\")\n",
    "    else:\n",
    "        print(\"不及格\")\n",
    "    "
   ]
  },
  {
   "cell_type": "code",
   "execution_count": 10,
   "id": "a89a0073",
   "metadata": {},
   "outputs": [
    {
     "name": "stdout",
     "output_type": "stream",
     "text": [
      "甲\n"
     ]
    }
   ],
   "source": [
    "scores = int(input(\"score:\"))\n",
    "if scores >= 80:\n",
    "    print(\"優\")\n",
    "elif scores >=60:\n",
    "        print(\"甲\")\n",
    "else:\n",
    "     print(\"不及格\")"
   ]
  }
 ],
 "metadata": {
  "kernelspec": {
   "display_name": "base",
   "language": "python",
   "name": "python3"
  },
  "language_info": {
   "codemirror_mode": {
    "name": "ipython",
    "version": 3
   },
   "file_extension": ".py",
   "mimetype": "text/x-python",
   "name": "python",
   "nbconvert_exporter": "python",
   "pygments_lexer": "ipython3",
   "version": "3.12.9"
  }
 },
 "nbformat": 4,
 "nbformat_minor": 5
}
