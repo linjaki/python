{
 "cells": [
  {
   "cell_type": "code",
   "execution_count": 3,
   "id": "6f555891",
   "metadata": {},
   "outputs": [
    {
     "ename": "SyntaxError",
     "evalue": "invalid syntax (523667147.py, line 6)",
     "output_type": "error",
     "traceback": [
      "  \u001b[36mCell\u001b[39m\u001b[36m \u001b[39m\u001b[32mIn[3]\u001b[39m\u001b[32m, line 6\u001b[39m\n\u001b[31m    \u001b[39m\u001b[31m用括號符號()建立\u001b[39m\n           ^\n\u001b[31mSyntaxError\u001b[39m\u001b[31m:\u001b[39m invalid syntax\n"
     ]
    }
   ],
   "source": [
    "### tuple\n",
    "immutable(不可變的變數)\n",
    "Sequence(串列資料)\n",
    "iterable(可重覆讀取)\n",
    "拆解法\n",
    "用括號符號()建立\n",
    "typehint(tuple)"
   ]
  },
  {
   "cell_type": "code",
   "execution_count": 1,
   "id": "a2046caa",
   "metadata": {},
   "outputs": [
    {
     "name": "stdout",
     "output_type": "stream",
     "text": [
      "robert\n",
      "45\n"
     ]
    }
   ],
   "source": [
    "# 拆解法\n",
    "name, age = \"robert\", 45\n",
    "print(name)\n",
    "print(age)"
   ]
  },
  {
   "cell_type": "code",
   "execution_count": null,
   "id": "9d7e7aa3",
   "metadata": {},
   "outputs": [],
   "source": [
    "## list\n",
    "mutable(可變的變數)\n",
    "Sequence(串列資料)\n",
    "iterable(可重覆讀取)\n",
    "用中括號符號[]來建立\n",
    "typehint(list)"
   ]
  },
  {
   "cell_type": "code",
   "execution_count": 2,
   "id": "28ca0f18",
   "metadata": {},
   "outputs": [
    {
     "data": {
      "text/plain": [
       "list"
      ]
     },
     "execution_count": 2,
     "metadata": {},
     "output_type": "execute_result"
    }
   ],
   "source": [
    "#建立list\n",
    "weekdays = ['星期一', '星期二', '星期三', '星期四', '星期五', '星期六', '星期日'] \n",
    "type(weekdays)"
   ]
  },
  {
   "cell_type": "code",
   "execution_count": 4,
   "id": "08a0d064",
   "metadata": {},
   "outputs": [
    {
     "data": {
      "text/plain": [
       "'星期日'"
      ]
     },
     "execution_count": 4,
     "metadata": {},
     "output_type": "execute_result"
    }
   ],
   "source": [
    "#取出元素和修改元素\n",
    "#使用[index]\n",
    "weekdays[0]\n",
    "weekdays[1]\n",
    "weekdays[-2]\n",
    "weekdays[-1]\n"
   ]
  },
  {
   "cell_type": "code",
   "execution_count": 5,
   "id": "23786832",
   "metadata": {},
   "outputs": [
    {
     "data": {
      "text/plain": [
       "['星期一', '星期二', '星期三']"
      ]
     },
     "execution_count": 5,
     "metadata": {},
     "output_type": "execute_result"
    }
   ],
   "source": [
    "#[slice]\n",
    "#[起始(包含):結束(不包含)]\n",
    "\n",
    "weekdays[0:3]\n",
    "weekdays[-3:-1]\n",
    "weekdays[-3:] #取最後3個\n",
    "weekdays[:3] #取前3個"
   ]
  },
  {
   "cell_type": "code",
   "execution_count": 6,
   "id": "59809961",
   "metadata": {},
   "outputs": [
    {
     "name": "stdout",
     "output_type": "stream",
     "text": [
      "星期一\n",
      "星期二\n",
      "星期三\n",
      "星期四\n",
      "星期五\n",
      "星期六\n",
      "星期日\n"
     ]
    }
   ],
   "source": [
    "for day in weekdays:\n",
    "    print(day)"
   ]
  },
  {
   "cell_type": "code",
   "execution_count": null,
   "id": "e94d4239",
   "metadata": {},
   "outputs": [],
   "source": [
    "### dict\n",
    "- mutable(可變的變數)\n",
    "- Mapping (mapping資料)\n",
    "- iterable(可重覆讀取)\n",
    "- 用大括號符號 {key:value} 來建立\n",
    "- typehint(dict)"
   ]
  },
  {
   "cell_type": "code",
   "execution_count": 13,
   "id": "7c72338d",
   "metadata": {},
   "outputs": [
    {
     "data": {
      "text/plain": [
       "{'hk:Hong Kong', 'jp:Japan', 'tw:Taiwan'}"
      ]
     },
     "execution_count": 13,
     "metadata": {},
     "output_type": "execute_result"
    }
   ],
   "source": [
    "codes = {\"tw:Taiwan\", \"jp:Japan\", \"hk:Hong Kong\" }\n",
    "codes"
   ]
  },
  {
   "cell_type": "code",
   "execution_count": 15,
   "id": "5d59d3b6",
   "metadata": {},
   "outputs": [
    {
     "ename": "TypeError",
     "evalue": "'set' object is not subscriptable",
     "output_type": "error",
     "traceback": [
      "\u001b[31m---------------------------------------------------------------------------\u001b[39m",
      "\u001b[31mTypeError\u001b[39m                                 Traceback (most recent call last)",
      "\u001b[36mCell\u001b[39m\u001b[36m \u001b[39m\u001b[32mIn[15]\u001b[39m\u001b[32m, line 1\u001b[39m\n\u001b[32m----> \u001b[39m\u001b[32m1\u001b[39m \u001b[38;5;28mprint\u001b[39m(\u001b[43mcodes\u001b[49m\u001b[43m[\u001b[49m\u001b[33;43m'\u001b[39;49m\u001b[33;43mtw\u001b[39;49m\u001b[33;43m'\u001b[39;49m\u001b[43m]\u001b[49m)\n",
      "\u001b[31mTypeError\u001b[39m: 'set' object is not subscriptable"
     ]
    }
   ],
   "source": [
    "print(codes['tw'])"
   ]
  },
  {
   "cell_type": "code",
   "execution_count": 11,
   "id": "b85c5aac",
   "metadata": {},
   "outputs": [
    {
     "name": "stdout",
     "output_type": "stream",
     "text": [
      "jp:Japan\n"
     ]
    },
    {
     "ename": "TypeError",
     "evalue": "'set' object is not subscriptable",
     "output_type": "error",
     "traceback": [
      "\u001b[31m---------------------------------------------------------------------------\u001b[39m",
      "\u001b[31mTypeError\u001b[39m                                 Traceback (most recent call last)",
      "\u001b[36mCell\u001b[39m\u001b[36m \u001b[39m\u001b[32mIn[11]\u001b[39m\u001b[32m, line 3\u001b[39m\n\u001b[32m      1\u001b[39m \u001b[38;5;28;01mfor\u001b[39;00m key \u001b[38;5;129;01min\u001b[39;00m codes:\n\u001b[32m      2\u001b[39m     \u001b[38;5;28mprint\u001b[39m(key)\n\u001b[32m----> \u001b[39m\u001b[32m3\u001b[39m     \u001b[38;5;28mprint\u001b[39m(\u001b[43mcodes\u001b[49m\u001b[43m[\u001b[49m\u001b[43mkey\u001b[49m\u001b[43m]\u001b[49m)\n\u001b[32m      4\u001b[39m     \u001b[38;5;28mprint\u001b[39m(\u001b[33m\"\u001b[39m\u001b[33m======\u001b[39m\u001b[33m\"\u001b[39m)\n",
      "\u001b[31mTypeError\u001b[39m: 'set' object is not subscriptable"
     ]
    }
   ],
   "source": [
    "for key in codes:\n",
    "    print(key)\n",
    "    print(codes[key])\n",
    "    print(\"======\")"
   ]
  },
  {
   "cell_type": "code",
   "execution_count": null,
   "id": "3d3e214f",
   "metadata": {},
   "outputs": [],
   "source": [
    "### set\n",
    "- 元素不可重複\n",
    "- 符號建立方式大括號{}"
   ]
  },
  {
   "cell_type": "code",
   "execution_count": 16,
   "id": "b28fdfc9",
   "metadata": {},
   "outputs": [
    {
     "data": {
      "text/plain": [
       "{'台中', '台北', '高雄'}"
      ]
     },
     "execution_count": 16,
     "metadata": {},
     "output_type": "execute_result"
    }
   ],
   "source": [
    "#set\n",
    "citys = {'台北','台中','高雄','台北','台中','高雄'}\n",
    "citys"
   ]
  }
 ],
 "metadata": {
  "kernelspec": {
   "display_name": "base",
   "language": "python",
   "name": "python3"
  },
  "language_info": {
   "codemirror_mode": {
    "name": "ipython",
    "version": 3
   },
   "file_extension": ".py",
   "mimetype": "text/x-python",
   "name": "python",
   "nbconvert_exporter": "python",
   "pygments_lexer": "ipython3",
   "version": "3.12.9"
  }
 },
 "nbformat": 4,
 "nbformat_minor": 5
}
