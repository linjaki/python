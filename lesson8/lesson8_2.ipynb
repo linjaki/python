{
 "cells": [
  {
   "cell_type": "code",
   "execution_count": null,
   "id": "7831182d",
   "metadata": {},
   "outputs": [],
   "source": [
    "### list_comprehension (快速建立list)\n",
    "-[expression for iteam in iterable]"
   ]
  },
  {
   "cell_type": "code",
   "execution_count": null,
   "id": "5ce88e4f",
   "metadata": {},
   "outputs": [],
   "source": [
    "for i in range(1,11)\n",
    "    print(i)"
   ]
  },
  {
   "cell_type": "code",
   "execution_count": 2,
   "id": "32ea132a",
   "metadata": {},
   "outputs": [
    {
     "data": {
      "text/plain": [
       "[2, 4, 6, 8, 10, 12, 14, 16, 18, 20]"
      ]
     },
     "execution_count": 2,
     "metadata": {},
     "output_type": "execute_result"
    }
   ],
   "source": [
    "[i*2 for i in range(1,11)]"
   ]
  },
  {
   "cell_type": "code",
   "execution_count": null,
   "id": "04e0dbd7",
   "metadata": {},
   "outputs": [],
   "source": [
    "-[ expression for item in iterable if 條件式]"
   ]
  },
  {
   "cell_type": "code",
   "execution_count": 3,
   "id": "a267638c",
   "metadata": {},
   "outputs": [
    {
     "data": {
      "text/plain": [
       "[2, 6, 10, 14, 18]"
      ]
     },
     "execution_count": 3,
     "metadata": {},
     "output_type": "execute_result"
    }
   ],
   "source": [
    "[i*2 for i in range(1,11) if i % 2 == 1]"
   ]
  },
  {
   "cell_type": "code",
   "execution_count": 4,
   "id": "aa5f6be8",
   "metadata": {},
   "outputs": [],
   "source": [
    "### map(),filter"
   ]
  },
  {
   "cell_type": "code",
   "execution_count": 7,
   "id": "649b422f",
   "metadata": {},
   "outputs": [],
   "source": [
    "# 記憶體內的表格資料\n",
    "\n",
    "students = [{\"姓名\":\"張xx\",\"age\":35,\"score\":256}, \n",
    "            {\"姓名\":\"王xx\",\"age\":45,\"score\":278}, \n",
    "            {\"姓名\":\"李xx\",\"age\":37,\"score\":291}]"
   ]
  },
  {
   "cell_type": "code",
   "execution_count": 8,
   "id": "6178b8ab",
   "metadata": {},
   "outputs": [
    {
     "name": "stdout",
     "output_type": "stream",
     "text": [
      "{'姓名': '張xx', 'age': 35, 'score': 256}\n",
      "{'姓名': '王xx', 'age': 45, 'score': 278}\n",
      "{'姓名': '李xx', 'age': 37, 'score': 291}\n"
     ]
    }
   ],
   "source": [
    "for student in students:\n",
    "    print(student)"
   ]
  },
  {
   "cell_type": "code",
   "execution_count": 10,
   "id": "d7ac2d68",
   "metadata": {},
   "outputs": [],
   "source": [
    "students = [\n",
    "    {\"name\": \"Alice\", \"Chinese\": 85, \"English\": 92, \"Math\": 78},\n",
    "    {\"name\": \"Bob\", \"Chinese\": 75, \"English\": 88, \"Math\": 90},\n",
    "    {\"name\": \"Charlie\", \"Chinese\": 90, \"English\": 85, \"Math\": 85},\n",
    "    {\"name\": \"David\", \"Chinese\": 60, \"English\": 70, \"Math\": 80},\n",
    "    {\"name\": \"Eva\", \"Chinese\": 95, \"English\": 98, \"Math\": 92},\n",
    "    {\"name\": \"Frank\", \"Chinese\": 70, \"English\": 75, \"Math\": 68},\n",
    "    {\"name\": \"Grace\", \"Chinese\": 88, \"English\": 82, \"Math\": 85},\n",
    "    {\"name\": \"Helen\", \"Chinese\": 92, \"English\": 90, \"Math\": 94},\n",
    "    {\"name\": \"Ian\", \"Chinese\": 78, \"English\": 80, \"Math\": 72},\n",
    "    {\"name\": \"Jane\", \"Chinese\": 85, \"English\": 87, \"Math\": 89}\n",
    "]"
   ]
  },
  {
   "cell_type": "code",
   "execution_count": 12,
   "id": "d9c63647",
   "metadata": {},
   "outputs": [
    {
     "name": "stdout",
     "output_type": "stream",
     "text": [
      "{'name': 'Alice', 'Chinese': 85, 'English': 92, 'Math': 78}\n",
      "{'name': 'Charlie', 'Chinese': 90, 'English': 85, 'Math': 85}\n",
      "{'name': 'Eva', 'Chinese': 95, 'English': 98, 'Math': 92}\n",
      "{'name': 'Grace', 'Chinese': 88, 'English': 82, 'Math': 85}\n",
      "{'name': 'Helen', 'Chinese': 92, 'English': 90, 'Math': 94}\n",
      "{'name': 'Jane', 'Chinese': 85, 'English': 87, 'Math': 89}\n"
     ]
    }
   ],
   "source": [
    "for student in students:\n",
    "    if student['Chinese'] >= 80:\n",
    "        print(student)"
   ]
  },
  {
   "cell_type": "code",
   "execution_count": null,
   "id": "67624670",
   "metadata": {},
   "outputs": [],
   "source": [
    "### 使用comprehension的技巧"
   ]
  },
  {
   "cell_type": "code",
   "execution_count": 13,
   "id": "d35561c3",
   "metadata": {},
   "outputs": [
    {
     "data": {
      "text/plain": [
       "[{'name': 'Alice', 'Chinese': 85, 'English': 92, 'Math': 78},\n",
       " {'name': 'Charlie', 'Chinese': 90, 'English': 85, 'Math': 85},\n",
       " {'name': 'Eva', 'Chinese': 95, 'English': 98, 'Math': 92},\n",
       " {'name': 'Grace', 'Chinese': 88, 'English': 82, 'Math': 85},\n",
       " {'name': 'Helen', 'Chinese': 92, 'English': 90, 'Math': 94},\n",
       " {'name': 'Jane', 'Chinese': 85, 'English': 87, 'Math': 89}]"
      ]
     },
     "execution_count": 13,
     "metadata": {},
     "output_type": "execute_result"
    }
   ],
   "source": [
    "student_80 = [student for student in students if student['Chinese'] >= 80] #過濾\n",
    "student_80"
   ]
  },
  {
   "cell_type": "code",
   "execution_count": null,
   "id": "fc885fa1",
   "metadata": {},
   "outputs": [],
   "source": [
    "### 使用filter()的技巧  引數值是真正的值\n",
    "-說明書\n",
    "- filter(function, iterable)\n",
    "Python 的 filter() 函式用來從可迭代物件中篩選符合條件的元素。它接受兩個參數：\n",
    "function：一個判斷函式，對可迭代物件中的每個元素進行判斷，必須回傳 True 或 False。\n",
    "iterable：要篩選的可迭代物件，如串列、元組、集合等。\n",
    "filter() 會將 function 套用到 iterable 的每個元素，並只保留回傳 True 的元素，最後回傳一個迭代器（Python 3.x 中）。\n",
    "若要查看結果，通常會將其轉換成串列或元組。"
   ]
  },
  {
   "cell_type": "code",
   "execution_count": 14,
   "id": "05e3c0c5",
   "metadata": {},
   "outputs": [],
   "source": [
    "students = [\n",
    "    {\"name\": \"Alice\", \"Chinese\": 85, \"English\": 92, \"Math\": 78},\n",
    "    {\"name\": \"Bob\", \"Chinese\": 75, \"English\": 88, \"Math\": 90},\n",
    "    {\"name\": \"Charlie\", \"Chinese\": 90, \"English\": 85, \"Math\": 85},\n",
    "    {\"name\": \"David\", \"Chinese\": 60, \"English\": 70, \"Math\": 80},\n",
    "    {\"name\": \"Eva\", \"Chinese\": 95, \"English\": 98, \"Math\": 92},\n",
    "    {\"name\": \"Frank\", \"Chinese\": 70, \"English\": 75, \"Math\": 68},\n",
    "    {\"name\": \"Grace\", \"Chinese\": 88, \"English\": 82, \"Math\": 85},\n",
    "    {\"name\": \"Helen\", \"Chinese\": 92, \"English\": 90, \"Math\": 94},\n",
    "    {\"name\": \"Ian\", \"Chinese\": 78, \"English\": 80, \"Math\": 72},\n",
    "    {\"name\": \"Jane\", \"Chinese\": 85, \"English\": 87, \"Math\": 89}\n",
    "]"
   ]
  },
  {
   "cell_type": "code",
   "execution_count": 15,
   "id": "5a289cf3",
   "metadata": {},
   "outputs": [],
   "source": [
    "def chinese_greater_80(student):\n",
    "    if student[\"Chinese\"] >=80:\n",
    "        return student\n",
    "    \n",
    "\n",
    "    list (filter(chinese_greater_80, students))"
   ]
  },
  {
   "cell_type": "code",
   "execution_count": 13,
   "id": "89e29636",
   "metadata": {},
   "outputs": [],
   "source": [
    "def chinese_greater_80(student):\n",
    "    if student['Chinese'] >= 80:\n",
    "        return student\n",
    "    \n",
    "\n",
    "filtered_students = list(filter(chinese_greater_80, students))"
   ]
  },
  {
   "cell_type": "code",
   "execution_count": 16,
   "id": "399b008b",
   "metadata": {},
   "outputs": [
    {
     "ename": "IndentationError",
     "evalue": "unexpected indent (3218858025.py, line 2)",
     "output_type": "error",
     "traceback": [
      "  \u001b[36mCell\u001b[39m\u001b[36m \u001b[39m\u001b[32mIn[16]\u001b[39m\u001b[32m, line 2\u001b[39m\n\u001b[31m    \u001b[39m\u001b[31m-lambda 參數列表: 運算式\u001b[39m\n    ^\n\u001b[31mIndentationError\u001b[39m\u001b[31m:\u001b[39m unexpected indent\n"
     ]
    }
   ],
   "source": [
    "# Python 的 lambda 函數是一種匿名函數（沒有名稱的函數），適合用來寫簡短、單行的運算式。\n",
    "    -lambda 參數列表: 運算式\n",
    "    -lambda 是關鍵字。\n",
    "-參數列表可以有多個參數，用逗號隔開。\n",
    "-運算式只能是一行，且會自動回傳結果，不需要寫 return。"
   ]
  },
  {
   "cell_type": "code",
   "execution_count": 9,
   "id": "f4d5a894",
   "metadata": {},
   "outputs": [],
   "source": [
    "def chinese_greater_80(student):\n",
    "    if student['Chinese'] >= 80:\n",
    "        return student\n",
    "    \n",
    "\n",
    "filtered_students = list(filter(lambda student: student['Chinese'] >= 80, students))"
   ]
  }
 ],
 "metadata": {
  "kernelspec": {
   "display_name": "base",
   "language": "python",
   "name": "python3"
  },
  "language_info": {
   "codemirror_mode": {
    "name": "ipython",
    "version": 3
   },
   "file_extension": ".py",
   "mimetype": "text/x-python",
   "name": "python",
   "nbconvert_exporter": "python",
   "pygments_lexer": "ipython3",
   "version": "3.12.9"
  }
 },
 "nbformat": 4,
 "nbformat_minor": 5
}
