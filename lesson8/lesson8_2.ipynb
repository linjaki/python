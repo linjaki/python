{
 "cells": [
  {
   "cell_type": "code",
   "execution_count": null,
   "id": "7831182d",
   "metadata": {},
   "outputs": [],
   "source": [
    "### list_comprehension (快速建立list)\n",
    "-[expression for iteam in iterable]"
   ]
  },
  {
   "cell_type": "code",
   "execution_count": null,
   "id": "5ce88e4f",
   "metadata": {},
   "outputs": [],
   "source": [
    "for i in range(1,11)\n",
    "    print(i)"
   ]
  },
  {
   "cell_type": "code",
   "execution_count": 2,
   "id": "32ea132a",
   "metadata": {},
   "outputs": [
    {
     "data": {
      "text/plain": [
       "[2, 4, 6, 8, 10, 12, 14, 16, 18, 20]"
      ]
     },
     "execution_count": 2,
     "metadata": {},
     "output_type": "execute_result"
    }
   ],
   "source": [
    "[i*2 for i in range(1,11)]"
   ]
  },
  {
   "cell_type": "code",
   "execution_count": null,
   "id": "04e0dbd7",
   "metadata": {},
   "outputs": [],
   "source": [
    "-[ expression for item in iterable if 條件式]"
   ]
  },
  {
   "cell_type": "code",
   "execution_count": 3,
   "id": "a267638c",
   "metadata": {},
   "outputs": [
    {
     "data": {
      "text/plain": [
       "[2, 6, 10, 14, 18]"
      ]
     },
     "execution_count": 3,
     "metadata": {},
     "output_type": "execute_result"
    }
   ],
   "source": [
    "[i*2 for i in range(1,11) if i % 2 == 1]"
   ]
  },
  {
   "cell_type": "code",
   "execution_count": 4,
   "id": "aa5f6be8",
   "metadata": {},
   "outputs": [],
   "source": [
    "### map(),filter"
   ]
  },
  {
   "cell_type": "code",
   "execution_count": 7,
   "id": "649b422f",
   "metadata": {},
   "outputs": [],
   "source": [
    "# 記憶體內的表格資料\n",
    "\n",
    "students = [{\"姓名\":\"張xx\",\"age\":35,\"score\":256}, \n",
    "            {\"姓名\":\"王xx\",\"age\":45,\"score\":278}, \n",
    "            {\"姓名\":\"李xx\",\"age\":37,\"score\":291}]"
   ]
  },
  {
   "cell_type": "code",
   "execution_count": 8,
   "id": "6178b8ab",
   "metadata": {},
   "outputs": [
    {
     "name": "stdout",
     "output_type": "stream",
     "text": [
      "{'姓名': '張xx', 'age': 35, 'score': 256}\n",
      "{'姓名': '王xx', 'age': 45, 'score': 278}\n",
      "{'姓名': '李xx', 'age': 37, 'score': 291}\n"
     ]
    }
   ],
   "source": [
    "for student in students:\n",
    "    print(student)"
   ]
  },
  {
   "cell_type": "code",
   "execution_count": 10,
   "id": "d7ac2d68",
   "metadata": {},
   "outputs": [],
   "source": [
    "students = [\n",
    "    {\"name\": \"Alice\", \"Chinese\": 85, \"English\": 92, \"Math\": 78},\n",
    "    {\"name\": \"Bob\", \"Chinese\": 75, \"English\": 88, \"Math\": 90},\n",
    "    {\"name\": \"Charlie\", \"Chinese\": 90, \"English\": 85, \"Math\": 85},\n",
    "    {\"name\": \"David\", \"Chinese\": 60, \"English\": 70, \"Math\": 80},\n",
    "    {\"name\": \"Eva\", \"Chinese\": 95, \"English\": 98, \"Math\": 92},\n",
    "    {\"name\": \"Frank\", \"Chinese\": 70, \"English\": 75, \"Math\": 68},\n",
    "    {\"name\": \"Grace\", \"Chinese\": 88, \"English\": 82, \"Math\": 85},\n",
    "    {\"name\": \"Helen\", \"Chinese\": 92, \"English\": 90, \"Math\": 94},\n",
    "    {\"name\": \"Ian\", \"Chinese\": 78, \"English\": 80, \"Math\": 72},\n",
    "    {\"name\": \"Jane\", \"Chinese\": 85, \"English\": 87, \"Math\": 89}\n",
    "]"
   ]
  },
  {
   "cell_type": "code",
   "execution_count": 12,
   "id": "d9c63647",
   "metadata": {},
   "outputs": [
    {
     "name": "stdout",
     "output_type": "stream",
     "text": [
      "{'name': 'Alice', 'Chinese': 85, 'English': 92, 'Math': 78}\n",
      "{'name': 'Charlie', 'Chinese': 90, 'English': 85, 'Math': 85}\n",
      "{'name': 'Eva', 'Chinese': 95, 'English': 98, 'Math': 92}\n",
      "{'name': 'Grace', 'Chinese': 88, 'English': 82, 'Math': 85}\n",
      "{'name': 'Helen', 'Chinese': 92, 'English': 90, 'Math': 94}\n",
      "{'name': 'Jane', 'Chinese': 85, 'English': 87, 'Math': 89}\n"
     ]
    }
   ],
   "source": [
    "for student in students:\n",
    "    if student['Chinese'] >= 80:\n",
    "        print(student)"
   ]
  },
  {
   "cell_type": "code",
   "execution_count": null,
   "id": "67624670",
   "metadata": {},
   "outputs": [],
   "source": [
    "### 使用comprehension的技巧"
   ]
  },
  {
   "cell_type": "code",
   "execution_count": 13,
   "id": "d35561c3",
   "metadata": {},
   "outputs": [
    {
     "data": {
      "text/plain": [
       "[{'name': 'Alice', 'Chinese': 85, 'English': 92, 'Math': 78},\n",
       " {'name': 'Charlie', 'Chinese': 90, 'English': 85, 'Math': 85},\n",
       " {'name': 'Eva', 'Chinese': 95, 'English': 98, 'Math': 92},\n",
       " {'name': 'Grace', 'Chinese': 88, 'English': 82, 'Math': 85},\n",
       " {'name': 'Helen', 'Chinese': 92, 'English': 90, 'Math': 94},\n",
       " {'name': 'Jane', 'Chinese': 85, 'English': 87, 'Math': 89}]"
      ]
     },
     "execution_count": 13,
     "metadata": {},
     "output_type": "execute_result"
    }
   ],
   "source": [
    "student_80 = [student for student in students if student['Chinese'] >= 80] #過濾\n",
    "student_80"
   ]
  }
 ],
 "metadata": {
  "kernelspec": {
   "display_name": "base",
   "language": "python",
   "name": "python3"
  },
  "language_info": {
   "codemirror_mode": {
    "name": "ipython",
    "version": 3
   },
   "file_extension": ".py",
   "mimetype": "text/x-python",
   "name": "python",
   "nbconvert_exporter": "python",
   "pygments_lexer": "ipython3",
   "version": "3.12.9"
  }
 },
 "nbformat": 4,
 "nbformat_minor": 5
}
