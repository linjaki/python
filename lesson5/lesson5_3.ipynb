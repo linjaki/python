{
 "cells": [
  {
   "cell_type": "code",
   "execution_count": null,
   "id": "cd7485d7",
   "metadata": {},
   "outputs": [],
   "source": [
    "### while\n",
    "- 不知道執行的次數"
   ]
  },
  {
   "cell_type": "code",
   "execution_count": null,
   "id": "8ccdd7f2",
   "metadata": {},
   "outputs": [
    {
     "name": "stdout",
     "output_type": "stream",
     "text": [
      "恭喜!已經存了30000元\n"
     ]
    }
   ],
   "source": [
    "# 想存錢買一台機車,機車每輛30000元,將每月存的錢輸入，當存款足夠買機車時，就顯示提示訊息告知。\n",
    "\n",
    "deposite = 0\n",
    "while(deposite<30000):\n",
    "    input_value = int(input(\"請輸入本月份存款\"))\n",
    "    deposite += input_value\n",
    "\n",
    "print(f\"恭喜!已經存了{deposite}元\")"
   ]
  },
  {
   "cell_type": "markdown",
   "id": "33968666",
   "metadata": {},
   "source": []
  },
  {
   "cell_type": "markdown",
   "id": "34cf76da",
   "metadata": {},
   "source": [
    "### 解說\n",
    "deposite = 0       # 初始總存款為 0\n",
    "month = 0          # 初始月份為 0\n",
    "while(deposite < 30000):       # 只要總存款不到 30,000 就持續執行\n",
    "    month += 1                 # 每次迴圈代表新的一個月\n",
    "    input_value = int(input(f\"請輸入第{month}月份的存款\"))  # 使用者輸入本月的存款金額\n",
    "    deposite += input_value    # 把這個月的存款加進總存款\n",
    "print(f\"恭喜!已經存了{month}個月,總共存了{deposite}元\")\n",
    "當總存款達到或超過 30,000 元後，顯示總共花了幾個月、存了多少錢。"
   ]
  },
  {
   "cell_type": "code",
   "execution_count": 5,
   "id": "637c0604",
   "metadata": {},
   "outputs": [
    {
     "name": "stdout",
     "output_type": "stream",
     "text": [
      "恭喜!已經存了3個月,總共存了30000元\n"
     ]
    }
   ],
   "source": [
    "deposite = 0\n",
    "month = 0\n",
    "while(deposite<30000):\n",
    "    month += 1\n",
    "    input_value = int(input(f\"請輸入第{month}月份的存款\"))\n",
    "    deposite += input_value\n",
    "\n",
    "print(f\"恭喜!已經存了{month}個月,總共存了{deposite}元\")"
   ]
  },
  {
   "cell_type": "markdown",
   "id": "38ac5fc8",
   "metadata": {},
   "source": [
    "### 使用break, continue"
   ]
  },
  {
   "cell_type": "code",
   "execution_count": 12,
   "id": "1087e4d1",
   "metadata": {},
   "outputs": [
    {
     "name": "stdout",
     "output_type": "stream",
     "text": [
      "5的平方是25\n",
      "7的平方是49\n",
      "應用程式結束\n"
     ]
    }
   ],
   "source": [
    "# 奇數輸出平方\n",
    "# 偶數不做任何動作\n",
    "# \"q\"要離開\n",
    "\n",
    "while(True):\n",
    "    value = input(\"請輸入整數,輸入[q]離開\")\n",
    "    if value == \"q\":\n",
    "        break\n",
    "    elif(int(value) % 2 == 0):\n",
    "        continue\n",
    "    else:\n",
    "        print(f\"{value}的平方是{int(value)**2}\")\n",
    "print(\"應用程式結束\")"
   ]
  },
  {
   "cell_type": "code",
   "execution_count": 15,
   "id": "bd6f7037",
   "metadata": {},
   "outputs": [
    {
     "name": "stdout",
     "output_type": "stream",
     "text": [
      "=============猜數字遊戲===========\n",
      "\n",
      "再大一點\n",
      "您已經猜了1次\n",
      "再大一點\n",
      "您已經猜了2次\n",
      "再大一點\n",
      "您已經猜了3次\n",
      "再小一點\n",
      "您已經猜了4次\n",
      "再大一點\n",
      "您已經猜了5次\n",
      "再大一點\n",
      "您已經猜了6次\n",
      "再小一點\n",
      "您已經猜了7次\n",
      "再大一點\n",
      "您已經猜了8次\n",
      "賓果!猜對了, 答案是:70\n",
      "您猜了9次\n",
      "遊戲結束\n"
     ]
    }
   ],
   "source": [
    "import random\n",
    "\n",
    "min = 1\n",
    "max = 99\n",
    "count = 0\n",
    "target = random.randint(min, max)\n",
    "#print(target)\n",
    "print(\"=============猜數字遊戲===========\\n\");\n",
    "while(True):\n",
    "    count += 1\n",
    "    keyin = int(input(f\"猜數字範圍{min}~{max}:\"))\n",
    "    if(keyin >= min and keyin <= max):\n",
    "        if(keyin == target):\n",
    "            print(f\"賓果!猜對了, 答案是:{target}\")\n",
    "            print(f\"您猜了{count}次\")\n",
    "            break\n",
    "        elif(keyin>target):\n",
    "            print(\"再小一點\")\n",
    "            max = keyin - 1\n",
    "        elif(keyin<target):\n",
    "            print(\"再大一點\")\n",
    "            min = keyin + 1\n",
    "        print(f\"您已經猜了{count}次\") \n",
    "    else:\n",
    "        print(\"請輸入提示範圍內的數字\")\n",
    "\n",
    "print(\"遊戲結束\")"
   ]
  }
 ],
 "metadata": {
  "kernelspec": {
   "display_name": "base",
   "language": "python",
   "name": "python3"
  },
  "language_info": {
   "codemirror_mode": {
    "name": "ipython",
    "version": 3
   },
   "file_extension": ".py",
   "mimetype": "text/x-python",
   "name": "python",
   "nbconvert_exporter": "python",
   "pygments_lexer": "ipython3",
   "version": "3.12.9"
  }
 },
 "nbformat": 4,
 "nbformat_minor": 5
}
