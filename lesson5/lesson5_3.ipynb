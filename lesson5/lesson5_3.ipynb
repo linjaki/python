{
 "cells": [
  {
   "cell_type": "code",
   "execution_count": null,
   "id": "cd7485d7",
   "metadata": {},
   "outputs": [],
   "source": [
    "### while\n",
    "- 不知道執行的次數"
   ]
  },
  {
   "cell_type": "code",
   "execution_count": null,
   "id": "8ccdd7f2",
   "metadata": {},
   "outputs": [
    {
     "name": "stdout",
     "output_type": "stream",
     "text": [
      "恭喜!已經存了30000元\n"
     ]
    }
   ],
   "source": [
    "# 想存錢買一台機車,機車每輛30000元,將每月存的錢輸入，當存款足夠買機車時，就顯示提示訊息告知。\n",
    "\n",
    "deposite = 0\n",
    "while(deposite<30000):\n",
    "    input_value = int(input(\"請輸入本月份存款\"))\n",
    "    deposite += input_value\n",
    "\n",
    "print(f\"恭喜!已經存了{deposite}元\")"
   ]
  },
  {
   "cell_type": "markdown",
   "id": "33968666",
   "metadata": {},
   "source": []
  },
  {
   "cell_type": "markdown",
   "id": "34cf76da",
   "metadata": {},
   "source": [
    "### 解說\n",
    "- deposite = 0       # 初始總存款為 0\n",
    "- month = 0          # 初始月份為 0\n",
    "- while(deposite < 30000):       # 只要總存款不到 30,000 就持續執行\n",
    "- month += 1                 # 每次迴圈代表新的一個月\n",
    "- input_value = int(input(f\"請輸入第{month}月份的存款\"))  # 使用者輸入本月的存款金額\n",
    "- deposite += input_value    # 把這個月的存款加進總存款\n",
    "- print(f\"恭喜!已經存了{month}個月,總共存了{deposite}元\")\n",
    "- 當總存款達到或超過 30,000 元後，顯示總共花了幾個月、存了多少錢。"
   ]
  },
  {
   "cell_type": "code",
   "execution_count": 2,
   "id": "637c0604",
   "metadata": {},
   "outputs": [
    {
     "name": "stdout",
     "output_type": "stream",
     "text": [
      "恭喜!已經存了4個月,總共存了32000元\n"
     ]
    }
   ],
   "source": [
    "deposite = 0\n",
    "month = 0\n",
    "while(deposite<30000):\n",
    "    month += 1\n",
    "    input_value = int(input(f\"請輸入第{month}月份的存款\"))\n",
    "    deposite += input_value\n",
    "\n",
    "print(f\"恭喜!已經存了{month}個月,總共存了{deposite}元\")"
   ]
  },
  {
   "cell_type": "markdown",
   "id": "38ac5fc8",
   "metadata": {},
   "source": [
    "### 使用break, continue"
   ]
  },
  {
   "cell_type": "code",
   "execution_count": 12,
   "id": "1087e4d1",
   "metadata": {},
   "outputs": [
    {
     "name": "stdout",
     "output_type": "stream",
     "text": [
      "5的平方是25\n",
      "7的平方是49\n",
      "應用程式結束\n"
     ]
    }
   ],
   "source": [
    "# 奇數輸出平方\n",
    "# 偶數不做任何動作\n",
    "# \"q\"要離開\n",
    "\n",
    "while(True):\n",
    "    value = input(\"請輸入整數,輸入[q]離開\")\n",
    "    if value == \"q\":\n",
    "        break\n",
    "    elif(int(value) % 2 == 0):\n",
    "        continue\n",
    "    else:\n",
    "        print(f\"{value}的平方是{int(value)**2}\")\n",
    "print(\"應用程式結束\")"
   ]
  },
  {
   "cell_type": "markdown",
   "id": "d27357f7",
   "metadata": {},
   "source": [
    "### 練習 Python 的 while 迴圈、條件判斷與控制流程語句（如 break、continue）\n",
    "- while(True):建立一個無限迴圈，只要不被 break 中止，就會一直執行下去。\n",
    "- value = input(\"請輸入整數,輸入[q]離開\") 提示使用者輸入內容（整數），如果輸入 q，代表想離開程式。\n",
    "- if value == \"q\":  break 如果輸入是 \"q\"，就跳出 while 迴圈 → 程式結束。\n",
    "- elif(int(value) % 2 == 0): continue 如果轉成整數後是「偶數」，就執行 continue\n",
    "- continue 的意思是「跳過這次的循環，重新回到 while 開始」。所以偶數時什麼都不會印出，直接跳過。\n",
    "- else:   print(f\"{value}的平方是{int(value)**2}\") 如果不是 q，也不是偶數，那就是「奇數」：就會計算該數字的平方，並顯示出來。\n",
    "# 語法功能\t# 說明\n",
    "while True\t無限迴圈，直到手動 break 才會停。\n",
    "input()\t取得使用者輸入（文字型別）。\n",
    "int()\t將輸入轉換為整數，用於判斷偶數與平方計算。\n",
    "break\t強制跳出迴圈。\n",
    "continue\t略過當次循環，直接回到下一輪。\n",
    "f-string\tf\"{變數}\" 是 Python 的格式化輸出，清楚又方便。\n"
   ]
  },
  {
   "cell_type": "code",
   "execution_count": 1,
   "id": "bd6f7037",
   "metadata": {},
   "outputs": [
    {
     "name": "stdout",
     "output_type": "stream",
     "text": [
      "=============猜數字遊戲===========\n",
      "\n",
      "再大一點\n",
      "您已經猜了1次\n",
      "再大一點\n",
      "您已經猜了2次\n",
      "再小一點\n",
      "您已經猜了3次\n",
      "再大一點\n",
      "您已經猜了4次\n",
      "再大一點\n",
      "您已經猜了5次\n",
      "賓果!猜對了, 答案是:84\n",
      "您猜了6次\n",
      "遊戲結束\n"
     ]
    }
   ],
   "source": [
    "import random\n",
    "\n",
    "min = 1\n",
    "max = 99\n",
    "count = 0\n",
    "target = random.randint(min, max)\n",
    "#print(target)\n",
    "print(\"=============猜數字遊戲===========\\n\");\n",
    "while(True):\n",
    "    count += 1\n",
    "    keyin = int(input(f\"猜數字範圍{min}~{max}:\"))\n",
    "    if(keyin >= min and keyin <= max):\n",
    "        if(keyin == target):\n",
    "            print(f\"賓果!猜對了, 答案是:{target}\")\n",
    "            print(f\"您猜了{count}次\")\n",
    "            break\n",
    "        elif(keyin>target):\n",
    "            print(\"再小一點\")\n",
    "            max = keyin - 1\n",
    "        elif(keyin<target):\n",
    "            print(\"再大一點\")\n",
    "            min = keyin + 1\n",
    "        print(f\"您已經猜了{count}次\") \n",
    "    else:\n",
    "        print(\"請輸入提示範圍內的數字\")\n",
    "\n",
    "print(\"遊戲結束\")"
   ]
  },
  {
   "cell_type": "markdown",
   "id": "3ad6c840",
   "metadata": {},
   "source": [
    "### 設定遊戲的初始條件：\n",
    "- min 和 max 是猜的數字範圍。min = 1、max = 99\n",
    "- count 計算猜的次數。 count = 0\n",
    "- target 是隨機產生的正確答案，介於 1 到 99。 target = random.randint(min, max)\n",
    "# while True 是一個無限迴圈，只要不 break，就會一直重複執行。while True:\n",
    "# 每猜一次，猜的次數就加一。count += 1\n",
    "# 使用者輸入猜的數字。keyin = int(input(f\"猜數字範圍 {min} ~ {max}: \"))\n",
    "- int(input(...)) 會把輸入的文字轉成整數。\n",
    "# 確保輸入的數字在目前提示的範圍內。如果不在範圍內，提示使用者重新輸入。 if min <= keyin <= max:\n",
    "if keyin == target: 如果猜中答案：\n",
    "                print(f\"賓果! 猜對了，答案是: {target}\") 顯示恭喜訊息與答案。\n",
    "                print(f\"您總共猜了 {count} 次\") 顯示總共猜了幾次。\n",
    "                break 使用 break 結束迴圈，遊戲結束。\n",
    "    elif keyin > target: 如果猜的數字比答案小：\n",
    "                print(\"再小一點\") 提示「再大一點」。\n",
    "                max = keyin - 1 更新最小值 min 為 keyin + 1，也是縮小範圍。\n",
    "     print(f\"您已經猜了 {count} 次\\n\") 每次猜完都會顯示目前猜了幾次。\n",
    "    else:\n",
    "            print(\"請輸入提示範圍內的數字！\\n\") 如果輸入超出目前範圍，提示重新輸入。\n",
    "     except ValueError:\n",
    "        print(\"請輸入有效的整數！\\n\") 如果輸入不是整數（例如 \"abc\"），會顯示錯誤訊息，不會讓程式崩潰。"
   ]
  },
  {
   "cell_type": "code",
   "execution_count": null,
   "id": "101faae8",
   "metadata": {},
   "outputs": [],
   "source": []
  }
 ],
 "metadata": {
  "kernelspec": {
   "display_name": "base",
   "language": "python",
   "name": "python3"
  },
  "language_info": {
   "codemirror_mode": {
    "name": "ipython",
    "version": 3
   },
   "file_extension": ".py",
   "mimetype": "text/x-python",
   "name": "python",
   "nbconvert_exporter": "python",
   "pygments_lexer": "ipython3",
   "version": "3.12.9"
  }
 },
 "nbformat": 4,
 "nbformat_minor": 5
}
