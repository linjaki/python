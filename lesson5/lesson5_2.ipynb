{
 "cells": [
  {
   "cell_type": "markdown",
   "id": "aac313ae",
   "metadata": {},
   "source": [
    "### 迴圈 loop\n",
    "#1~10相加總\n"
   ]
  },
  {
   "cell_type": "code",
   "execution_count": 7,
   "id": "40942e3b",
   "metadata": {},
   "outputs": [
    {
     "data": {
      "text/plain": [
       "55"
      ]
     },
     "execution_count": 7,
     "metadata": {},
     "output_type": "execute_result"
    }
   ],
   "source": [
    "n = 0\n",
    "n += 1\n",
    "n += 2\n",
    "n += 3\n",
    "n += 4\n",
    "n += 5\n",
    "n += 6\n",
    "n += 7\n",
    "n += 8\n",
    "n += 9\n",
    "n += 10\n",
    "\n",
    "n"
   ]
  },
  {
   "cell_type": "markdown",
   "id": "90a3c0c1",
   "metadata": {},
   "source": [
    "# 把從 1 到 10 的整數相加，然後存到變數 n 中。\n",
    "# 一開始 n 是 0\n",
    "# n = n + 1 → n = 1\n",
    "# n = 1 + 2 → n = 3\n",
    "# n = 3 + 3 → n = 6\n",
    "# ...\n",
    "# 最後 n = 55\n",
    "n = 1 + 2 + 3 + 4 + 5 + 6 + 7 + 8 + 9 + 10 = 55"
   ]
  },
  {
   "cell_type": "code",
   "execution_count": 11,
   "id": "24f1d8da",
   "metadata": {},
   "outputs": [
    {
     "name": "stdout",
     "output_type": "stream",
     "text": [
      "0\n",
      "1\n",
      "2\n",
      "3\n",
      "4\n",
      "5\n",
      "6\n",
      "7\n",
      "8\n",
      "9\n"
     ]
    }
   ],
   "source": [
    "for i in range(10):\n",
    "    print(i)"
   ]
  },
  {
   "cell_type": "markdown",
   "id": "5fb32788",
   "metadata": {},
   "source": [
    "# range(10)：預設從 0 開始，到 10 結束（但不包含 10），也就是產生數字：\n",
    "0, 1, 2, 3, 4, 5, 6, 7, 8, 9\n",
    "# for i in range(10)：i 會依序取出這些數字。\n",
    "# print(i)：每次把目前的 i 印出來。"
   ]
  },
  {
   "cell_type": "code",
   "execution_count": 5,
   "id": "857468b3",
   "metadata": {},
   "outputs": [
    {
     "name": "stdout",
     "output_type": "stream",
     "text": [
      "1\n",
      "2\n",
      "3\n",
      "4\n"
     ]
    }
   ],
   "source": [
    "# 說明range()\n",
    "\n",
    "for i in range(1, 5):\n",
    "    print(i)"
   ]
  },
  {
   "cell_type": "code",
   "execution_count": 6,
   "id": "1d07a9f9",
   "metadata": {},
   "outputs": [
    {
     "name": "stdout",
     "output_type": "stream",
     "text": [
      "1\n",
      "3\n",
      "5\n",
      "7\n",
      "9\n"
     ]
    }
   ],
   "source": [
    "for i in range(1,10,2):\n",
    "    print(i)"
   ]
  },
  {
   "cell_type": "markdown",
   "id": "907bc8d0",
   "metadata": {},
   "source": [
    "# 用 int() 把它轉成整數，並存到變數 n 裡。\n",
    "# 先把總和變數 total 設定為 0，準備開始累加。\n",
    "# 這是個 for 迴圈，會從 1 加到 n。\n",
    "# range(1, n+1) 的意思是從 1 到 n（包含 n，因為 range 是「不包含」終點，所以要寫 n+1）。\n",
    "# 每次迴圈執行時，i 就會是 1、2、3…一直到 n。\n",
    "# total += i 就是把目前的 i 加到 total 裡，相當於：\n",
    "# 最後印出總和的結果。\n",
    "# 使用 f-string（格式化字串）來顯示total=__ print(f\"total={total}\")"
   ]
  },
  {
   "cell_type": "code",
   "execution_count": null,
   "id": "0ecf7bb2",
   "metadata": {},
   "outputs": [
    {
     "name": "stdout",
     "output_type": "stream",
     "text": [
      "total=1540\n"
     ]
    }
   ],
   "source": [
    "n = int(input(\"請輸入n的值\"))\n",
    "total = 0 \n",
    "for i in range(1,n+1):\n",
    "    total += i\n",
    "print(f\"total={total}\")"
   ]
  },
  {
   "cell_type": "code",
   "execution_count": 14,
   "id": "22088d58",
   "metadata": {},
   "outputs": [
    {
     "name": "stdout",
     "output_type": "stream",
     "text": [
      "i=1\n",
      "j=1 j=2 j=3 j=4 j=5 j=6 j=7 j=8 j=9 \n",
      "i=2\n",
      "j=1 j=2 j=3 j=4 j=5 j=6 j=7 j=8 j=9 \n",
      "i=3\n",
      "j=1 j=2 j=3 j=4 j=5 j=6 j=7 j=8 j=9 \n",
      "i=4\n",
      "j=1 j=2 j=3 j=4 j=5 j=6 j=7 j=8 j=9 \n",
      "i=5\n",
      "j=1 j=2 j=3 j=4 j=5 j=6 j=7 j=8 j=9 \n",
      "i=6\n",
      "j=1 j=2 j=3 j=4 j=5 j=6 j=7 j=8 j=9 \n",
      "i=7\n",
      "j=1 j=2 j=3 j=4 j=5 j=6 j=7 j=8 j=9 \n",
      "i=8\n",
      "j=1 j=2 j=3 j=4 j=5 j=6 j=7 j=8 j=9 \n",
      "i=9\n",
      "j=1 j=2 j=3 j=4 j=5 j=6 j=7 j=8 j=9 \n"
     ]
    }
   ],
   "source": [
    "for i in range(1,10):\n",
    "    print(f\"i={i}\")\n",
    "    for j in range(1,10):\n",
    "        print(f\"j={j}\",end=\" \")\n",
    "    print()"
   ]
  },
  {
   "cell_type": "markdown",
   "id": "2405d0ee",
   "metadata": {},
   "source": [
    "# 外層的 for 迴圈會讓 i 從 1 到 9（range(1, 10) 的意思是從 1 到 9，不包含 10）。\n",
    "# 每次執行時，會印出目前的 i 值，格式為 i=1、i=2……一直到 i=9。\n",
    "for i in range(1,10):\n",
    "    print(f\"i={i}\")\n",
    "\n",
    "# 這是內層的 for 迴圈，在每一個 i 的迴圈內執行。\n",
    "# j 會從 1 到 9，然後依序印出 j=1 j=2 j=3 ... j=9。\n",
    "# end=\" \" 是設定印出時不換行，而是用空格隔開。\n",
    "for j in range(1,10):\n",
    "        print(f\"j={j}\",end=\" \")\n",
    "        \n",
    "# 這行讓每次內層迴圈印完之後換行，讓每個 i 都有一排自己的 j=... 列。\n",
    " print()"
   ]
  },
  {
   "cell_type": "code",
   "execution_count": 17,
   "id": "b1415a94",
   "metadata": {},
   "outputs": [
    {
     "name": "stdout",
     "output_type": "stream",
     "text": [
      "1*1=1\t1*2=2\t1*3=3\t1*4=4\t1*5=5\t1*6=6\t1*7=7\t1*8=8\t1*9=9\t\n",
      "2*1=2\t2*2=4\t2*3=6\t2*4=8\t2*5=10\t2*6=12\t2*7=14\t2*8=16\t2*9=18\t\n",
      "3*1=3\t3*2=6\t3*3=9\t3*4=12\t3*5=15\t3*6=18\t3*7=21\t3*8=24\t3*9=27\t\n",
      "4*1=4\t4*2=8\t4*3=12\t4*4=16\t4*5=20\t4*6=24\t4*7=28\t4*8=32\t4*9=36\t\n",
      "5*1=5\t5*2=10\t5*3=15\t5*4=20\t5*5=25\t5*6=30\t5*7=35\t5*8=40\t5*9=45\t\n",
      "6*1=6\t6*2=12\t6*3=18\t6*4=24\t6*5=30\t6*6=36\t6*7=42\t6*8=48\t6*9=54\t\n",
      "7*1=7\t7*2=14\t7*3=21\t7*4=28\t7*5=35\t7*6=42\t7*7=49\t7*8=56\t7*9=63\t\n",
      "8*1=8\t8*2=16\t8*3=24\t8*4=32\t8*5=40\t8*6=48\t8*7=56\t8*8=64\t8*9=72\t\n",
      "9*1=9\t9*2=18\t9*3=27\t9*4=36\t9*5=45\t9*6=54\t9*7=63\t9*8=72\t9*9=81\t\n"
     ]
    }
   ],
   "source": [
    "#巢狀迴圈 九九乘法表\n",
    "for i in range(1,10):\n",
    "    for j in range(1,10):\n",
    "        print(f\"{i}*{j}={i*j}\",end=\"\\t\")\n",
    "    print()"
   ]
  },
  {
   "cell_type": "markdown",
   "id": "06b223aa",
   "metadata": {},
   "source": [
    "### 「直式九九乘法表」，每一列顯示的是某個固定的「被乘數 i」，由乘數 j 從 1 到 9 所組成的乘法結果。\n",
    "for i in range(1,10):           # i 是被乘數，從 1 到 9\n",
    "    for j in range(1,10):       # j 是乘數，從 1 到 9\n",
    "        print(f\"{i}*{j}={i*j}\", end=\"\\t\")  # 印出結果，並用 tab 隔開\n",
    "    print()  # 每一列印完換行\n",
    "\n",
    "# end=\"\\t\"：這是讓每個結果用「tab 鍵」對齊，而不是換行。\n",
    "# print()：在內層 for 迴圈跑完後換行，讓下一列的乘法結果顯示在新的一行。"
   ]
  }
 ],
 "metadata": {
  "kernelspec": {
   "display_name": "base",
   "language": "python",
   "name": "python3"
  },
  "language_info": {
   "codemirror_mode": {
    "name": "ipython",
    "version": 3
   },
   "file_extension": ".py",
   "mimetype": "text/x-python",
   "name": "python",
   "nbconvert_exporter": "python",
   "pygments_lexer": "ipython3",
   "version": "3.12.9"
  }
 },
 "nbformat": 4,
 "nbformat_minor": 5
}
