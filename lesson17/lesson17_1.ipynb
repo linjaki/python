{
 "cells": [
  {
   "cell_type": "markdown",
   "id": "f0fd5672",
   "metadata": {},
   "source": []
  },
  {
   "cell_type": "code",
   "execution_count": 5,
   "id": "5eca74b6",
   "metadata": {},
   "outputs": [
    {
     "data": {
      "text/html": [
       "<div>\n",
       "<style scoped>\n",
       "    .dataframe tbody tr th:only-of-type {\n",
       "        vertical-align: middle;\n",
       "    }\n",
       "\n",
       "    .dataframe tbody tr th {\n",
       "        vertical-align: top;\n",
       "    }\n",
       "\n",
       "    .dataframe thead th {\n",
       "        text-align: right;\n",
       "    }\n",
       "</style>\n",
       "<table border=\"1\" class=\"dataframe\">\n",
       "  <thead>\n",
       "    <tr style=\"text-align: right;\">\n",
       "      <th></th>\n",
       "      <th>strings</th>\n",
       "      <th>ints</th>\n",
       "      <th>floats</th>\n",
       "    </tr>\n",
       "  </thead>\n",
       "  <tbody>\n",
       "    <tr>\n",
       "      <th>0</th>\n",
       "      <td>Adam</td>\n",
       "      <td>1</td>\n",
       "      <td>1.123</td>\n",
       "    </tr>\n",
       "    <tr>\n",
       "      <th>1</th>\n",
       "      <td>Mike</td>\n",
       "      <td>3</td>\n",
       "      <td>1000.230</td>\n",
       "    </tr>\n",
       "  </tbody>\n",
       "</table>\n",
       "</div>"
      ],
      "text/plain": [
       "  strings  ints    floats\n",
       "0    Adam     1     1.123\n",
       "1    Mike     3  1000.230"
      ]
     },
     "metadata": {},
     "output_type": "display_data"
    },
    {
     "ename": "TypeError",
     "evalue": "StylerRenderer.format() got an unexpected keyword argument 'precsion'",
     "output_type": "error",
     "traceback": [
      "\u001b[31m---------------------------------------------------------------------------\u001b[39m",
      "\u001b[31mTypeError\u001b[39m                                 Traceback (most recent call last)",
      "\u001b[36mCell\u001b[39m\u001b[36m \u001b[39m\u001b[32mIn[5]\u001b[39m\u001b[32m, line 12\u001b[39m\n\u001b[32m      8\u001b[39m \u001b[38;5;28mtype\u001b[39m(df.style)\n\u001b[32m     10\u001b[39m display(df)\n\u001b[32m     11\u001b[39m s = \u001b[43mdf\u001b[49m\u001b[43m.\u001b[49m\u001b[43mstyle\u001b[49m\u001b[43m\\\u001b[49m\n\u001b[32m---> \u001b[39m\u001b[32m12\u001b[39m \u001b[43m.\u001b[49m\u001b[43mformat\u001b[49m\u001b[43m(\u001b[49m\u001b[43mprecsion\u001b[49m\u001b[43m=\u001b[49m\u001b[32;43m3\u001b[39;49m\u001b[43m,\u001b[49m\u001b[43mthousands\u001b[49m\u001b[43m=\u001b[49m\u001b[33;43m\"\u001b[39;49m\u001b[33;43m.\u001b[39;49m\u001b[33;43m\"\u001b[39;49m\u001b[43m,\u001b[49m\u001b[43mdecimal\u001b[49m\u001b[43m=\u001b[49m\u001b[33;43m\"\u001b[39;49m\u001b[33;43m.\u001b[39;49m\u001b[33;43m\"\u001b[39;49m\u001b[43m)\u001b[49m\\\n\u001b[32m     13\u001b[39m .format_index(\u001b[38;5;28mstr\u001b[39m.upper, axis=\u001b[32m1\u001b[39m)\\\n\u001b[32m     14\u001b[39m .relabel_index([\u001b[33m\"\u001b[39m\u001b[33m列1\u001b[39m\u001b[33m\"\u001b[39m,\u001b[33m\"\u001b[39m\u001b[33m列2\u001b[39m\u001b[33m\"\u001b[39m])\n",
      "\u001b[31mTypeError\u001b[39m: StylerRenderer.format() got an unexpected keyword argument 'precsion'"
     ]
    }
   ],
   "source": [
    "import pandas as pd\n",
    "import numpy as np\n",
    "\n",
    "df = pd.DataFrame({\n",
    "    \"strings\": [\"Adam\", \"Mike\"],\n",
    "    \"ints\": [1, 3],\n",
    "    \"floats\": [1.123, 1000.23]})\n",
    "type(df.style)\n",
    "\n",
    "display(df)\n",
    "s = df.style\\\n",
    ".format(precsion=3,thousands=\".\",decimal=\".\")\\\n",
    ".format_index(str.upper, axis=1)\\\n",
    ".relabel_index([\"列1\",\"列2\"])\n",
    "\n"
   ]
  },
  {
   "cell_type": "code",
   "execution_count": 2,
   "id": "b17a03f1",
   "metadata": {},
   "outputs": [
    {
     "data": {
      "text/html": [
       "<div>\n",
       "<style scoped>\n",
       "    .dataframe tbody tr th:only-of-type {\n",
       "        vertical-align: middle;\n",
       "    }\n",
       "\n",
       "    .dataframe tbody tr th {\n",
       "        vertical-align: top;\n",
       "    }\n",
       "\n",
       "    .dataframe thead th {\n",
       "        text-align: right;\n",
       "    }\n",
       "</style>\n",
       "<table border=\"1\" class=\"dataframe\">\n",
       "  <thead>\n",
       "    <tr style=\"text-align: right;\">\n",
       "      <th></th>\n",
       "      <th>strings</th>\n",
       "      <th>ints</th>\n",
       "      <th>floats</th>\n",
       "    </tr>\n",
       "  </thead>\n",
       "  <tbody>\n",
       "    <tr>\n",
       "      <th>0</th>\n",
       "      <td>Adam</td>\n",
       "      <td>1</td>\n",
       "      <td>1.123</td>\n",
       "    </tr>\n",
       "    <tr>\n",
       "      <th>1</th>\n",
       "      <td>Mike</td>\n",
       "      <td>3</td>\n",
       "      <td>1000.230</td>\n",
       "    </tr>\n",
       "  </tbody>\n",
       "</table>\n",
       "</div>"
      ],
      "text/plain": [
       "  strings  ints    floats\n",
       "0    Adam     1     1.123\n",
       "1    Mike     3  1000.230"
      ]
     },
     "metadata": {},
     "output_type": "display_data"
    }
   ],
   "source": [
    "#Styler.format()\n",
    "#Style.format_index()\n",
    "#Style.relabel_index()\n",
    "\n",
    "import pandas as pd\n",
    "import numpy as np \n",
    "\n",
    "df = pd.DataFrame({\n",
    "    \"strings\": [\"Adam\", \"Mike\"],\n",
    "    \"ints\": [1, 3],\n",
    "    \"floats\": [1.123, 1000.23]\n",
    "})\n",
    "type(df.style)\n",
    "\n",
    "display(df)\n",
    "s = df.style\\\n",
    ".format(precision=3, thousands=\",\", decimal='.')\\\n",
    ".format_index(str.upper,axis=1)\\\n",
    ".relabel_index([\"列1\",\"列2\"])"
   ]
  },
  {
   "cell_type": "code",
   "execution_count": 8,
   "id": "6c2932bd",
   "metadata": {},
   "outputs": [
    {
     "name": "stdout",
     "output_type": "stream",
     "text": [
      "<class 'pandas.core.frame.DataFrame'>\n",
      "DatetimeIndex: 600 entries, 2024-01-01 to 2025-08-22\n",
      "Freq: D\n",
      "Data columns (total 2 columns):\n",
      " #   Column  Non-Null Count  Dtype  \n",
      "---  ------  --------------  -----  \n",
      " 0   東京      600 non-null    float64\n",
      " 1   台北      600 non-null    float64\n",
      "dtypes: float64(2)\n",
      "memory usage: 14.1 KB\n"
     ]
    }
   ],
   "source": [
    "weather_df = pd.DataFrame(np.random.rand(600, 2)*5,\n",
    "                          index=pd.date_range(start=\"2024-01-01\", periods=600),\n",
    "                          columns=[\"東京\", \"台北\"])\n",
    "weather_df.info()"
   ]
  },
  {
   "cell_type": "code",
   "execution_count": 9,
   "id": "94aa617c",
   "metadata": {},
   "outputs": [
    {
     "data": {
      "text/html": [
       "<div>\n",
       "<style scoped>\n",
       "    .dataframe tbody tr th:only-of-type {\n",
       "        vertical-align: middle;\n",
       "    }\n",
       "\n",
       "    .dataframe tbody tr th {\n",
       "        vertical-align: top;\n",
       "    }\n",
       "\n",
       "    .dataframe thead th {\n",
       "        text-align: right;\n",
       "    }\n",
       "</style>\n",
       "<table border=\"1\" class=\"dataframe\">\n",
       "  <thead>\n",
       "    <tr style=\"text-align: right;\">\n",
       "      <th></th>\n",
       "      <th>東京</th>\n",
       "      <th>台北</th>\n",
       "    </tr>\n",
       "  </thead>\n",
       "  <tbody>\n",
       "    <tr>\n",
       "      <th>2024-01-01</th>\n",
       "      <td>1.485989</td>\n",
       "      <td>3.070175</td>\n",
       "    </tr>\n",
       "    <tr>\n",
       "      <th>2024-01-02</th>\n",
       "      <td>2.065660</td>\n",
       "      <td>2.659445</td>\n",
       "    </tr>\n",
       "    <tr>\n",
       "      <th>2024-01-03</th>\n",
       "      <td>0.289463</td>\n",
       "      <td>0.619106</td>\n",
       "    </tr>\n",
       "    <tr>\n",
       "      <th>2024-01-04</th>\n",
       "      <td>4.937093</td>\n",
       "      <td>3.350273</td>\n",
       "    </tr>\n",
       "    <tr>\n",
       "      <th>2024-01-05</th>\n",
       "      <td>3.410494</td>\n",
       "      <td>4.756682</td>\n",
       "    </tr>\n",
       "    <tr>\n",
       "      <th>...</th>\n",
       "      <td>...</td>\n",
       "      <td>...</td>\n",
       "    </tr>\n",
       "    <tr>\n",
       "      <th>2024-12-27</th>\n",
       "      <td>2.383169</td>\n",
       "      <td>4.302283</td>\n",
       "    </tr>\n",
       "    <tr>\n",
       "      <th>2024-12-28</th>\n",
       "      <td>0.605030</td>\n",
       "      <td>0.318564</td>\n",
       "    </tr>\n",
       "    <tr>\n",
       "      <th>2024-12-29</th>\n",
       "      <td>3.448069</td>\n",
       "      <td>3.172111</td>\n",
       "    </tr>\n",
       "    <tr>\n",
       "      <th>2024-12-30</th>\n",
       "      <td>3.922903</td>\n",
       "      <td>1.476668</td>\n",
       "    </tr>\n",
       "    <tr>\n",
       "      <th>2024-12-31</th>\n",
       "      <td>1.091934</td>\n",
       "      <td>4.423820</td>\n",
       "    </tr>\n",
       "  </tbody>\n",
       "</table>\n",
       "<p>366 rows × 2 columns</p>\n",
       "</div>"
      ],
      "text/plain": [
       "                  東京        台北\n",
       "2024-01-01  1.485989  3.070175\n",
       "2024-01-02  2.065660  2.659445\n",
       "2024-01-03  0.289463  0.619106\n",
       "2024-01-04  4.937093  3.350273\n",
       "2024-01-05  3.410494  4.756682\n",
       "...              ...       ...\n",
       "2024-12-27  2.383169  4.302283\n",
       "2024-12-28  0.605030  0.318564\n",
       "2024-12-29  3.448069  3.172111\n",
       "2024-12-30  3.922903  1.476668\n",
       "2024-12-31  1.091934  4.423820\n",
       "\n",
       "[366 rows x 2 columns]"
      ]
     },
     "execution_count": 9,
     "metadata": {},
     "output_type": "execute_result"
    }
   ],
   "source": [
    "weather_df.loc[\"2024-01-10\":\"2024-01-30\"]\n",
    "weather_df.loc[\"2024-01\"]\n",
    "weather_df.loc[\"2024\"]"
   ]
  }
 ],
 "metadata": {
  "kernelspec": {
   "display_name": "base",
   "language": "python",
   "name": "python3"
  },
  "language_info": {
   "codemirror_mode": {
    "name": "ipython",
    "version": 3
   },
   "file_extension": ".py",
   "mimetype": "text/x-python",
   "name": "python",
   "nbconvert_exporter": "python",
   "pygments_lexer": "ipython3",
   "version": "3.12.9"
  }
 },
 "nbformat": 4,
 "nbformat_minor": 5
}
