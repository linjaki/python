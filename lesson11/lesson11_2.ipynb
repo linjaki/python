{
 "cells": [
  {
   "cell_type": "markdown",
   "id": "35b57574",
   "metadata": {},
   "source": [
    "    https://www.moeaea.gov.tw/ECW/populace/opendata/wHandOpenData_File.ashx?set_id=252"
   ]
  },
  {
   "cell_type": "code",
   "execution_count": 13,
   "id": "a1d3f8dc",
   "metadata": {},
   "outputs": [
    {
     "name": "stdout",
     "output_type": "stream",
     "text": [
      "下載成功\n"
     ]
    },
    {
     "data": {
      "text/plain": [
       "'年份,太陽光電(百萬度),風力發電(百萬度),慣常水力發電(百萬度),生質能發電(百萬度),地熱發電(百萬度),廢棄物(百萬度),合計(百萬度)\\r\\n98年,9.1,786.6,3748.3,229.3,-,3036.1,7809.5\\r\\n99年,21.7,1026.3,4194.1,270,-,3127.6,8639.8\\r\\n100年,61.6,1492.7,3999.7,236.1,-,3196.9,8987.1\\r\\n101年,159.9,1413.5,5669.6,241.5,-,3177.7,10662.1\\r\\n102年,321.1,1640,5422.9,225.6,-,3245.7,10855.2\\r\\n103年,528.8,1500.5,4317.9,249.8,-,3325.5,9922.4\\r\\n104年,850.3,1525.2,4470.1,246.2,-,3384.2,10476\\r\\n105年,1109,1457.1,6562,205.4,-,3396.6,12730.1\\r\\n106年,1667.5,1722.5,5446.8,187.7,-,3341,12365.4\\r\\n107年,2703.7,1709.5,4481.6,185.3,-,3566.6,12646.6\\r\\n108年,4015.9,1892.2,5544.8,169.8,0.8,3634.9,15258.4\\r\\n109年,6074.7,2308.9,3019.2,204.7,1.9,3569.7,15179.1\\r\\n110年,7970.2,2257.5,3474.7,195.8,9.1,3604.5,17511.7\\r\\n111年,10677,3543.1,5836.5,158.2,25,3605.1,23844.9\\r\\n'"
      ]
     },
     "execution_count": 13,
     "metadata": {},
     "output_type": "execute_result"
    }
   ],
   "source": [
    "import requests\n",
    "from requests import Response\n",
    "\n",
    "url:str = \"\thttps://www.moeaea.gov.tw/ECW/populace/opendata/wHandOpenData_File.ashx?set_id=252\"\n",
    "headers = {'User-Agent': 'Mozilla/5.0 (Macintosh; Intel Mac OS X 10_15_7) AppleWebKit/537.36 (KHTML, like Gecko) Chrome/137.0.0.0 Safari/537.36'}\n",
    "response:Response = requests.get(url,headers=headers)\n",
    "if response.status_code == 200:\n",
    "    print(\"下載成功\")\n",
    "    content:str = response.text\n",
    "content"
   ]
  },
  {
   "cell_type": "markdown",
   "id": "3a5072b8",
   "metadata": {},
   "source": [
    "https://www.perplexity.ai/search/4b92f47b-e339-4968-a499-be2393ae9374  # 警告訊息通知"
   ]
  },
  {
   "cell_type": "code",
   "execution_count": 20,
   "id": "9f460028",
   "metadata": {},
   "outputs": [
    {
     "name": "stdout",
     "output_type": "stream",
     "text": [
      "下載成功\n"
     ]
    },
    {
     "data": {
      "text/plain": [
       "'年份,太陽光電(百萬度),風力發電(百萬度),慣常水力發電(百萬度),生質能發電(百萬度),地熱發電(百萬度),廢棄物(百萬度),合計(百萬度)\\r\\n98年,9.1,786.6,3748.3,229.3,-,3036.1,7809.5\\r\\n99年,21.7,1026.3,4194.1,270,-,3127.6,8639.8\\r\\n100年,61.6,1492.7,3999.7,236.1,-,3196.9,8987.1\\r\\n101年,159.9,1413.5,5669.6,241.5,-,3177.7,10662.1\\r\\n102年,321.1,1640,5422.9,225.6,-,3245.7,10855.2\\r\\n103年,528.8,1500.5,4317.9,249.8,-,3325.5,9922.4\\r\\n104年,850.3,1525.2,4470.1,246.2,-,3384.2,10476\\r\\n105年,1109,1457.1,6562,205.4,-,3396.6,12730.1\\r\\n106年,1667.5,1722.5,5446.8,187.7,-,3341,12365.4\\r\\n107年,2703.7,1709.5,4481.6,185.3,-,3566.6,12646.6\\r\\n108年,4015.9,1892.2,5544.8,169.8,0.8,3634.9,15258.4\\r\\n109年,6074.7,2308.9,3019.2,204.7,1.9,3569.7,15179.1\\r\\n110年,7970.2,2257.5,3474.7,195.8,9.1,3604.5,17511.7\\r\\n111年,10677,3543.1,5836.5,158.2,25,3605.1,23844.9\\r\\n'"
      ]
     },
     "execution_count": 20,
     "metadata": {},
     "output_type": "execute_result"
    }
   ],
   "source": [
    "import requests\n",
    "from requests import Response\n",
    "from requests import HTTPError,ConnectionError,Timeout,RequestException\n",
    "\n",
    "url:str = \"\thttps://www.moeaea.gov.tw/ECW/populace/opendata/wHandOpenData_File.ashx?set_id=252\"\n",
    "headers = {'User-Agent': 'Mozilla/5.0 (Macintosh; Intel Mac OS X 10_15_7) AppleWebKit/537.36 (KHTML, like Gecko) Chrome/137.0.0.0 Safari/537.36'}\n",
    "response:Response = requests.get(url,headers=headers)\n",
    "try:\n",
    "    response:Response = requests.get(url,headers=headers)\n",
    "    response.raise_for_status()\n",
    "except HTTPError:\n",
    "    print(f\"警告：伺服器回應狀態碼為 {response.status_code}，請求未成功！\")\n",
    "except ConnectionError:\n",
    "    print(\"網路連線異常，請檢查網路設定。\")\n",
    "except Timeout:\n",
    "    print(\"請求逾時，請稍後再試。\")\n",
    "except RequestException as e:\n",
    "    print(f\"請求發生錯誤：{e}\")\n",
    "except Exception:\n",
    "    print(\"不知明的錯誤\")\n",
    "else:\n",
    "    print(\"下載成功\")\n",
    "\n",
    "    content:str = response.text\n",
    "content"
   ]
  },
  {
   "cell_type": "code",
   "execution_count": 16,
   "id": "c003258e",
   "metadata": {},
   "outputs": [],
   "source": [
    "# 直接將網頁上的 CSV 資料讀進來處理\n",
    "import requests\n",
    "import csv\n",
    "\n",
    "csv_url = 'https://www.moeaea.gov.tw/ECW/populace/opendata/wHandOpenData_File.ashx?set_id=252'\n",
    "response = requests.get(csv_url)\n",
    "csv_text = response.text"
   ]
  },
  {
   "cell_type": "code",
   "execution_count": 17,
   "id": "23194278",
   "metadata": {},
   "outputs": [],
   "source": [
    "# 下載 CSV 檔案再讀取\n",
    "import requests\n",
    "\n",
    "csv_url = 'https://www.moeaea.gov.tw/ECW/populace/opendata/wHandOpenData_File.ashx?set_id=252'\n",
    "response = requests.get(csv_url)\n",
    "\n",
    "with open('data.csv', 'wb') as file:\n",
    "    file.write(response.content)"
   ]
  },
  {
   "cell_type": "code",
   "execution_count": null,
   "id": "c80d397d",
   "metadata": {},
   "outputs": [],
   "source": [
    "import io\n",
    "import csv\n",
    "\n",
    "# 假設 csv_bytes 是 bytes 格式的 CSV 內容\n",
    "csv_bytes = b\"name,score\\nAlice,90\\nBob,85\\nCharlie,78\\n\"\n",
    "\n",
    "# 先將 bytes 轉成 TextIOWrapper\n",
    "file_like = io.TextIOWrapper(io.BytesIO(csv_bytes), encoding='utf-8')\n",
    "\n",
    "reader = csv.reader(file_like)\n",
    "for row in reader:\n",
    "    print(row)"
   ]
  },
  {
   "cell_type": "code",
   "execution_count": null,
   "id": "d2102fbc",
   "metadata": {},
   "outputs": [],
   "source": [
    "import io\n",
    "from io import StringIO\n",
    "import csv\n",
    "\n",
    "file:StringIO = io.StringIO(content)\n",
    "reader = csv.DictReader(file)\n",
    "students = [row for row in reader]\n",
    "file.close()\n",
    "students"
   ]
  }
 ],
 "metadata": {
  "kernelspec": {
   "display_name": "base",
   "language": "python",
   "name": "python3"
  },
  "language_info": {
   "codemirror_mode": {
    "name": "ipython",
    "version": 3
   },
   "file_extension": ".py",
   "mimetype": "text/x-python",
   "name": "python",
   "nbconvert_exporter": "python",
   "pygments_lexer": "ipython3",
   "version": "3.12.9"
  }
 },
 "nbformat": 4,
 "nbformat_minor": 5
}
