{
 "cells": [
  {
   "cell_type": "markdown",
   "id": "da89c8ad",
   "metadata": {},
   "source": [
    "使用 Tkinter 建立簡單視窗（GUI）\n",
    "#import tkinter as tk  這行將 Tkinter 套件匯入並簡化為 tk，方便後續呼叫。\n",
    "class Window(tk.Tk):宣告一個名為 Window 的類別，繼承自 tk.Tk（Tkinter 的主視窗類別）。\n",
    "\n",
    "def init(self):\n",
    "這是建構子（初始化方法），當 Window 物件被建立時會自動執行。\n",
    "\n",
    "super().init():\n",
    "呼叫父類別（tk.Tk）的初始化方法，確保視窗正確建立。\n",
    "\n",
    "self.title(\"Hello Tkinter\"):\n",
    "設定視窗標題為 \"Hello Tkinter\"。\n",
    "\n",
    "label = tk.Label(self, text=\"Hello World!\"):\n",
    "建立一個標籤（Label）元件，顯示文字 \"Hello World!\"，並將它放在主視窗上（self 代表這個 Window 物件）。"
   ]
  },
  {
   "cell_type": "code",
   "execution_count": 1,
   "id": "148bf6f5",
   "metadata": {},
   "outputs": [
    {
     "ename": "TclError",
     "evalue": "no display name and no $DISPLAY environment variable",
     "output_type": "error",
     "traceback": [
      "\u001b[31m---------------------------------------------------------------------------\u001b[39m",
      "\u001b[31mTclError\u001b[39m                                  Traceback (most recent call last)",
      "\u001b[36mCell\u001b[39m\u001b[36m \u001b[39m\u001b[32mIn[1]\u001b[39m\u001b[32m, line 13\u001b[39m\n\u001b[32m      9\u001b[39m         label.pack(fill=tk.BOTH, expand=\u001b[32m1\u001b[39m, padx=\u001b[32m100\u001b[39m, pady=\u001b[32m50\u001b[39m)\n\u001b[32m     12\u001b[39m \u001b[38;5;28;01mif\u001b[39;00m \u001b[34m__name__\u001b[39m == \u001b[33m\"\u001b[39m\u001b[33m__main__\u001b[39m\u001b[33m\"\u001b[39m:\n\u001b[32m---> \u001b[39m\u001b[32m13\u001b[39m     window = \u001b[43mWindow\u001b[49m\u001b[43m(\u001b[49m\u001b[43m)\u001b[49m\n\u001b[32m     14\u001b[39m     window.mainloop()\n",
      "\u001b[36mCell\u001b[39m\u001b[36m \u001b[39m\u001b[32mIn[1]\u001b[39m\u001b[32m, line 5\u001b[39m, in \u001b[36mWindow.__init__\u001b[39m\u001b[34m(self)\u001b[39m\n\u001b[32m      4\u001b[39m \u001b[38;5;28;01mdef\u001b[39;00m \u001b[34m__init__\u001b[39m(\u001b[38;5;28mself\u001b[39m):\n\u001b[32m----> \u001b[39m\u001b[32m5\u001b[39m     \u001b[38;5;28;43msuper\u001b[39;49m\u001b[43m(\u001b[49m\u001b[43m)\u001b[49m\u001b[43m.\u001b[49m\u001b[34;43m__init__\u001b[39;49m\u001b[43m(\u001b[49m\u001b[43m)\u001b[49m\n\u001b[32m      6\u001b[39m     \u001b[38;5;28mself\u001b[39m.title(\u001b[33m\"\u001b[39m\u001b[33mHello Tkinter\u001b[39m\u001b[33m\"\u001b[39m)\n\u001b[32m      8\u001b[39m     label = tk.Label(\u001b[38;5;28mself\u001b[39m, text=\u001b[33m\"\u001b[39m\u001b[33mHello World!\u001b[39m\u001b[33m\"\u001b[39m)\n",
      "\u001b[36mFile \u001b[39m\u001b[32m/opt/conda/lib/python3.12/tkinter/__init__.py:2346\u001b[39m, in \u001b[36mTk.__init__\u001b[39m\u001b[34m(self, screenName, baseName, className, useTk, sync, use)\u001b[39m\n\u001b[32m   2344\u001b[39m         baseName = baseName + ext\n\u001b[32m   2345\u001b[39m interactive = \u001b[38;5;28;01mFalse\u001b[39;00m\n\u001b[32m-> \u001b[39m\u001b[32m2346\u001b[39m \u001b[38;5;28mself\u001b[39m.tk = \u001b[43m_tkinter\u001b[49m\u001b[43m.\u001b[49m\u001b[43mcreate\u001b[49m\u001b[43m(\u001b[49m\u001b[43mscreenName\u001b[49m\u001b[43m,\u001b[49m\u001b[43m \u001b[49m\u001b[43mbaseName\u001b[49m\u001b[43m,\u001b[49m\u001b[43m \u001b[49m\u001b[43mclassName\u001b[49m\u001b[43m,\u001b[49m\u001b[43m \u001b[49m\u001b[43minteractive\u001b[49m\u001b[43m,\u001b[49m\u001b[43m \u001b[49m\u001b[43mwantobjects\u001b[49m\u001b[43m,\u001b[49m\u001b[43m \u001b[49m\u001b[43museTk\u001b[49m\u001b[43m,\u001b[49m\u001b[43m \u001b[49m\u001b[43msync\u001b[49m\u001b[43m,\u001b[49m\u001b[43m \u001b[49m\u001b[43muse\u001b[49m\u001b[43m)\u001b[49m\n\u001b[32m   2347\u001b[39m \u001b[38;5;28;01mif\u001b[39;00m _debug:\n\u001b[32m   2348\u001b[39m     \u001b[38;5;28mself\u001b[39m.tk.settrace(_print_command)\n",
      "\u001b[31mTclError\u001b[39m: no display name and no $DISPLAY environment variable"
     ]
    }
   ],
   "source": [
    "import tkinter as tk\n",
    "\n",
    "class Window(tk.Tk):\n",
    "    def __init__(self):\n",
    "        super().__init__()\n",
    "        self.title(\"Hello Tkinter\")\n",
    "\n",
    "        label = tk.Label(self, text=\"Hello World!\")\n",
    "        label.pack(fill=tk.BOTH, expand=1, padx=100, pady=50)\n",
    "\n",
    "\n",
    "if __name__ == \"__main__\":\n",
    "    window = Window()\n",
    "    window.mainloop()"
   ]
  },
  {
   "cell_type": "markdown",
   "id": "84af9355",
   "metadata": {},
   "source": [
    "python \n",
    "1.function-->功能\n",
    "2.物件導向-->class\n",
    "\n",
    "java都是class\n"
   ]
  }
 ],
 "metadata": {
  "kernelspec": {
   "display_name": "base",
   "language": "python",
   "name": "python3"
  },
  "language_info": {
   "codemirror_mode": {
    "name": "ipython",
    "version": 3
   },
   "file_extension": ".py",
   "mimetype": "text/x-python",
   "name": "python",
   "nbconvert_exporter": "python",
   "pygments_lexer": "ipython3",
   "version": "3.12.9"
  }
 },
 "nbformat": 4,
 "nbformat_minor": 5
}
