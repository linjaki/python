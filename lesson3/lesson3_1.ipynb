{
 "cells": [
  {
   "cell_type": "markdown",
   "id": "16f274d0",
   "metadata": {},
   "source": [
    "# 複合指定運算子\n",
    "- \\+=\n",
    "- \\-=\n",
    "- \\*=\n",
    "- \\/=\n",
    "- //=\n",
    "- %=\n",
    "- **="
   ]
  },
  {
   "cell_type": "code",
   "execution_count": 2,
   "id": "66f7a8cb",
   "metadata": {},
   "outputs": [
    {
     "name": "stdout",
     "output_type": "stream",
     "text": [
      "15\n"
     ]
    }
   ],
   "source": [
    "n=5\n",
    "n += 10 # 複合指定運算子\n",
    "print(n)"
   ]
  },
  {
   "cell_type": "code",
   "execution_count": null,
   "id": "136f0177",
   "metadata": {},
   "outputs": [
    {
     "name": "stdout",
     "output_type": "stream",
     "text": [
      "5\n"
     ]
    }
   ],
   "source": [
    "n = 5\n",
    "n + 10 \n",
    "print(n)"
   ]
  },
  {
   "cell_type": "code",
   "execution_count": 4,
   "id": "3d7b78af",
   "metadata": {},
   "outputs": [
    {
     "name": "stdout",
     "output_type": "stream",
     "text": [
      "15\n"
     ]
    }
   ],
   "source": [
    "n = 5\n",
    "n = n+ 10 \n",
    "print(n)"
   ]
  },
  {
   "cell_type": "markdown",
   "id": "2f36b4d6",
   "metadata": {},
   "source": [
    "### 使用內建的函數庫(math)\n",
    "#國中數學\n",
    "import math"
   ]
  },
  {
   "cell_type": "code",
   "execution_count": 24,
   "id": "4cf31df2",
   "metadata": {},
   "outputs": [
    {
     "name": "stdout",
     "output_type": "stream",
     "text": [
      "鄰邊: 3\n",
      "對邊: 4\n",
      "斜邊: 5.0\n"
     ]
    }
   ],
   "source": [
    "import math\n",
    "side = eval(input(\"請輸入鄰邊:\"))\n",
    "another_side = eval(input(\"請輸入對邊:\"))\n",
    "result = math.sqrt(side ** 2 + another_side ** 2)\n",
    "print(\"鄰邊:\",side)\n",
    "print('對邊:',another_side)\n",
    "print('斜邊:',result)\n"
   ]
  },
  {
   "cell_type": "code",
   "execution_count": 23,
   "id": "141f00ea",
   "metadata": {},
   "outputs": [
    {
     "name": "stdout",
     "output_type": "stream",
     "text": [
      "對邊: 3\n",
      "斜邊: 5\n",
      "角度是: 36.86989764584402\n"
     ]
    }
   ],
   "source": [
    "import math\n",
    "side = eval(input(\"請輸入對邊:\"))\n",
    "another_side = eval(input(\"請輸入斜邊:\"))\n",
    "radian = math.asin(side/another_side)\n",
    "degree = math.degrees(radian)\n",
    "\n",
    "print('對邊:',side)\n",
    "print('斜邊:',another_side)\n",
    "print('角度是:',degree)"
   ]
  },
  {
   "cell_type": "markdown",
   "id": "d5cc6abf",
   "metadata": {},
   "source": [
    "#字串插補(字串的格式化)"
   ]
  },
  {
   "cell_type": "code",
   "execution_count": 19,
   "id": "3bf83f91",
   "metadata": {},
   "outputs": [
    {
     "name": "stdout",
     "output_type": "stream",
     "text": [
      "國文成績:92,數學成績:100\n"
     ]
    }
   ],
   "source": [
    "#字串和變數整合, 字串相加\n",
    "chinese = 92\n",
    "math =100\n",
    "print(\"國文成績:\" +str(chinese) +\",數學成績:\" +str(math))"
   ]
  },
  {
   "cell_type": "code",
   "execution_count": null,
   "id": "498163b7",
   "metadata": {},
   "outputs": [
    {
     "name": "stdout",
     "output_type": "stream",
     "text": [
      "國文成績:92.38,數學成績:100\n"
     ]
    }
   ],
   "source": [
    "#字串和變數整合, 成為全新的字串\n",
    "#字串插補\n",
    "chinese = 92.3756\n",
    "math =100\n",
    "print(f\"國文成績:{chinese:.2f},數學成績:{math}\")"
   ]
  },
  {
   "cell_type": "code",
   "execution_count": 26,
   "id": "45c5e7fc",
   "metadata": {},
   "outputs": [
    {
     "name": "stdout",
     "output_type": "stream",
     "text": [
      "對邊:2.5\n",
      "斜邊:5\n",
      "角度是:36.87\n"
     ]
    }
   ],
   "source": [
    "#字串插補\n",
    "import math\n",
    "side = eval(input(\"請輸入對邊:\"))\n",
    "another_side = eval(input(\"請輸入斜邊:\"))\n",
    "result = math.sqrt(side ** 2 + another_side ** 2)\n",
    "print(f\"對邊:{side}\")\n",
    "print(f\"斜邊:{another_side}\")\n",
    "print(f'角度是:{degree:.2f}')\n"
   ]
  }
 ],
 "metadata": {
  "kernelspec": {
   "display_name": "base",
   "language": "python",
   "name": "python3"
  },
  "language_info": {
   "codemirror_mode": {
    "name": "ipython",
    "version": 3
   },
   "file_extension": ".py",
   "mimetype": "text/x-python",
   "name": "python",
   "nbconvert_exporter": "python",
   "pygments_lexer": "ipython3",
   "version": "3.12.9"
  }
 },
 "nbformat": 4,
 "nbformat_minor": 5
}
