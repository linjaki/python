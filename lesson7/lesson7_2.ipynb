{
 "cells": [
  {
   "cell_type": "markdown",
   "id": "0212a70c",
   "metadata": {},
   "source": [
    "# print(*objects, sep=' ', end='\\n', file=None, flush=False)"
   ]
  },
  {
   "cell_type": "code",
   "execution_count": 1,
   "id": "f9cf4a29",
   "metadata": {},
   "outputs": [
    {
     "name": "stdout",
     "output_type": "stream",
     "text": [
      "1 3 5 a b c結束\n"
     ]
    }
   ],
   "source": [
    "print(1, 3, 5, \"a\", \"b\", \"c\", end='結束\\n')"
   ]
  },
  {
   "cell_type": "code",
   "execution_count": 2,
   "id": "c1e14b71",
   "metadata": {},
   "outputs": [
    {
     "name": "stdout",
     "output_type": "stream",
     "text": [
      "1-3-5-a-b-c結束\n"
     ]
    }
   ],
   "source": [
    "print(1, 3, 5, \"a\", \"b\", \"c\", end='結束\\n', sep=\"-\")"
   ]
  },
  {
   "cell_type": "markdown",
   "id": "dfe86fbe",
   "metadata": {},
   "source": [
    "# *objects\n",
    "代表可以輸入多個要印出的東西（像是數字、字串、變數等等）例如：print(\"Hello\", 123, \"World\")\n",
    "\n",
    "# sep=' '（separator）\n",
    "預設是空白（空格），用來設定印出物件之間的分隔符號 例如：print(\"A\", \"B\", \"C\", sep=\"-\") ➜ A-B-C\n",
    "\n",
    "# end='\\n'\n",
    "預設是換行（\\n），用來設定印出最後的結尾是什麼 例如：print(\"Hello\", end=\"!\") ➜ Hello!\n",
    "\n",
    "# file=None\n",
    "預設是 None，代表輸出到螢幕（標準輸出 stdout） 你也可以指定一個檔案物件\n",
    "\n",
    "# flush=False\n",
    "預設是 False，代表不會強制立刻把內容送出去 若設為 True，會立刻刷新輸出緩衝區（常在即時輸出時使用）\n",
    "\n",
    "*objects\t要印出的東西\n",
    "sep\t        分隔符號（預設空格）\n",
    "end\t        結尾（預設換行）\n",
    "file\t    要輸出的目的地（如檔案）\n",
    "flush\t    是否強制立刻輸出（預設否）"
   ]
  }
 ],
 "metadata": {
  "kernelspec": {
   "display_name": "base",
   "language": "python",
   "name": "python3"
  },
  "language_info": {
   "codemirror_mode": {
    "name": "ipython",
    "version": 3
   },
   "file_extension": ".py",
   "mimetype": "text/x-python",
   "name": "python",
   "nbconvert_exporter": "python",
   "pygments_lexer": "ipython3",
   "version": "3.12.9"
  }
 },
 "nbformat": 4,
 "nbformat_minor": 5
}
