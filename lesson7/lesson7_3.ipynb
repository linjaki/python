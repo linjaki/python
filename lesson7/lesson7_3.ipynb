{
 "cells": [
  {
   "cell_type": "code",
   "execution_count": null,
   "id": "6b9776bc",
   "metadata": {},
   "outputs": [],
   "source": [
    "### tuple\n",
    "- 不可變的變數(immutable)\n",
    "- 串列資料(Sequence)\n",
    "- 由符號建立(xxx, xxx, xxxx)\n",
    "\n",
    "# weekdays 是變數名稱。\n",
    "- tuple[str] 是型別註解，表示這個變數是一個 只包含字串的元組（tuple of strings）。\n",
    "- = (...) 是實際給的值，也就是一週七天的中文名稱。"
   ]
  },
  {
   "cell_type": "code",
   "execution_count": 1,
   "id": "5973ac0e",
   "metadata": {},
   "outputs": [
    {
     "data": {
      "text/plain": [
       "('星期一', '星期二', '星期三', '星期四', '星期五', '星期六', '星期日')"
      ]
     },
     "execution_count": 1,
     "metadata": {},
     "output_type": "execute_result"
    }
   ],
   "source": [
    "weekdays:tuple[str]=(\"星期一\", \"星期二\",\"星期三\",\"星期四\",\"星期五\",\"星期六\",\"星期日\")\n",
    "weekdays"
   ]
  },
  {
   "cell_type": "code",
   "execution_count": 3,
   "id": "b435db0d",
   "metadata": {},
   "outputs": [
    {
     "data": {
      "text/plain": [
       "'星期日'"
      ]
     },
     "execution_count": 3,
     "metadata": {},
     "output_type": "execute_result"
    }
   ],
   "source": [
    "#透過索引編號取得元素\n",
    "weekdays[0]\n",
    "weekdays[1]\n",
    "weekdays[6]"
   ]
  },
  {
   "cell_type": "code",
   "execution_count": 5,
   "id": "0f3fd180",
   "metadata": {},
   "outputs": [
    {
     "name": "stdout",
     "output_type": "stream",
     "text": [
      "星期一\n",
      "星期二\n",
      "星期三\n",
      "星期四\n",
      "星期五\n",
      "星期六\n",
      "星期日\n"
     ]
    },
    {
     "ename": "NameError",
     "evalue": "name '星期一' is not defined",
     "output_type": "error",
     "traceback": [
      "\u001b[31m---------------------------------------------------------------------------\u001b[39m",
      "\u001b[31mNameError\u001b[39m                                 Traceback (most recent call last)",
      "\u001b[36mCell\u001b[39m\u001b[36m \u001b[39m\u001b[32mIn[5]\u001b[39m\u001b[32m, line 5\u001b[39m\n\u001b[32m      3\u001b[39m \u001b[38;5;28;01mfor\u001b[39;00m day \u001b[38;5;129;01min\u001b[39;00m weekdays:\n\u001b[32m      4\u001b[39m     \u001b[38;5;28mprint\u001b[39m(day)\n\u001b[32m----> \u001b[39m\u001b[32m5\u001b[39m \u001b[43m星期一\u001b[49m\n\u001b[32m      6\u001b[39m 星期二\n\u001b[32m      7\u001b[39m 星期三\n",
      "\u001b[31mNameError\u001b[39m: name '星期一' is not defined"
     ]
    }
   ],
   "source": [
    "# tuple是串列資料(Sequence)\n",
    "\n",
    "for day in weekdays:\n",
    "    print(day)\n",
    "星期一\n",
    "星期二\n",
    "星期三\n",
    "星期四\n",
    "星期五\n",
    "星期六\n",
    "星期日"
   ]
  },
  {
   "cell_type": "markdown",
   "id": "04c43c0e",
   "metadata": {},
   "source": [
    "# for day in weekdays:\n",
    "這是一個 for 迴圈，用來遍歷（loop）元組 weekdays 中的每個元素，每次把其中一個元素放到變數 day 裡。\n",
    "\n",
    "# print(day)\n",
    "每次迴圈執行時，就把當前的 day 印出來。"
   ]
  },
  {
   "cell_type": "code",
   "execution_count": null,
   "id": "63337938",
   "metadata": {},
   "outputs": [],
   "source": [
    "### tuple最長的操作方法->拆解法"
   ]
  },
  {
   "cell_type": "code",
   "execution_count": 3,
   "id": "648e93c7",
   "metadata": {},
   "outputs": [
    {
     "data": {
      "text/plain": [
       "345"
      ]
     },
     "execution_count": 3,
     "metadata": {},
     "output_type": "execute_result"
    }
   ],
   "source": [
    "# 將tuple拆解給變數\n",
    "(name, age, scores) = (\"robert\", 35, 345)\n",
    "name\n",
    "age\n",
    "scores"
   ]
  },
  {
   "cell_type": "code",
   "execution_count": 4,
   "id": "8133a12e",
   "metadata": {},
   "outputs": [],
   "source": [
    "# 小括號可以省略\n",
    "name, age, scores = \"robert\", 35, 345"
   ]
  },
  {
   "cell_type": "code",
   "execution_count": 5,
   "id": "a62eb13e",
   "metadata": {},
   "outputs": [
    {
     "data": {
      "text/plain": [
       "('robert', 35, 345)"
      ]
     },
     "execution_count": 5,
     "metadata": {},
     "output_type": "execute_result"
    }
   ],
   "source": [
    "# 快速顯示多個變數\n",
    "name, age, scores"
   ]
  }
 ],
 "metadata": {
  "kernelspec": {
   "display_name": "base",
   "language": "python",
   "name": "python3"
  },
  "language_info": {
   "codemirror_mode": {
    "name": "ipython",
    "version": 3
   },
   "file_extension": ".py",
   "mimetype": "text/x-python",
   "name": "python",
   "nbconvert_exporter": "python",
   "pygments_lexer": "ipython3",
   "version": "3.12.9"
  }
 },
 "nbformat": 4,
 "nbformat_minor": 5
}
