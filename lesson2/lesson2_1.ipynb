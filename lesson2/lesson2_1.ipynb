{
 "cells": [
  {
   "cell_type": "code",
   "execution_count": 3,
   "id": "7845b54f",
   "metadata": {},
   "outputs": [
    {
     "name": "stdout",
     "output_type": "stream",
     "text": [
      "hello! python!\n"
     ]
    }
   ],
   "source": [
    "print(\"hello! python!\")"
   ]
  },
  {
   "cell_type": "markdown",
   "id": "bf8cca14",
   "metadata": {},
   "source": [
    "### 建立變數\n",
    "- 依靠指定運算子"
   ]
  },
  {
   "cell_type": "code",
   "execution_count": null,
   "id": "f6af3779",
   "metadata": {},
   "outputs": [
    {
     "name": "stdout",
     "output_type": "stream",
     "text": [
      "total= 40\n"
     ]
    }
   ],
   "source": [
    "n = 15 #敘述式\n",
    "m = 25 #敘述式\n",
    "total = n + m #敘述式\n",
    "print(\"total=\",total) #敘述式"
   ]
  },
  {
   "cell_type": "code",
   "execution_count": null,
   "id": "1ed2f413",
   "metadata": {},
   "outputs": [
    {
     "name": "stdout",
     "output_type": "stream",
     "text": [
      "15 25\n"
     ]
    }
   ],
   "source": [
    "x = 5 + 10\n",
    "y = 20 + 5\n",
    "print(x, y)"
   ]
  },
  {
   "cell_type": "markdown",
   "id": "14a37aaf",
   "metadata": {},
   "source": [
    "### 輸入 \n",
    "- input()\n",
    "\n",
    "### 輸出\n",
    "- print()"
   ]
  },
  {
   "cell_type": "code",
   "execution_count": 4,
   "id": "3af24465",
   "metadata": {},
   "outputs": [
    {
     "name": "stdout",
     "output_type": "stream",
     "text": [
      "您輸入的是整數: 20\n"
     ]
    }
   ],
   "source": [
    "value_str = input(\"請輸入整數:\")\n",
    "value = int(value_str)\n",
    "print(\"您輸入的是整數:\", value)"
   ]
  },
  {
   "cell_type": "code",
   "execution_count": 9,
   "id": "b60c5c8e",
   "metadata": {},
   "outputs": [
    {
     "name": "stdout",
     "output_type": "stream",
     "text": [
      "2數相加的合是: 40\n"
     ]
    }
   ],
   "source": [
    "value1 = int(input(\"請輸入第1個整數:\"))\n",
    "value2 = int(input(\"請輸入第2個整數:\"))\n",
    "total = value1 + value2\n",
    "print(\"2數相加的合是:\", total)"
   ]
  },
  {
   "cell_type": "code",
   "execution_count": 10,
   "id": "cd85cfb1",
   "metadata": {},
   "outputs": [
    {
     "name": "stdout",
     "output_type": "stream",
     "text": [
      "矩形寬是: 12.3\n",
      "矩形高是: 56.1\n",
      "矩形面積是: 690.0300000000001\n"
     ]
    }
   ],
   "source": [
    "width = eval(input(\"請輸入矩形寬:\"))\n",
    "height = eval(input(\"請輸入矩形高:\"))\n",
    "area = width * height\n",
    "print(\"矩形寬是:\",width)\n",
    "print(\"矩形高是:\", height)\n",
    "print(\"矩形面積是:\",area)"
   ]
  },
  {
   "cell_type": "markdown",
   "id": "60bd6a0f",
   "metadata": {},
   "source": [
    "### BMI計算"
   ]
  },
  {
   "cell_type": "code",
   "execution_count": 8,
   "id": "59f8457c",
   "metadata": {},
   "outputs": [
    {
     "name": "stdout",
     "output_type": "stream",
     "text": [
      "您的體重是: 60 KG\n",
      "您的身高是: 158 CM\n",
      "您的BMI數值: 24.03 kg/m²\n"
     ]
    }
   ],
   "source": [
    "weight = eval(input(\"請輸入體重 KG:\"))\n",
    "height = eval(input(\"請輸入身高 CM:\"))\n",
    "BMI = weight / (height/100) ** 2\n",
    "print(f\"您的體重是: {weight} KG\")\n",
    "print(f\"您的身高是: {height} CM\")\n",
    "print (f\"您的BMI數值:{BMI: .2f} kg/m²\")"
   ]
  },
  {
   "cell_type": "code",
   "execution_count": 10,
   "id": "7c3de410",
   "metadata": {},
   "outputs": [
    {
     "name": "stdout",
     "output_type": "stream",
     "text": [
      "您的BMI為：24.03\n"
     ]
    }
   ],
   "source": [
    "# BMI 計算，輸入體重（公斤）和身高（公尺）\n",
    "weight = float(input(\"請輸入體重（公斤）：\"))\n",
    "height = float(input(\"請輸入身高（公尺）：\"))\n",
    "bmi = weight / (height ** 2)\n",
    "print(f\"您的BMI為：{bmi:.2f}\")"
   ]
  }
 ],
 "metadata": {
  "kernelspec": {
   "display_name": "base",
   "language": "python",
   "name": "python3"
  },
  "language_info": {
   "codemirror_mode": {
    "name": "ipython",
    "version": 3
   },
   "file_extension": ".py",
   "mimetype": "text/x-python",
   "name": "python",
   "nbconvert_exporter": "python",
   "pygments_lexer": "ipython3",
   "version": "3.12.9"
  }
 },
 "nbformat": 4,
 "nbformat_minor": 5
}
