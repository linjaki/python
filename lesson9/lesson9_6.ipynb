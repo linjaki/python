{
 "cells": [
  {
   "cell_type": "code",
   "execution_count": null,
   "id": "a928ad8a",
   "metadata": {},
   "outputs": [],
   "source": [
    "import random\n",
    "\n",
    "# 假設純文字檔名為 'names.txt'，每行一個姓名\n",
    "filename = 'names.txt'\n",
    "\n",
    "# 讀取檔案中的所有姓名\n",
    "with open(filename, 'r', encoding='utf-8') as file:\n",
    "    names = file.read().splitlines()\n",
    "\n",
    "# 從姓名列表中隨機抽取3個不同的姓名\n",
    "random_names = random.sample(names, 3)\n",
    "\n",
    "print(random_names)"
   ]
  },
  {
   "cell_type": "code",
   "execution_count": 2,
   "id": "54b3e7e8",
   "metadata": {},
   "outputs": [
    {
     "ename": "NameError",
     "evalue": "name 'random' is not defined",
     "output_type": "error",
     "traceback": [
      "\u001b[31m---------------------------------------------------------------------------\u001b[39m",
      "\u001b[31mNameError\u001b[39m                                 Traceback (most recent call last)",
      "\u001b[36mCell\u001b[39m\u001b[36m \u001b[39m\u001b[32mIn[2]\u001b[39m\u001b[32m, line 6\u001b[39m\n\u001b[32m      3\u001b[39m \u001b[38;5;28;01mwith\u001b[39;00m \u001b[38;5;28mopen\u001b[39m(filename, \u001b[33m'\u001b[39m\u001b[33mr\u001b[39m\u001b[33m'\u001b[39m, encoding=\u001b[33m'\u001b[39m\u001b[33mutf-8\u001b[39m\u001b[33m'\u001b[39m) \u001b[38;5;28;01mas\u001b[39;00m file:\n\u001b[32m      4\u001b[39m     names = file.read().splitlines()\n\u001b[32m----> \u001b[39m\u001b[32m6\u001b[39m random_names = \u001b[43mrandom\u001b[49m.sample(names, \u001b[32m3\u001b[39m)\n\u001b[32m      7\u001b[39m \u001b[38;5;28mprint\u001b[39m(random_names)\n",
      "\u001b[31mNameError\u001b[39m: name 'random' is not defined"
     ]
    }
   ],
   "source": [
    "filename = 'names.txt'\n",
    "\n",
    "with open(filename, 'r', encoding='utf-8') as file:\n",
    "    names = file.read().splitlines()\n",
    "\n",
    "random_names = random.sample(names, 3)\n",
    "print(random_names)"
   ]
  },
  {
   "cell_type": "code",
   "execution_count": 4,
   "id": "8c39a49f",
   "metadata": {},
   "outputs": [
    {
     "name": "stdout",
     "output_type": "stream",
     "text": [
      "隨機抽出的3個姓名： ['蔡至剛', '黃佩芬', '吳昕婷']\n"
     ]
    }
   ],
   "source": [
    "\n",
    "# 讀取檔案並去除換行符號\n",
    "with open(\"names.txt\", encoding='utf-8') as file:\n",
    "    contents: list[str] = [line.strip() for line in file.readlines()]\n",
    "\n",
    "# 從清單中隨機抽取3個姓名\n",
    "random_names = random.sample(contents, 3)\n",
    "\n",
    "print(\"隨機抽出的3個姓名：\", random_names)"
   ]
  },
  {
   "cell_type": "code",
   "execution_count": 5,
   "id": "ffbb4c22",
   "metadata": {},
   "outputs": [
    {
     "ename": "SyntaxError",
     "evalue": "invalid decimal literal (825352154.py, line 1)",
     "output_type": "error",
     "traceback": [
      "  \u001b[36mCell\u001b[39m\u001b[36m \u001b[39m\u001b[32mIn[5]\u001b[39m\u001b[32m, line 1\u001b[39m\n\u001b[31m    \u001b[39m\u001b[31m1.import random\u001b[39m\n     ^\n\u001b[31mSyntaxError\u001b[39m\u001b[31m:\u001b[39m invalid decimal literal\n"
     ]
    }
   ],
   "source": [
    "1.import random\n",
    "- 匯入 Python 內建的 random 模組，裡面有很多用來產生亂數的函式。\n",
    "- 這裡我們會用到 random.sample() 來從列表中隨機抽取不重複的元素。\n",
    "\n",
    "2.with open(\"names.txt\", encoding='utf-8') as file:\n",
    "- 使用 with open 來打開名為 names.txt 的檔案。\n",
    "- encoding='utf-8' 指定檔案的編碼是 UTF-8，確保讀取中文不會亂碼。\n",
    "- with 的好處是讀完檔案後會自動關閉檔案，不需要手動呼叫 file.close()。\n",
    "\n",
    "3. contents: list[str] = [line.strip() for line in file.readlines()]\n",
    "- file.readlines() 會把檔案中每一行讀成一個字串，回傳一個列表（list），每個元素是檔案的一行（包含換行符號 \\n）。\n",
    "- 用串列推導式 [line.strip() for line in ...]，對每一行呼叫 strip()，去除字串前後的空白和換行符號，讓每個姓名乾淨整齊。\n",
    "- contents 就是一個字串列表，裡面每個元素是純淨的姓名。\n",
    "\n",
    "4. random_names = random.sample(contents, 3)\n",
    "- random.sample() 從 contents 這個列表中隨機抽取 3 個不重複的元素。\n",
    "- 這裡的 3 是你想抽取的姓名數量。\n",
    "- 回傳結果是另一個列表 random_names，包含被抽中的 3 個姓名。\n",
    "\n",
    "5. print(\"隨機抽出的3個姓名：\", random_names)\n",
    "- 印出抽取結果，讓你看到隨機選出的 3 個姓名。"
   ]
  },
  {
   "cell_type": "code",
   "execution_count": null,
   "id": "bdf89422",
   "metadata": {},
   "outputs": [
    {
     "name": "stdout",
     "output_type": "stream",
     "text": [
      "隨機抽出的3個姓名： ['李美洋', '陳怡珊', '蔡孟泉']\n"
     ]
    }
   ],
   "source": [
    "import random\n",
    "\n",
    "with open(\"names.txt\", encoding='utf-8') as file:\n",
    "    contents: list[str] = [line.strip() for line in file.readlines()]\n",
    "\n",
    "random_names = random.sample(contents, 3)\n",
    "print(\"隨機抽出的3個姓名：\", random_names)\n"
   ]
  },
  {
   "cell_type": "code",
   "execution_count": 13,
   "id": "260e9076",
   "metadata": {},
   "outputs": [
    {
     "name": "stdout",
     "output_type": "stream",
     "text": [
      "李美洋\n",
      "陳怡珊\n",
      "蔡孟泉\n"
     ]
    }
   ],
   "source": [
    "# 每次 print(name) 都會換行印出一個姓名，讓結果變成隔行排列。\n",
    "\n",
    "for name in random_names:\n",
    "    print(name)"
   ]
  }
 ],
 "metadata": {
  "kernelspec": {
   "display_name": "base",
   "language": "python",
   "name": "python3"
  },
  "language_info": {
   "codemirror_mode": {
    "name": "ipython",
    "version": 3
   },
   "file_extension": ".py",
   "mimetype": "text/x-python",
   "name": "python",
   "nbconvert_exporter": "python",
   "pygments_lexer": "ipython3",
   "version": "3.12.9"
  }
 },
 "nbformat": 4,
 "nbformat_minor": 5
}
