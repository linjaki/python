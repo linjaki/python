{
 "cells": [
  {
   "cell_type": "markdown",
   "id": "b2601127",
   "metadata": {},
   "source": [
    "### 自訂的DataClass"
   ]
  },
  {
   "cell_type": "markdown",
   "id": "ad238c0c",
   "metadata": {},
   "source": [
    "@dataclass：\n",
    "這是 Python 3.7+ 提供的裝飾器，用來簡化類別的定義。\n",
    "只要加上這個裝飾器，Python 會自動幫你產生 __init__、__repr__、__eq__ 等方法。\n",
    "@property：\n",
    "這個裝飾器讓 total 變成一個「唯讀屬性」。功能：直接計算並回傳國文、英文、數學的總分。\n",
    "@average 方法\n",
    "功能-計算三科的平均分數，並四捨五入到小數點後兩位。"
   ]
  },
  {
   "cell_type": "code",
   "execution_count": 1,
   "id": "831ab2b2",
   "metadata": {},
   "outputs": [],
   "source": [
    "from dataclasses import dataclass\n",
    "\n",
    "@dataclass\n",
    "class Student:\n",
    "    name:str\n",
    "    chinese:int\n",
    "    english:int\n",
    "    math:int\n",
    "\n",
    "    @property\n",
    "    def total(self)->int:\n",
    "        return self.chinese + self.english + self.math\n",
    "\n",
    "    def average(self)->float:\n",
    "        return round(self.total / 3.0,ndigits=2)"
   ]
  },
  {
   "cell_type": "code",
   "execution_count": 2,
   "id": "fd671cb1",
   "metadata": {},
   "outputs": [
    {
     "name": "stdout",
     "output_type": "stream",
     "text": [
      "<class '__main__.Student'>\n",
      "robert 89 78 92\n",
      "259\n",
      "86.33\n"
     ]
    }
   ],
   "source": [
    "stu1 = Student(name='robert',chinese=89, english=78, math=92)\n",
    "print(type(stu1))\n",
    "print(stu1.name, stu1.chinese, stu1.english, stu1.math)\n",
    "print(stu1.total)\n",
    "print(stu1.average())"
   ]
  },
  {
   "cell_type": "code",
   "execution_count": 3,
   "id": "fee57f7e",
   "metadata": {},
   "outputs": [
    {
     "name": "stdout",
     "output_type": "stream",
     "text": [
      "<class '__main__.Student'>\n",
      "jenny 76 87 89\n",
      "252\n",
      "84.0\n"
     ]
    }
   ],
   "source": [
    "stu2 = Student(name='jenny',chinese=76, english=87, math=89)\n",
    "print(type(stu2))\n",
    "print(stu2.name, stu2.chinese, stu2.english, stu2.math)\n",
    "print(stu2.total)\n",
    "print(stu2.average())"
   ]
  }
 ],
 "metadata": {
  "kernelspec": {
   "display_name": "base",
   "language": "python",
   "name": "python3"
  },
  "language_info": {
   "codemirror_mode": {
    "name": "ipython",
    "version": 3
   },
   "file_extension": ".py",
   "mimetype": "text/x-python",
   "name": "python",
   "nbconvert_exporter": "python",
   "pygments_lexer": "ipython3",
   "version": "3.12.9"
  }
 },
 "nbformat": 4,
 "nbformat_minor": 5
}
