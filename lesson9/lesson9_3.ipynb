{
 "cells": [
  {
   "cell_type": "code",
   "execution_count": null,
   "id": "8cf8bdf5",
   "metadata": {},
   "outputs": [],
   "source": [
    "### list實體"
   ]
  },
  {
   "cell_type": "code",
   "execution_count": 1,
   "id": "9dc0bda3",
   "metadata": {},
   "outputs": [
    {
     "name": "stdout",
     "output_type": "stream",
     "text": [
      "<class 'list'>\n"
     ]
    }
   ],
   "source": [
    "list1 = [89, 92, 74, 35, 67]\n",
    "print(type(list1))"
   ]
  },
  {
   "cell_type": "code",
   "execution_count": 2,
   "id": "b4e53904",
   "metadata": {},
   "outputs": [
    {
     "data": {
      "text/plain": [
       "35"
      ]
     },
     "execution_count": 2,
     "metadata": {},
     "output_type": "execute_result"
    }
   ],
   "source": [
    "# 內建function\n",
    "max(list1)\n",
    "min(list1)"
   ]
  },
  {
   "cell_type": "code",
   "execution_count": 3,
   "id": "58c4ef64",
   "metadata": {},
   "outputs": [],
   "source": [
    "list1.append(100)"
   ]
  },
  {
   "cell_type": "code",
   "execution_count": 5,
   "id": "27d2f47d",
   "metadata": {},
   "outputs": [],
   "source": [
    "list1.extend([99,98])"
   ]
  },
  {
   "cell_type": "code",
   "execution_count": 6,
   "id": "51e027e2",
   "metadata": {},
   "outputs": [
    {
     "data": {
      "text/plain": [
       "98"
      ]
     },
     "execution_count": 6,
     "metadata": {},
     "output_type": "execute_result"
    }
   ],
   "source": [
    "list1.pop()"
   ]
  },
  {
   "cell_type": "code",
   "execution_count": 7,
   "id": "56d89fd7",
   "metadata": {},
   "outputs": [
    {
     "data": {
      "text/plain": [
       "[89, 92, 74, 35, 67, 99]"
      ]
     },
     "execution_count": 7,
     "metadata": {},
     "output_type": "execute_result"
    }
   ],
   "source": [
    "list1"
   ]
  }
 ],
 "metadata": {
  "kernelspec": {
   "display_name": "base",
   "language": "python",
   "name": "python3"
  },
  "language_info": {
   "codemirror_mode": {
    "name": "ipython",
    "version": 3
   },
   "file_extension": ".py",
   "mimetype": "text/x-python",
   "name": "python",
   "nbconvert_exporter": "python",
   "pygments_lexer": "ipython3",
   "version": "3.12.9"
  }
 },
 "nbformat": 4,
 "nbformat_minor": 5
}
